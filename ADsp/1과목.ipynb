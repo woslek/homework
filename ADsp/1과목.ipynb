{
 "cells": [
  {
   "cell_type": "markdown",
   "id": "826402b2",
   "metadata": {},
   "source": [
    "# 1과목"
   ]
  },
  {
   "cell_type": "markdown",
   "id": "a1fbde11",
   "metadata": {},
   "source": [
    "### 기계학습(머신러닝) 정리\n",
    "\n",
    "- 큰 구분\n",
    "    - 지도학습: 정답(Y, 라벨)이 있음\n",
    "    - 비지도학습: 정답(Y)이 없음\n",
    "- 지도학습의 목적\n",
    "    - 회귀: 연속값 예측\n",
    "        - 예: 선형회귀\n",
    "    - 분류: 범주 예측\n",
    "        - 예: 로지스틱회귀, 판별분석, 나이브베이즈\n",
    "- 지도학습·비지도학습 모두에서 쓰이는 대표 알고리즘\n",
    "    - 의사결정나무\n",
    "    - 랜덤포레스트\n",
    "    - K-NN\n",
    "    - SVM(서포트 벡터 머신)\n",
    "    - 인공신경망\n",
    "    - 앙상블(배깅, 부스팅)\n",
    "- 비지도학습의 대표 과제\n",
    "    - 군집화: 계층적(최단·최장·평균·와드), 비계층적(K-means 등)\n",
    "    - 차원축소: PCA(주성분분석)\n",
    "    - 연관규칙\n",
    "    - 자기조직화지도(SOM)"
   ]
  },
  {
   "cell_type": "markdown",
   "id": "06048f8a",
   "metadata": {},
   "source": [
    "### 데이터\n",
    "\n",
    "정형 - csv , 엑셀 , DB\n",
    "비정형 - sns, 유투브 ,음원\n",
    "반정형 - Html , Xml, json\n",
    "\t\t#메타데이터 포함\n",
    "데이터 상호작용\n",
    "1. 공통 2. 표출  3. 연결  4. 내면\n",
    "\n",
    "암묵지 - 내 레시피 저장\n",
    "형식지 - EX) 요리블로그에 저장\n",
    "\n",
    "D(데이터) . I(정보) . K(지식) . W(지혜)\n",
    "\n",
    "T(테라)-PEZY 데이터 크기 순서\n",
    "\n",
    "DB특징\n",
    "공용- 공동사용\n",
    "통합- 중복되어 있지않음\n",
    "저장- 저장매체 존재\n",
    "변화- 현재 정확한 데이터 유지\n",
    "DB 설계 절차 (개,논,물)\n",
    "1.개념적  2. 논리적 3.물리적 4.요구조건\n"
   ]
  },
  {
   "cell_type": "markdown",
   "id": "934a8337",
   "metadata": {},
   "source": [
    "# 기업 DB \n",
    "\n",
    "OLTP\t\t \t수시로\n",
    "OLAP\t\t\t대화식\n",
    "CRM\t\t\t고객,마케팅\n",
    "SCM\t\t\t공급망 연결\n",
    "ERP\t\t\t자원효율화\n",
    "RTE\t\t\t바른의사\n",
    "BI\t\t\t리포트\n",
    "BA\t\t\t통찰\n",
    "BLOCK CHAIN\t네트워크 참여\n",
    "KMS\t\t\t모든지식을 포함"
   ]
  },
  {
   "cell_type": "code",
   "execution_count": null,
   "id": "bcdaedca",
   "metadata": {},
   "outputs": [],
   "source": []
  }
 ],
 "metadata": {
  "kernelspec": {
   "display_name": "crawl",
   "language": "python",
   "name": "python3"
  },
  "language_info": {
   "name": "python",
   "version": "3.9.21"
  }
 },
 "nbformat": 4,
 "nbformat_minor": 5
}
