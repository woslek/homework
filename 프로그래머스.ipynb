{
 "cells": [
  {
   "cell_type": "code",
   "execution_count": 3,
   "metadata": {},
   "outputs": [
    {
     "ename": "NameError",
     "evalue": "name 'answer' is not defined",
     "output_type": "error",
     "traceback": [
      "\u001b[1;31m---------------------------------------------------------------------------\u001b[0m",
      "\u001b[1;31mNameError\u001b[0m                                 Traceback (most recent call last)",
      "Cell \u001b[1;32mIn[3], line 9\u001b[0m\n\u001b[0;32m      6\u001b[0m     answer \u001b[38;5;241m=\u001b[39m [result]\n\u001b[0;32m      7\u001b[0m     \u001b[38;5;28;01mreturn\u001b[39;00m answer\n\u001b[1;32m----> 9\u001b[0m \u001b[43manswer\u001b[49m\n",
      "\u001b[1;31mNameError\u001b[0m: name 'answer' is not defined"
     ]
    }
   ],
   "source": [
    "def solution(numer1, denom1, numer2, denom2):\n",
    "    num = numer1 * denom2 + numer2 * denom1\n",
    "    den = denom1 * denom2\n",
    "    result = num/den\n",
    "    \n",
    "    answer = [result]\n",
    "    return answer"
   ]
  },
  {
   "cell_type": "code",
   "execution_count": null,
   "metadata": {},
   "outputs": [],
   "source": [
    "\n",
    "\"happy birthday!\"\t\n",
    "\"I love you~\"\t"
   ]
  },
  {
   "cell_type": "code",
   "execution_count": 7,
   "metadata": {},
   "outputs": [
    {
     "data": {
      "text/plain": [
       "30"
      ]
     },
     "execution_count": 7,
     "metadata": {},
     "output_type": "execute_result"
    }
   ],
   "source": [
    "mag = 2*(list(\"happy birthday!\"))\n",
    "len(mag)"
   ]
  },
  {
   "cell_type": "code",
   "execution_count": 20,
   "metadata": {},
   "outputs": [
    {
     "ename": "NameError",
     "evalue": "name 'result' is not defined",
     "output_type": "error",
     "traceback": [
      "\u001b[1;31m---------------------------------------------------------------------------\u001b[0m",
      "\u001b[1;31mNameError\u001b[0m                                 Traceback (most recent call last)",
      "Cell \u001b[1;32mIn[20], line 11\u001b[0m\n\u001b[0;32m      9\u001b[0m     result\u001b[38;5;241m=\u001b[39mnum[::\u001b[38;5;241m-\u001b[39m\u001b[38;5;241m1\u001b[39m]\n\u001b[0;32m     10\u001b[0m     \u001b[38;5;28;01mreturn\u001b[39;00m result \n\u001b[1;32m---> 11\u001b[0m \u001b[38;5;28mprint\u001b[39m(\u001b[43mresult\u001b[49m)\n",
      "\u001b[1;31mNameError\u001b[0m: name 'result' is not defined"
     ]
    }
   ],
   "source": [
    "num_list =[1,2,3,4,5]\n",
    "# print(num_list)\n",
    "# num=str(num_list)\n",
    "# print(num)\n",
    "\n",
    "# type(num)\n",
    "def solution(num_list):\n",
    "    num=str(num_list)\n",
    "    result=num[::-1]\n",
    "    return result \n",
    "print(result)"
   ]
  },
  {
   "cell_type": "code",
   "execution_count": null,
   "metadata": {},
   "outputs": [],
   "source": [
    "import math\n",
    "\n",
    "def solution(n):\n",
    "    sqrt_n = math.sqrt(n)  # n의 제곱근을 구합니다.\n",
    "    if sqrt_n == int(sqrt_n):  # 제곱근이 정수라면 제곱수입니다.\n",
    "        return 1\n",
    "    else:\n",
    "        return 2"
   ]
  },
  {
   "cell_type": "code",
   "execution_count": null,
   "metadata": {},
   "outputs": [],
   "source": [
    "def solution(n):\n",
    "    sqrt_n = n ** 0.5 \n",
    "    if sqrt_n == int(sqrt_n):\n",
    "        return 1\n",
    "    else:\n",
    "        return 2"
   ]
  },
  {
   "cell_type": "code",
   "execution_count": 34,
   "metadata": {},
   "outputs": [
    {
     "name": "stdout",
     "output_type": "stream",
     "text": [
      "[(20, 1), (10, 2), (5, 4), (4, 5), (2, 10), (1, 20)]\n"
     ]
    }
   ],
   "source": [
    "\n",
    "def solution(n):\n",
    "    c=[]\n",
    "    for b in range(1,n+1):\n",
    "        if n%b == 0:\n",
    "            a = n//b\n",
    "            c.append((a,b))\n",
    "            \n",
    "    return(c)\n",
    "        \n",
    "print(solution(20))"
   ]
  },
  {
   "cell_type": "code",
   "execution_count": 35,
   "metadata": {},
   "outputs": [
    {
     "name": "stdout",
     "output_type": "stream",
     "text": [
      "[(20, 1), (10, 2), (5, 4), (4, 5), (2, 10), (1, 20)]\n"
     ]
    },
    {
     "data": {
      "text/plain": [
       "6"
      ]
     },
     "execution_count": 35,
     "metadata": {},
     "output_type": "execute_result"
    }
   ],
   "source": [
    "def solution(n):\n",
    "    pairs = []  # 순서쌍을 저장할 리스트\n",
    "    for b in range(1, n + 1):  # 1부터 n까지 반복\n",
    "        if n % b == 0:         # b가 n의 약수인지 확인\n",
    "            a = n // b         # a를 계산\n",
    "            pairs.append((a, b))  # 순서쌍을 리스트에 추가\n",
    "    return pairs   \n",
    "print(solution(20))\n",
    "len(solution(20))  "
   ]
  },
  {
   "cell_type": "code",
   "execution_count": null,
   "metadata": {},
   "outputs": [],
   "source": [
    "def solution(n):\n",
    "    c = [] \n",
    "    for b in range(1, n + 1): \n",
    "        if n % b == 0:       \n",
    "            a = n // b        \n",
    "            c.append((a, b))  \n",
    "    return len(c)"
   ]
  },
  {
   "cell_type": "code",
   "execution_count": null,
   "metadata": {},
   "outputs": [],
   "source": []
  },
  {
   "cell_type": "code",
   "execution_count": 4,
   "metadata": {},
   "outputs": [
    {
     "name": "stdout",
     "output_type": "stream",
     "text": [
      "1.25\n"
     ]
    }
   ],
   "source": [
    "n1= 1\n",
    "d1 = 2\n",
    "n2=3\n",
    "d2=4\n",
    "\n",
    "n= n1*d2 + n2*d1\n",
    "d= d1*d2\n",
    "\n",
    "print(n/d)\n"
   ]
  },
  {
   "cell_type": "code",
   "execution_count": 11,
   "metadata": {},
   "outputs": [],
   "source": [
    "numbers=[1,2,3,4,5]\n",
    "\n",
    "def solution(numbers):\n",
    "    result=[]\n",
    "    for num in numbers:\n",
    "        result.append (num * 2)\n",
    "        return result\n",
    "\n",
    "    "
   ]
  },
  {
   "cell_type": "code",
   "execution_count": 21,
   "metadata": {},
   "outputs": [
    {
     "name": "stdout",
     "output_type": "stream",
     "text": [
      "7\n"
     ]
    }
   ],
   "source": [
    "array = [1,2,7,11,10]\n",
    "array.sort()\n",
    "print(array[len(array)//2])"
   ]
  },
  {
   "cell_type": "code",
   "execution_count": null,
   "metadata": {},
   "outputs": [],
   "source": []
  },
  {
   "cell_type": "code",
   "execution_count": null,
   "metadata": {},
   "outputs": [],
   "source": []
  },
  {
   "cell_type": "code",
   "execution_count": 9,
   "metadata": {},
   "outputs": [],
   "source": [
    "def solution(numbers,num1,num2):\n",
    "    results = numbers[num1:num2+1]\n",
    "    return results"
   ]
  },
  {
   "cell_type": "code",
   "execution_count": 10,
   "metadata": {},
   "outputs": [
    {
     "name": "stdout",
     "output_type": "stream",
     "text": [
      "[2, 3, 4]\n"
     ]
    }
   ],
   "source": [
    "numbers = [1,2,3,4,5]\n",
    "num1 =1\n",
    "num2= 3\n",
    "print(solution(numbers,num1,num2))"
   ]
  },
  {
   "cell_type": "code",
   "execution_count": null,
   "metadata": {},
   "outputs": [],
   "source": []
  },
  {
   "cell_type": "code",
   "execution_count": 6,
   "metadata": {},
   "outputs": [],
   "source": [
    " answer = []\n",
    "def solution(numbers, num1, num2):\n",
    "        answer = num[num1:num2:1]\n",
    "        \n",
    "    return answer"
   ]
  },
  {
   "cell_type": "code",
   "execution_count": 17,
   "metadata": {},
   "outputs": [],
   "source": [
    "def solution(arr, k):\n",
    "    answer = []\n",
    "    for i in arr:\n",
    "        if k%2==1:\n",
    "            answer.append(i*k)\n",
    "        else:\n",
    "             \n",
    "            answer.append(i + k)\n",
    "    return answer"
   ]
  },
  {
   "cell_type": "code",
   "execution_count": 18,
   "metadata": {},
   "outputs": [
    {
     "name": "stdout",
     "output_type": "stream",
     "text": [
      "[3, 6, 9, 300, 297, 294]\n"
     ]
    }
   ],
   "source": [
    "print(solution([1, 2, 3, 100, 99, 98],\t3))"
   ]
  },
  {
   "cell_type": "code",
   "execution_count": 20,
   "metadata": {},
   "outputs": [
    {
     "name": "stdout",
     "output_type": "stream",
     "text": [
      "n: 5, info: [2, 1, 1, 1, 0, 0, 0, 0, 0, 0, 0] -> result: [0, 0, 0, 0, 0, 0, 0, 0, 0, 0, 0]\n",
      "n: 1, info: [1, 0, 0, 0, 0, 0, 0, 0, 0, 0, 0] -> result: [0, 0, 0, 0, 0, 0, 0, 0, 0, 0, 0]\n",
      "n: 9, info: [0, 0, 1, 2, 0, 1, 1, 1, 1, 1, 1] -> result: [0, 0, 0, 0, 0, 0, 0, 0, 0, 0, 0]\n",
      "n: 10, info: [0, 0, 0, 0, 0, 0, 0, 0, 3, 4, 3] -> result: [0, 0, 0, 0, 0, 0, 0, 0, 0, 0, 0]\n"
     ]
    }
   ],
   "source": [
    "def transform_info(n, info):\n",
    "    # 변환 규칙에 따른 result 계산\n",
    "    result = []\n",
    "\n",
    "    # info의 각 숫자를 분석하여 result 생성\n",
    "    for value in info:\n",
    "        if value <= 2:\n",
    "            result.append(0)\n",
    "        elif value == 1:\n",
    "            result.append(2)\n",
    "        elif value == 0:\n",
    "            result.append(1)\n",
    "        else:\n",
    "            result.append(0)  # 예외 처리 값\n",
    "\n",
    "    return result\n",
    "\n",
    "# 테스트 데이터\n",
    "inputs = [\n",
    "    (5, [2, 1, 1, 1, 0, 0, 0, 0, 0, 0, 0]),\n",
    "    (1, [1, 0, 0, 0, 0, 0, 0, 0, 0, 0, 0]),\n",
    "    (9, [0, 0, 1, 2, 0, 1, 1, 1, 1, 1, 1]),\n",
    "    (10, [0, 0, 0, 0, 0, 0, 0, 0, 3, 4, 3]),\n",
    "]\n",
    "\n",
    "# 결과 출력\n",
    "for n, info in inputs:\n",
    "    result = transform_info(n, info)\n",
    "    print(f\"n: {n}, info: {info} -> result: {result}\")"
   ]
  },
  {
   "cell_type": "code",
   "execution_count": null,
   "metadata": {},
   "outputs": [],
   "source": [
    "\n",
    "def solution(array, height):\n",
    "    count = 0\n",
    "    for h in array:\n",
    "        if h > height:\n",
    "            count +=1\n",
    "    return count\n",
    "\n",
    "\n"
   ]
  },
  {
   "cell_type": "code",
   "execution_count": 13,
   "metadata": {},
   "outputs": [],
   "source": [
    "numbers =\t[0, 31, 24, 10, 1, 9]\n",
    "def solution(numbers):\n",
    "    numbers.sort()\n",
    "    mx=(numbers[-1] * numbers[-2])\n",
    "    return mx"
   ]
  },
  {
   "cell_type": "code",
   "execution_count": 12,
   "metadata": {},
   "outputs": [
    {
     "ename": "NameError",
     "evalue": "name 'mx' is not defined",
     "output_type": "error",
     "traceback": [
      "\u001b[1;31m---------------------------------------------------------------------------\u001b[0m",
      "\u001b[1;31mNameError\u001b[0m                                 Traceback (most recent call last)",
      "Cell \u001b[1;32mIn[12], line 1\u001b[0m\n\u001b[1;32m----> 1\u001b[0m \u001b[43mmx\u001b[49m\n",
      "\u001b[1;31mNameError\u001b[0m: name 'mx' is not defined"
     ]
    }
   ],
   "source": [
    "mx"
   ]
  },
  {
   "cell_type": "code",
   "execution_count": null,
   "metadata": {},
   "outputs": [],
   "source": [
    "가장 긴변의 길이 < 엑스 길이 + 와이길이\n",
    "만들수있으면 1\n",
    "없다면 2 \n"
   ]
  },
  {
   "cell_type": "code",
   "execution_count": 22,
   "metadata": {},
   "outputs": [],
   "source": [
    "sides =[3, 6, 2]\n",
    "\n",
    "def solution(sides):\n",
    "    sides.sort()\n",
    "    l=sides[2]\n",
    "    x=sides[1]\n",
    "    y=sides[0]\n",
    "\n",
    "    if l < x+y:\n",
    "        return 1\n",
    "    else:\n",
    "        return 2"
   ]
  },
  {
   "cell_type": "code",
   "execution_count": 23,
   "metadata": {},
   "outputs": [
    {
     "name": "stdout",
     "output_type": "stream",
     "text": [
      "2\n"
     ]
    }
   ],
   "source": [
    "print(solution(sides))"
   ]
  },
  {
   "cell_type": "code",
   "execution_count": null,
   "metadata": {},
   "outputs": [],
   "source": []
  },
  {
   "cell_type": "code",
   "execution_count": null,
   "metadata": {},
   "outputs": [],
   "source": []
  },
  {
   "cell_type": "code",
   "execution_count": null,
   "metadata": {},
   "outputs": [],
   "source": []
  },
  {
   "cell_type": "code",
   "execution_count": null,
   "metadata": {},
   "outputs": [],
   "source": []
  },
  {
   "cell_type": "code",
   "execution_count": null,
   "metadata": {},
   "outputs": [],
   "source": []
  },
  {
   "cell_type": "code",
   "execution_count": null,
   "metadata": {},
   "outputs": [],
   "source": []
  }
 ],
 "metadata": {
  "kernelspec": {
   "display_name": "study",
   "language": "python",
   "name": "python3"
  },
  "language_info": {
   "codemirror_mode": {
    "name": "ipython",
    "version": 3
   },
   "file_extension": ".py",
   "mimetype": "text/x-python",
   "name": "python",
   "nbconvert_exporter": "python",
   "pygments_lexer": "ipython3",
   "version": "3.12.8"
  }
 },
 "nbformat": 4,
 "nbformat_minor": 2
}
