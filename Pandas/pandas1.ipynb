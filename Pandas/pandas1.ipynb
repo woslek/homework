{
 "cells": [
  {
   "cell_type": "markdown",
   "id": "37fdf6df",
   "metadata": {},
   "source": [
    "### Pands 이해"
   ]
  },
  {
   "cell_type": "code",
   "execution_count": 1,
   "id": "0238c654",
   "metadata": {},
   "outputs": [],
   "source": [
    "import pandas as pd\n"
   ]
  },
  {
   "cell_type": "code",
   "execution_count": 2,
   "id": "da1151f0",
   "metadata": {},
   "outputs": [],
   "source": [
    "s = pd.Series([9904312, 3448737, 2890451, 2466052],\n",
    "              index=[\"서울\", \"부산\", \"인천\", \"대구\"])"
   ]
  },
  {
   "cell_type": "code",
   "execution_count": 3,
   "id": "be7ed3b0",
   "metadata": {},
   "outputs": [
    {
     "data": {
      "text/plain": [
       "서울    9904312\n",
       "부산    3448737\n",
       "인천    2890451\n",
       "대구    2466052\n",
       "dtype: int64"
      ]
     },
     "execution_count": 3,
     "metadata": {},
     "output_type": "execute_result"
    }
   ],
   "source": [
    "s"
   ]
  },
  {
   "cell_type": "code",
   "execution_count": 4,
   "id": "02547649",
   "metadata": {},
   "outputs": [
    {
     "data": {
      "text/plain": [
       "0    10\n",
       "1    11\n",
       "2    12\n",
       "3    13\n",
       "dtype: int64"
      ]
     },
     "execution_count": 4,
     "metadata": {},
     "output_type": "execute_result"
    }
   ],
   "source": [
    "pd.Series(range(10,14))"
   ]
  },
  {
   "cell_type": "code",
   "execution_count": 5,
   "id": "002d100a",
   "metadata": {},
   "outputs": [
    {
     "data": {
      "text/plain": [
       "Index(['서울', '부산', '인천', '대구'], dtype='object')"
      ]
     },
     "execution_count": 5,
     "metadata": {},
     "output_type": "execute_result"
    }
   ],
   "source": [
    "s.index"
   ]
  },
  {
   "cell_type": "code",
   "execution_count": 6,
   "id": "d9c25760",
   "metadata": {},
   "outputs": [
    {
     "data": {
      "text/plain": [
       "array([9904312, 3448737, 2890451, 2466052], dtype=int64)"
      ]
     },
     "execution_count": 6,
     "metadata": {},
     "output_type": "execute_result"
    }
   ],
   "source": [
    "s.values"
   ]
  },
  {
   "cell_type": "code",
   "execution_count": null,
   "id": "f3655540",
   "metadata": {},
   "outputs": [
    {
     "data": {
      "text/plain": [
       "도시\n",
       "서울    9904312\n",
       "부산    3448737\n",
       "인천    2890451\n",
       "대구    2466052\n",
       "Name: 인구, dtype: int64"
      ]
     },
     "execution_count": 7,
     "metadata": {},
     "output_type": "execute_result"
    }
   ],
   "source": [
    "s.name = \"인구\" # Series data name\n",
    "s.index.name = \"도시\" # index data name\n",
    "s"
   ]
  },
  {
   "cell_type": "markdown",
   "id": "dfde95ec",
   "metadata": {},
   "source": [
    "### Series 인덱싱"
   ]
  },
  {
   "cell_type": "code",
   "execution_count": 8,
   "id": "52c2d84b",
   "metadata": {},
   "outputs": [
    {
     "name": "stderr",
     "output_type": "stream",
     "text": [
      "C:\\Users\\wosle\\AppData\\Local\\Temp\\ipykernel_27472\\436193786.py:1: FutureWarning: Series.__getitem__ treating keys as positions is deprecated. In a future version, integer keys will always be treated as labels (consistent with DataFrame behavior). To access a value by position, use `ser.iloc[pos]`\n",
      "  s[1] , s[\"부산\"]\n"
     ]
    },
    {
     "data": {
      "text/plain": [
       "(3448737, 3448737)"
      ]
     },
     "execution_count": 8,
     "metadata": {},
     "output_type": "execute_result"
    }
   ],
   "source": [
    "s[1] , s[\"부산\"]"
   ]
  },
  {
   "cell_type": "code",
   "execution_count": 9,
   "id": "2da0fde1",
   "metadata": {},
   "outputs": [
    {
     "name": "stderr",
     "output_type": "stream",
     "text": [
      "C:\\Users\\wosle\\AppData\\Local\\Temp\\ipykernel_27472\\4250119398.py:1: FutureWarning: Series.__getitem__ treating keys as positions is deprecated. In a future version, integer keys will always be treated as labels (consistent with DataFrame behavior). To access a value by position, use `ser.iloc[pos]`\n",
      "  s[3] , s[\"대구\"]\n"
     ]
    },
    {
     "data": {
      "text/plain": [
       "(2466052, 2466052)"
      ]
     },
     "execution_count": 9,
     "metadata": {},
     "output_type": "execute_result"
    }
   ],
   "source": [
    "s[3] , s[\"대구\"]"
   ]
  },
  {
   "cell_type": "code",
   "execution_count": 10,
   "id": "8defb06b",
   "metadata": {},
   "outputs": [
    {
     "name": "stderr",
     "output_type": "stream",
     "text": [
      "C:\\Users\\wosle\\AppData\\Local\\Temp\\ipykernel_27472\\181403017.py:1: FutureWarning: Series.__getitem__ treating keys as positions is deprecated. In a future version, integer keys will always be treated as labels (consistent with DataFrame behavior). To access a value by position, use `ser.iloc[pos]`\n",
      "  s[[0,3,1]]\n"
     ]
    },
    {
     "data": {
      "text/plain": [
       "도시\n",
       "서울    9904312\n",
       "대구    2466052\n",
       "부산    3448737\n",
       "Name: 인구, dtype: int64"
      ]
     },
     "execution_count": 10,
     "metadata": {},
     "output_type": "execute_result"
    }
   ],
   "source": [
    "s[[0,3,1]]"
   ]
  },
  {
   "cell_type": "code",
   "execution_count": 11,
   "id": "942657f1",
   "metadata": {},
   "outputs": [
    {
     "data": {
      "text/plain": [
       "도시\n",
       "서울    9904312\n",
       "대구    2466052\n",
       "부산    3448737\n",
       "Name: 인구, dtype: int64"
      ]
     },
     "execution_count": 11,
     "metadata": {},
     "output_type": "execute_result"
    }
   ],
   "source": [
    "s[[\"서울\",\"대구\",\"부산\"]]"
   ]
  },
  {
   "cell_type": "code",
   "execution_count": null,
   "id": "95df65e0",
   "metadata": {},
   "outputs": [
    {
     "data": {
      "text/plain": [
       "도시\n",
       "부산    3448737\n",
       "인천    2890451\n",
       "Name: 인구, dtype: int64"
      ]
     },
     "execution_count": 12,
     "metadata": {},
     "output_type": "execute_result"
    }
   ],
   "source": [
    "s[(250e4 < s) & (s < 500e4)]  # 조건도 걸수 있다."
   ]
  },
  {
   "cell_type": "code",
   "execution_count": null,
   "id": "ba153763",
   "metadata": {},
   "outputs": [
    {
     "data": {
      "text/plain": [
       "도시\n",
       "부산    3448737\n",
       "인천    2890451\n",
       "Name: 인구, dtype: int64"
      ]
     },
     "execution_count": 13,
     "metadata": {},
     "output_type": "execute_result"
    }
   ],
   "source": [
    "s[1:3] # 두번째(1) 부터 세번째(2)까지 ! 네번째 미포함"
   ]
  },
  {
   "cell_type": "code",
   "execution_count": null,
   "id": "c9628d81",
   "metadata": {},
   "outputs": [
    {
     "data": {
      "text/plain": [
       "도시\n",
       "부산    3448737\n",
       "인천    2890451\n",
       "대구    2466052\n",
       "Name: 인구, dtype: int64"
      ]
     },
     "execution_count": 14,
     "metadata": {},
     "output_type": "execute_result"
    }
   ],
   "source": [
    "s[\"부산\":\"대구\"] # 부산에서 대구(대구도 포함)"
   ]
  },
  {
   "cell_type": "code",
   "execution_count": null,
   "id": "57a85c34",
   "metadata": {},
   "outputs": [
    {
     "data": {
      "text/plain": [
       "a    0\n",
       "b    1\n",
       "c    2\n",
       "dtype: int64"
      ]
     },
     "execution_count": 16,
     "metadata": {},
     "output_type": "execute_result"
    }
   ],
   "source": [
    "s0 = pd.Series(range(3), index=[\"a\", \"b\", \"c\"]) # 인덱스 a,b,c \n",
    "s0"
   ]
  },
  {
   "cell_type": "markdown",
   "id": "b87a945c",
   "metadata": {},
   "source": [
    "# Series 의 딕셔너리 자료형\n",
    "### in 사용가능 items매서드 사용으로 for 루프로 key , value 접근가능"
   ]
  },
  {
   "cell_type": "code",
   "execution_count": 17,
   "id": "f2d8f44a",
   "metadata": {},
   "outputs": [
    {
     "name": "stdout",
     "output_type": "stream",
     "text": [
      "서울 = 9904312\n",
      "부산 = 3448737\n",
      "인천 = 2890451\n",
      "대구 = 2466052\n"
     ]
    }
   ],
   "source": [
    "for k, v in s.items():\n",
    "    print(\"%s = %d\" % (k, v))"
   ]
  },
  {
   "cell_type": "code",
   "execution_count": null,
   "id": "e2d21650",
   "metadata": {},
   "outputs": [
    {
     "data": {
      "text/plain": [
       "서울    9631482\n",
       "부산    3393191\n",
       "인천    2632035\n",
       "대전    1490158\n",
       "dtype: int64"
      ]
     },
     "execution_count": 18,
     "metadata": {},
     "output_type": "execute_result"
    }
   ],
   "source": [
    "s2 = pd.Series({\"서울\": 9631482, \"부산\": 3393191, \"인천\": 2632035, \"대전\": 1490158}) # 대전 포함한 자료\n",
    "s2\n",
    "# 딕셔너리는 애초에 순서 보장이 안된다"
   ]
  },
  {
   "cell_type": "code",
   "execution_count": null,
   "id": "27596bab",
   "metadata": {},
   "outputs": [
    {
     "data": {
      "text/plain": [
       "부산    3393191\n",
       "서울    9631482\n",
       "인천    2632035\n",
       "대전    1490158\n",
       "dtype: int64"
      ]
     },
     "execution_count": 21,
     "metadata": {},
     "output_type": "execute_result"
    }
   ],
   "source": [
    "s2 = pd.Series({\"서울\": 9631482, \"부산\": 3393191, \"인천\": 2632035, \"대전\": 1490158},\n",
    "               index=[\"부산\", \"서울\", \"인천\", \"대전\"]) # 인덱스를 리스트로 저장\n",
    "s2"
   ]
  },
  {
   "cell_type": "markdown",
   "id": "da23e9c0",
   "metadata": {},
   "source": [
    "### 인덱스 기반 연산"
   ]
  },
  {
   "cell_type": "code",
   "execution_count": null,
   "id": "1c3b9a04",
   "metadata": {},
   "outputs": [
    {
     "data": {
      "text/plain": [
       "대구         NaN\n",
       "대전         NaN\n",
       "부산     55546.0\n",
       "서울    272830.0\n",
       "인천    258416.0\n",
       "dtype: float64"
      ]
     },
     "execution_count": 22,
     "metadata": {},
     "output_type": "execute_result"
    }
   ],
   "source": [
    "ds = s - s2 \n",
    "ds"
   ]
  },
  {
   "cell_type": "code",
   "execution_count": null,
   "id": "90eb012d",
   "metadata": {},
   "outputs": [
    {
     "data": {
      "text/plain": [
       "array([9904312, 3448737, 2890451, 2466052], dtype=int64)"
      ]
     },
     "execution_count": 33,
     "metadata": {},
     "output_type": "execute_result"
    }
   ],
   "source": [
    "s.values"
   ]
  },
  {
   "cell_type": "code",
   "execution_count": 29,
   "id": "c2bc4440",
   "metadata": {},
   "outputs": [
    {
     "data": {
      "text/plain": [
       "array([3393191, 9631482, 2632035, 1490158], dtype=int64)"
      ]
     },
     "execution_count": 29,
     "metadata": {},
     "output_type": "execute_result"
    }
   ],
   "source": [
    "s2.values"
   ]
  },
  {
   "cell_type": "code",
   "execution_count": 30,
   "id": "568411ab",
   "metadata": {},
   "outputs": [
    {
     "data": {
      "text/plain": [
       "array([ 6511121, -6182745,   258416,   975894], dtype=int64)"
      ]
     },
     "execution_count": 30,
     "metadata": {},
     "output_type": "execute_result"
    }
   ],
   "source": [
    "s.values - s2.values"
   ]
  },
  {
   "cell_type": "code",
   "execution_count": 31,
   "id": "d694673a",
   "metadata": {},
   "outputs": [
    {
     "data": {
      "text/plain": [
       "부산     55546.0\n",
       "서울    272830.0\n",
       "인천    258416.0\n",
       "dtype: float64"
      ]
     },
     "execution_count": 31,
     "metadata": {},
     "output_type": "execute_result"
    }
   ],
   "source": [
    "ds[ds.notnull()]"
   ]
  },
  {
   "cell_type": "code",
   "execution_count": 34,
   "id": "5435ca1c",
   "metadata": {},
   "outputs": [
    {
     "data": {
      "text/plain": [
       "부산    1.636984\n",
       "서울    2.832690\n",
       "인천    9.818107\n",
       "dtype: float64"
      ]
     },
     "execution_count": 34,
     "metadata": {},
     "output_type": "execute_result"
    }
   ],
   "source": [
    "# 인구 증가율\n",
    "rs = (s - s2) / s2 * 100\n",
    "rs = rs[rs.notnull()]\n",
    "rs"
   ]
  },
  {
   "cell_type": "markdown",
   "id": "1f854869",
   "metadata": {},
   "source": [
    "### 데이터의 갱신,추가,삭제"
   ]
  },
  {
   "cell_type": "code",
   "execution_count": 35,
   "id": "291eaada",
   "metadata": {},
   "outputs": [
    {
     "data": {
      "text/plain": [
       "부산    1.630000\n",
       "서울    2.832690\n",
       "인천    9.818107\n",
       "dtype: float64"
      ]
     },
     "execution_count": 35,
     "metadata": {},
     "output_type": "execute_result"
    }
   ],
   "source": [
    "rs[\"부산\"] = 1.63\n",
    "rs"
   ]
  },
  {
   "cell_type": "code",
   "execution_count": 36,
   "id": "2280766c",
   "metadata": {},
   "outputs": [
    {
     "data": {
      "text/plain": [
       "부산    1.630000\n",
       "서울    2.832690\n",
       "인천    9.818107\n",
       "대구    1.410000\n",
       "dtype: float64"
      ]
     },
     "execution_count": 36,
     "metadata": {},
     "output_type": "execute_result"
    }
   ],
   "source": [
    "rs[\"대구\"] = 1.41\n",
    "rs"
   ]
  },
  {
   "cell_type": "code",
   "execution_count": 39,
   "id": "900e08e6",
   "metadata": {},
   "outputs": [],
   "source": [
    "rs[\"서울\"] = 2.832690"
   ]
  },
  {
   "cell_type": "code",
   "execution_count": 40,
   "id": "5fd769cd",
   "metadata": {},
   "outputs": [
    {
     "data": {
      "text/plain": [
       "부산    1.630000\n",
       "인천    9.818107\n",
       "대구    1.410000\n",
       "서울    2.832690\n",
       "dtype: float64"
      ]
     },
     "execution_count": 40,
     "metadata": {},
     "output_type": "execute_result"
    }
   ],
   "source": [
    "rs"
   ]
  },
  {
   "cell_type": "code",
   "execution_count": null,
   "id": "b60c879d",
   "metadata": {},
   "outputs": [
    {
     "data": {
      "text/plain": [
       "부산    1.630000\n",
       "인천    9.818107\n",
       "대구    1.410000\n",
       "dtype: float64"
      ]
     },
     "execution_count": 41,
     "metadata": {},
     "output_type": "execute_result"
    }
   ],
   "source": [
    "del rs[\"서울\"] # rs에 이미 지워져있음\n",
    "rs"
   ]
  },
  {
   "cell_type": "code",
   "execution_count": 1,
   "id": "1a28d62f",
   "metadata": {},
   "outputs": [],
   "source": [
    "# 연습문제\n",
    "# (1) 임의로 두 개의 시리즈 객체를 만든다. 모두 문자열 인덱스를 가져야 하며 \n",
    "# 두 시리즈에 공통적으로 포함되지 않는 라벨이 있어야 한다.\n",
    "# (2) 위에서 만든 두 시리즈 객체를 이용하여 사칙 연산을 한다."
   ]
  },
  {
   "cell_type": "code",
   "execution_count": 43,
   "id": "6138eede",
   "metadata": {},
   "outputs": [],
   "source": [
    "a = pd.Series([5000,8000,9000,4000],index=[\"만두\",\"김치찌개\",\"간짜장\",\"순두부\"])\n",
    "b = pd.Series([5000,8000,9000,2000],index=[\"만두\",\"김치찌개\",\"간짜장\",\"핫바\"])\n"
   ]
  },
  {
   "cell_type": "code",
   "execution_count": 44,
   "id": "eeafa7fa",
   "metadata": {},
   "outputs": [
    {
     "data": {
      "text/plain": [
       "만두      5000\n",
       "김치찌개    8000\n",
       "간짜장     9000\n",
       "순두부     4000\n",
       "dtype: int64"
      ]
     },
     "execution_count": 44,
     "metadata": {},
     "output_type": "execute_result"
    }
   ],
   "source": [
    "a"
   ]
  },
  {
   "cell_type": "code",
   "execution_count": 45,
   "id": "59968253",
   "metadata": {},
   "outputs": [
    {
     "data": {
      "text/plain": [
       "만두      5000\n",
       "김치찌개    8000\n",
       "간짜장     9000\n",
       "핫바      2000\n",
       "dtype: int64"
      ]
     },
     "execution_count": 45,
     "metadata": {},
     "output_type": "execute_result"
    }
   ],
   "source": [
    "b"
   ]
  },
  {
   "cell_type": "code",
   "execution_count": 46,
   "id": "039cc0cc",
   "metadata": {},
   "outputs": [
    {
     "data": {
      "text/plain": [
       "간짜장     0.0\n",
       "김치찌개    0.0\n",
       "만두      0.0\n",
       "순두부     NaN\n",
       "핫바      NaN\n",
       "dtype: float64"
      ]
     },
     "execution_count": 46,
     "metadata": {},
     "output_type": "execute_result"
    }
   ],
   "source": [
    "a-b"
   ]
  },
  {
   "cell_type": "code",
   "execution_count": 47,
   "id": "9ae5a453",
   "metadata": {},
   "outputs": [
    {
     "data": {
      "text/plain": [
       "간짜장     18000.0\n",
       "김치찌개    16000.0\n",
       "만두      10000.0\n",
       "순두부         NaN\n",
       "핫바          NaN\n",
       "dtype: float64"
      ]
     },
     "execution_count": 47,
     "metadata": {},
     "output_type": "execute_result"
    }
   ],
   "source": [
    "a+b"
   ]
  }
 ],
 "metadata": {
  "kernelspec": {
   "display_name": "crawl",
   "language": "python",
   "name": "python3"
  },
  "language_info": {
   "codemirror_mode": {
    "name": "ipython",
    "version": 3
   },
   "file_extension": ".py",
   "mimetype": "text/x-python",
   "name": "python",
   "nbconvert_exporter": "python",
   "pygments_lexer": "ipython3",
   "version": "3.9.21"
  }
 },
 "nbformat": 4,
 "nbformat_minor": 5
}
