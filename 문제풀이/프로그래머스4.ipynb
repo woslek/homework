{
 "cells": [
  {
   "cell_type": "markdown",
   "metadata": {},
   "source": [
    "### (19)2차원으로 만들기\n",
    "### 리스트 컴프리헨션 자동 append 개념"
   ]
  },
  {
   "cell_type": "code",
   "execution_count": null,
   "metadata": {},
   "outputs": [],
   "source": [
    "# 정수 리스트 에서 n 차원 배열로\n",
    "# 흠\n",
    "# "
   ]
  },
  {
   "cell_type": "code",
   "execution_count": 38,
   "metadata": {},
   "outputs": [],
   "source": [
    "num_list = [1, 2, 3, 4, 5, 6, 7, 8]\n",
    "n=2\n",
    "a=len(num_list) // n "
   ]
  },
  {
   "cell_type": "code",
   "execution_count": 45,
   "metadata": {},
   "outputs": [],
   "source": [
    "def solution(num_list, n):\n",
    "    answer = []\n",
    "    # 그럼 리스트 길이를 n으로 나눠?\n",
    "    # 그리고 나눈 몫 만큼의 num_list를 나눠서 리스트 \n",
    "    # 뭔소리지?\n",
    "    a=len(num_list) // n \n",
    "    for i in range(a):\n",
    "        answer.append(num_list[i*n:(i+1)*n]) # 시작부분도 n값씩 늘려준다\n",
    "    # num_list[0:n:] + num_list[n:]\n",
    "    # 그럼 i번째 에서 i * n 번째까지 구한수를 더한다\n",
    "\n",
    "\n",
    "\n",
    "    return answer"
   ]
  },
  {
   "cell_type": "code",
   "execution_count": 44,
   "metadata": {},
   "outputs": [
    {
     "data": {
      "text/plain": [
       "[[], [1, 2], [3, 4], [5, 6], [7, 8]]"
      ]
     },
     "execution_count": 44,
     "metadata": {},
     "output_type": "execute_result"
    }
   ],
   "source": [
    "solution(num_list, n) # 앞에 빈리스트를 추가해줘서 그러니 answer 초기상태 설정"
   ]
  },
  {
   "cell_type": "code",
   "execution_count": 34,
   "metadata": {},
   "outputs": [
    {
     "data": {
      "text/plain": [
       "[5, 6]"
      ]
     },
     "execution_count": 34,
     "metadata": {},
     "output_type": "execute_result"
    }
   ],
   "source": [
    "num_list[4:6:] # 아 "
   ]
  },
  {
   "cell_type": "code",
   "execution_count": 35,
   "metadata": {},
   "outputs": [
    {
     "data": {
      "text/plain": [
       "[1, 2]"
      ]
     },
     "execution_count": 35,
     "metadata": {},
     "output_type": "execute_result"
    }
   ],
   "source": [
    "num_list[0:2:]"
   ]
  },
  {
   "cell_type": "code",
   "execution_count": 36,
   "metadata": {},
   "outputs": [
    {
     "data": {
      "text/plain": [
       "[3, 4]"
      ]
     },
     "execution_count": 36,
     "metadata": {},
     "output_type": "execute_result"
    }
   ],
   "source": [
    "num_list[2:4:] # 뭔가 n값이 많이들어간다"
   ]
  },
  {
   "cell_type": "code",
   "execution_count": 46,
   "metadata": {},
   "outputs": [],
   "source": [
    "def solution(num_list, n):\n",
    "    # num_list를 n개씩 나누어 2차원 배열로 만듦\n",
    "    return [num_list[i:i+n] for i in range(0, len(num_list), n)]\n",
    "    # 뭐지 여태 안써봤지만 자동으로 append가 되는건가?\n",
    "    # 와 \n",
    "    "
   ]
  },
  {
   "cell_type": "code",
   "execution_count": 47,
   "metadata": {},
   "outputs": [
    {
     "data": {
      "text/plain": [
       "[[1, 2], [3, 4], [5, 6], [7, 8]]"
      ]
     },
     "execution_count": 47,
     "metadata": {},
     "output_type": "execute_result"
    }
   ],
   "source": [
    "solution(num_list, n)"
   ]
  },
  {
   "cell_type": "markdown",
   "metadata": {},
   "source": [
    "### k의 개수 sum 사용 count  사용"
   ]
  },
  {
   "cell_type": "code",
   "execution_count": null,
   "metadata": {},
   "outputs": [],
   "source": [
    "# i,j,k\n",
    "# i 에서 j 까지 숫자중\n",
    "# k가 몇번 들어가는지 리턴\n",
    "# i 에서 j 까지 리스트\n",
    "# 그안에 k 가 있는지 확인\n",
    "# 있다면 answer 에 +=1\n"
   ]
  },
  {
   "cell_type": "code",
   "execution_count": 48,
   "metadata": {},
   "outputs": [],
   "source": [
    "i=1\n",
    "j=13\n",
    "k=1"
   ]
  },
  {
   "cell_type": "code",
   "execution_count": 58,
   "metadata": {},
   "outputs": [
    {
     "data": {
      "text/plain": [
       "21"
      ]
     },
     "execution_count": 58,
     "metadata": {},
     "output_type": "execute_result"
    }
   ],
   "source": [
    "20+k\n",
    "#뭐지.."
   ]
  },
  {
   "cell_type": "code",
   "execution_count": 49,
   "metadata": {},
   "outputs": [
    {
     "data": {
      "text/plain": [
       "range(1, 14)"
      ]
     },
     "execution_count": 49,
     "metadata": {},
     "output_type": "execute_result"
    }
   ],
   "source": [
    "range(i,j+1)"
   ]
  },
  {
   "cell_type": "code",
   "execution_count": 50,
   "metadata": {},
   "outputs": [],
   "source": [
    "ik_l = []\n",
    "for a in range(i,j+1):\n",
    "    ik_l.append(a)"
   ]
  },
  {
   "cell_type": "code",
   "execution_count": 51,
   "metadata": {},
   "outputs": [
    {
     "data": {
      "text/plain": [
       "[1, 2, 3, 4, 5, 6, 7, 8, 9, 10, 11, 12, 13]"
      ]
     },
     "execution_count": 51,
     "metadata": {},
     "output_type": "execute_result"
    }
   ],
   "source": [
    "ik_l"
   ]
  },
  {
   "cell_type": "code",
   "execution_count": 63,
   "metadata": {},
   "outputs": [],
   "source": [
    "def solution(i, j, k):\n",
    "    answer = 0\n",
    "    # i 에서 k 까지의 리스트\n",
    "    ik_l = []\n",
    "    for a in range(i,j+1):\n",
    "        ik_l.append(a)\n",
    "    # 리스트에 k 가 있는지    \n",
    "    if str(k) in ik_l:\n",
    "        answer +=1\n",
    "        return answer"
   ]
  },
  {
   "cell_type": "code",
   "execution_count": 62,
   "metadata": {},
   "outputs": [
    {
     "data": {
      "text/plain": [
       "1"
      ]
     },
     "execution_count": 62,
     "metadata": {},
     "output_type": "execute_result"
    }
   ],
   "source": [
    "solution(i, j, k) # 오류 k 가 아니라 k0 k1 k2 도 카운트해야함 \n",
    "# 1k 2k 3k 이것도 확인해야하는 코드 있어야됨\n",
    "\n",
    "\n",
    "#어떻게함? count 를써야되나?\n"
   ]
  },
  {
   "cell_type": "code",
   "execution_count": 70,
   "metadata": {},
   "outputs": [],
   "source": [
    "def solution(i, j, k):\n",
    "    answer = 0\n",
    "    # i 에서 k 까지\n",
    "    for a in range(i,j+1):\n",
    "        # str(a) 가 k를 가지고있다면 \n",
    "        # answer 에 += 1 되나?\n",
    "        answer += str(a).count(str(k))\n",
    "    return answer"
   ]
  },
  {
   "cell_type": "code",
   "execution_count": 67,
   "metadata": {},
   "outputs": [
    {
     "ename": "AttributeError",
     "evalue": "'int' object has no attribute 'count'",
     "output_type": "error",
     "traceback": [
      "\u001b[1;31m---------------------------------------------------------------------------\u001b[0m",
      "\u001b[1;31mAttributeError\u001b[0m                            Traceback (most recent call last)",
      "Cell \u001b[1;32mIn[67], line 1\u001b[0m\n\u001b[1;32m----> 1\u001b[0m \u001b[43msolution\u001b[49m\u001b[43m(\u001b[49m\u001b[43mi\u001b[49m\u001b[43m,\u001b[49m\u001b[43m \u001b[49m\u001b[43mj\u001b[49m\u001b[43m,\u001b[49m\u001b[43m \u001b[49m\u001b[43mk\u001b[49m\u001b[43m)\u001b[49m\n",
      "Cell \u001b[1;32mIn[66], line 7\u001b[0m, in \u001b[0;36msolution\u001b[1;34m(i, j, k)\u001b[0m\n\u001b[0;32m      3\u001b[0m \u001b[38;5;66;03m# i 에서 k 까지\u001b[39;00m\n\u001b[0;32m      4\u001b[0m \u001b[38;5;28;01mfor\u001b[39;00m a \u001b[38;5;129;01min\u001b[39;00m \u001b[38;5;28mrange\u001b[39m(i,j\u001b[38;5;241m+\u001b[39m\u001b[38;5;241m1\u001b[39m):\n\u001b[0;32m      5\u001b[0m     \u001b[38;5;66;03m# str(a) 가 k를 가지고있다면 \u001b[39;00m\n\u001b[0;32m      6\u001b[0m     \u001b[38;5;66;03m# answer 에 += 1 되나?\u001b[39;00m\n\u001b[1;32m----> 7\u001b[0m     answer \u001b[38;5;241m+\u001b[39m\u001b[38;5;241m=\u001b[39m \u001b[43ma\u001b[49m\u001b[38;5;241;43m.\u001b[39;49m\u001b[43mcount\u001b[49m(k)\n\u001b[0;32m      8\u001b[0m \u001b[38;5;28;01mreturn\u001b[39;00m answer\n",
      "\u001b[1;31mAttributeError\u001b[0m: 'int' object has no attribute 'count'"
     ]
    }
   ],
   "source": [
    "solution(i, j, k) # 그럼 문자열로"
   ]
  },
  {
   "cell_type": "code",
   "execution_count": 71,
   "metadata": {},
   "outputs": [
    {
     "data": {
      "text/plain": [
       "6"
      ]
     },
     "execution_count": 71,
     "metadata": {},
     "output_type": "execute_result"
    }
   ],
   "source": [
    "solution(i, j, k) # 굳"
   ]
  },
  {
   "cell_type": "code",
   "execution_count": null,
   "metadata": {},
   "outputs": [],
   "source": [
    "def solution(i, j, k):\n",
    "    # i부터 j까지의 숫자를 문자열로 변환하고 이어 붙인 뒤, \n",
    "    # k가 등장하는 횟수를 계산\n",
    "    return sum(str(num).count(str(k)) for num in range(i, j + 1))\n",
    "# sum 을 사용해도 된다 "
   ]
  },
  {
   "cell_type": "markdown",
   "metadata": {},
   "source": [
    "### A로 B 만들기"
   ]
  },
  {
   "cell_type": "code",
   "execution_count": null,
   "metadata": {},
   "outputs": [],
   "source": [
    "# before 를 after 로 만들수잇으면\n",
    "# 리턴 1 아니면 0\n",
    "# 방금전 문제처럼\n",
    "# before 에 문자들이 for\n",
    "# after 에 속해있으면 in\n"
   ]
  },
  {
   "cell_type": "code",
   "execution_count": 110,
   "metadata": {},
   "outputs": [],
   "source": [
    "before =\"olleh\"\n",
    "after = \"hello\""
   ]
  },
  {
   "cell_type": "code",
   "execution_count": 88,
   "metadata": {},
   "outputs": [],
   "source": [
    "def solution(before, after):\n",
    "    \n",
    "    for i in str(before):\n",
    "        # 아 여기선 i 가 들어가있는지\n",
    "        # 그럼 문자열이 달라도 a 가있기때문에\n",
    "        # 1 반환..\n",
    "        # 그럼 둘다 리스트 화 했을때\n",
    "        # 요소가 같으면 되는건가?\n",
    "        if str(i) in str(after):\n",
    "            return 1\n",
    "        else:\n",
    "            return 0\n",
    "    \n"
   ]
  },
  {
   "cell_type": "code",
   "execution_count": 89,
   "metadata": {},
   "outputs": [
    {
     "data": {
      "text/plain": [
       "1"
      ]
     },
     "execution_count": 89,
     "metadata": {},
     "output_type": "execute_result"
    }
   ],
   "source": [
    "solution(before, after)"
   ]
  },
  {
   "cell_type": "code",
   "execution_count": 103,
   "metadata": {},
   "outputs": [],
   "source": [
    "before=\"allpe\"\n",
    "after =\"apple\""
   ]
  },
  {
   "cell_type": "code",
   "execution_count": 91,
   "metadata": {},
   "outputs": [
    {
     "data": {
      "text/plain": [
       "1"
      ]
     },
     "execution_count": 91,
     "metadata": {},
     "output_type": "execute_result"
    }
   ],
   "source": [
    "solution(before, after) # 흠 왜 안됌..."
   ]
  },
  {
   "cell_type": "code",
   "execution_count": 96,
   "metadata": {},
   "outputs": [
    {
     "data": {
      "text/plain": [
       "['a', 'p', 'p', 'l', 'e']"
      ]
     },
     "execution_count": 96,
     "metadata": {},
     "output_type": "execute_result"
    }
   ],
   "source": [
    "b_l= list(before)\n",
    "a_l= list(after)\n",
    "\n",
    "a_l"
   ]
  },
  {
   "cell_type": "code",
   "execution_count": 111,
   "metadata": {},
   "outputs": [
    {
     "data": {
      "text/plain": [
       "False"
      ]
     },
     "execution_count": 111,
     "metadata": {},
     "output_type": "execute_result"
    }
   ],
   "source": [
    "before =\"olleh\"\n",
    "after = \"hello\"\n",
    "b_l == a_l"
   ]
  },
  {
   "cell_type": "code",
   "execution_count": 112,
   "metadata": {},
   "outputs": [],
   "source": [
    "def solution(before, after):\n",
    "    b_l= list(before)\n",
    "    a_l= list(after)\n",
    "    if sorted(b_l) == sorted(a_l):\n",
    "        return 1\n",
    "    else:\n",
    "        return 0"
   ]
  },
  {
   "cell_type": "code",
   "execution_count": 113,
   "metadata": {},
   "outputs": [
    {
     "data": {
      "text/plain": [
       "1"
      ]
     },
     "execution_count": 113,
     "metadata": {},
     "output_type": "execute_result"
    }
   ],
   "source": [
    "solution(before, after) # 되긴함 문제는 0만반환됌\n",
    "# 요소는 같아도 자리가 다르면 안되나봄.\n",
    "# 그럼 정렬? 오 대박"
   ]
  },
  {
   "cell_type": "code",
   "execution_count": null,
   "metadata": {},
   "outputs": [],
   "source": [
    "def solution(before, after):\n",
    "    before=sorted(before)\n",
    "    after=sorted(after)\n",
    "    if before==after:\n",
    "        return 1\n",
    "    else:\n",
    "        return 0\n",
    "    # 멍청하게 list 로 안만들고 그냥 sorted 했으면 됐음.."
   ]
  },
  {
   "cell_type": "markdown",
   "metadata": {},
   "source": [
    "### 중복된 문자 제거 dict.fromkeys(my_string) 사용법\n",
    "### 부가적으로 set "
   ]
  },
  {
   "cell_type": "code",
   "execution_count": 118,
   "metadata": {},
   "outputs": [],
   "source": [
    "# my_string 에서 중복문자제거\n",
    "# 그걸 리턴\n",
    "# for 에서 추출한 i 가 \n",
    "# for 에서 추출한 j 가 같다면\n",
    "# 뭐라는거지\n",
    "# 일단 이런 함수 있었던거 같은데\n",
    "\n",
    "\n",
    "# my_string =\"people\"\n",
    "my_string =\"We are the world\"\n"
   ]
  },
  {
   "cell_type": "code",
   "execution_count": 119,
   "metadata": {},
   "outputs": [],
   "source": [
    "def solution(my_string):\n",
    "    answer = ''\n",
    "    for i in my_string: # 아 문자열중에 i 가없다면\n",
    "        if i not in answer: # 답에 그 문자열을 추가\n",
    "            answer += i\n",
    "    return answer"
   ]
  },
  {
   "cell_type": "code",
   "execution_count": 122,
   "metadata": {},
   "outputs": [
    {
     "data": {
      "text/plain": [
       "'hWlwtre oad'"
      ]
     },
     "execution_count": 122,
     "metadata": {},
     "output_type": "execute_result"
    }
   ],
   "source": [
    "solution(my_string) #굳"
   ]
  },
  {
   "cell_type": "code",
   "execution_count": null,
   "metadata": {},
   "outputs": [],
   "source": [
    "def solution(my_string):\n",
    "    return ''.join(dict.fromkeys(my_string)) # 뭐지이건\n",
    "# dict.fromkeys(my_string)\n",
    "# my_string에서 문자를 키로 사용하여 dict를 만듭니다.\n",
    "# dict의 키는 중복을 허용하지 않으므로, 중복된 문자는 자동으로 제거됩니다.\n",
    "# # dict는 순서를 유지하기 때문에, 입력 문자열의 처음 등장 순서대로 문자가 유지됩니다.\n",
    "# dict.fromkeys()는 문자들을 키로 사용하여 dict 객체를 만드므로,\n",
    "# 그 결과를 문자열로 합치기 위해 join을 사용합니다."
   ]
  },
  {
   "cell_type": "code",
   "execution_count": 121,
   "metadata": {},
   "outputs": [],
   "source": [
    "def solution(my_string):\n",
    "    return ''.join(set(my_string))\n",
    "# 내가 생각했던건 set 이였지만 이건 순서 상관없이\n",
    "# 합쳐주기 때문에 이문제와 맞지않음"
   ]
  },
  {
   "cell_type": "markdown",
   "metadata": {},
   "source": [
    "### 팩토리얼 factorial math.factorial() !!!공부하고 다시풀어!!!"
   ]
  },
  {
   "cell_type": "code",
   "execution_count": 123,
   "metadata": {},
   "outputs": [],
   "source": [
    "# n 보다 작은 팩토리얼 \n",
    "# 리턴하기\n",
    "# 그럼 1! 2! 3! 4!.... \n",
    "# 이 수가 n 보다 작다면\n",
    "# x! 리얼 리턴 하면 1! 이 무조건 나오겠지...\n",
    "# x-! 팩보다 크고 x! 보다 낮으면\n",
    "# 오케이\n",
    "n=7"
   ]
  },
  {
   "cell_type": "code",
   "execution_count": 138,
   "metadata": {},
   "outputs": [
    {
     "ename": "SyntaxError",
     "evalue": "invalid syntax (1731597521.py, line 1)",
     "output_type": "error",
     "traceback": [
      "\u001b[1;36m  Cell \u001b[1;32mIn[138], line 1\u001b[1;36m\u001b[0m\n\u001b[1;33m    7! #?\u001b[0m\n\u001b[1;37m     ^\u001b[0m\n\u001b[1;31mSyntaxError\u001b[0m\u001b[1;31m:\u001b[0m invalid syntax\n"
     ]
    }
   ],
   "source": [
    "7! #?"
   ]
  },
  {
   "cell_type": "code",
   "execution_count": 129,
   "metadata": {},
   "outputs": [
    {
     "ename": "SyntaxError",
     "evalue": "invalid syntax (3709665611.py, line 4)",
     "output_type": "error",
     "traceback": [
      "\u001b[1;36m  Cell \u001b[1;32mIn[129], line 4\u001b[1;36m\u001b[0m\n\u001b[1;33m    (int(i!-1!)) <= n < int(i!):\u001b[0m\n\u001b[1;37m          ^\u001b[0m\n\u001b[1;31mSyntaxError\u001b[0m\u001b[1;31m:\u001b[0m invalid syntax\n"
     ]
    }
   ],
   "source": [
    "def solution(n):\n",
    "    answer = 0\n",
    "    for i in range(1,11):\n",
    "        (int(i-1)!) <= n < int(i!):\n",
    "    \n",
    "    return answer"
   ]
  },
  {
   "cell_type": "code",
   "execution_count": 140,
   "metadata": {},
   "outputs": [],
   "source": [
    "# 그럼 어떻게해..\n",
    "def solution(n):\n",
    "    i = 1\n",
    "    factorial = 1  # 1!부터 시작\n",
    "    while factorial <= n:\n",
    "        i += 1\n",
    "        factorial *= i  # 팩토리얼 값 갱신\n",
    "    return i - 1  # 마지막으로 만족한 i가 가장 큰 i\n",
    "# 다시풀어"
   ]
  },
  {
   "cell_type": "markdown",
   "metadata": {},
   "source": [
    "### 숨어있는 숫자의 덧셈 (2) !! 다시 풀어 !!"
   ]
  },
  {
   "cell_type": "code",
   "execution_count": 1,
   "metadata": {},
   "outputs": [],
   "source": [
    "my_string=\"aAb1B2cC34oOp\"\n",
    "# 소, 대, 자연수로만\n",
    "# 자연수 합을 리턴\n",
    "# 일단 생각은 리스트로 만들어서\n",
    "# 아니다 그냥 문자열중 자연수 찾자\n",
    "\n",
    "sl= list(my_string)"
   ]
  },
  {
   "cell_type": "code",
   "execution_count": 2,
   "metadata": {},
   "outputs": [],
   "source": [
    "def solution(my_string):\n",
    "    answer = 0\n",
    "    for i in my_string:\n",
    "        if '0' <= i <= '9':\n",
    "            answer += int(i)\n",
    "    return answer\n",
    "#일단 대충 이런식으로\n",
    "# 흠..\n",
    "# 힌트는 다른 문자열을 만들어 그걸 더하는식 \n",
    "# 다시 해야겠다\n"
   ]
  },
  {
   "cell_type": "code",
   "execution_count": 3,
   "metadata": {},
   "outputs": [
    {
     "ename": "NameError",
     "evalue": "name 'solution' is not defined",
     "output_type": "error",
     "traceback": [
      "\u001b[1;31m---------------------------------------------------------------------------\u001b[0m",
      "\u001b[1;31mNameError\u001b[0m                                 Traceback (most recent call last)",
      "Cell \u001b[1;32mIn[3], line 1\u001b[0m\n\u001b[1;32m----> 1\u001b[0m \u001b[43msolution\u001b[49m(my_string)\u001b[38;5;66;03m# 만약 붙어있다면 하나의 숫자로 본다\u001b[39;00m\n",
      "\u001b[1;31mNameError\u001b[0m: name 'solution' is not defined"
     ]
    }
   ],
   "source": [
    "solution(my_string)# 만약 붙어있다면 하나의 숫자로 본다"
   ]
  },
  {
   "cell_type": "markdown",
   "metadata": {},
   "source": [
    "### 가까운수 다시 풀기"
   ]
  },
  {
   "cell_type": "code",
   "execution_count": 7,
   "metadata": {},
   "outputs": [
    {
     "data": {
      "text/plain": [
       "True"
      ]
     },
     "execution_count": 7,
     "metadata": {},
     "output_type": "execute_result"
    }
   ],
   "source": [
    "array = [3, 10, 28]\n",
    "n = 20 \n",
    "# array 에서\n",
    "# n 과 가장 가까운\n",
    "# 요소를 리턴\n",
    "# 내생각은 \n",
    "# array 안에 있는 요소시작부터 끝의 리스트를\n",
    "# 새로 만들어서 \n",
    "#  n 값이 array 0번째 인덱스 보다 작다면 0번째\n",
    "#  반대면 인덱스 마지막거\n",
    "# 그렇다면 들어가있다면? \n",
    "# ! 갑자기 생각난건데 인덱스 값에서 n을뺀거중 차이가 가장적으면 가까운수아닐까\n",
    "# 그럼 리스트에 있는걸 int 로 n 으로 빼서 그수가 가장 작다면\n",
    "# 리턴\n",
    "-3>-4\n",
    "2>-1"
   ]
  },
  {
   "cell_type": "code",
   "execution_count": null,
   "metadata": {},
   "outputs": [],
   "source": [
    "def solution(array, n):\n",
    "    answer = 0\n",
    "    # array 에 i 값 을 n 뺀값\n",
    "    for i in array:\n",
    "        if n-int(i) # 으아..\n",
    "         # 이걸 서로 구분을 할수있게 만들어야된다\n",
    "\n",
    "        \n",
    "    return answer"
   ]
  },
  {
   "cell_type": "code",
   "execution_count": 6,
   "metadata": {},
   "outputs": [
    {
     "data": {
      "text/plain": [
       "<module 'numpy' from 'c:\\\\Users\\\\wosle\\\\anaconda3\\\\envs\\\\study\\\\Lib\\\\site-packages\\\\numpy\\\\__init__.py'>"
      ]
     },
     "execution_count": 6,
     "metadata": {},
     "output_type": "execute_result"
    }
   ],
   "source": []
  },
  {
   "cell_type": "markdown",
   "metadata": {},
   "source": [
    "### 한번만 등장한 문자 count "
   ]
  },
  {
   "cell_type": "code",
   "execution_count": 8,
   "metadata": {},
   "outputs": [],
   "source": [
    "# s 매개변수\n",
    "# 한번만 등장하는 문자를\n",
    "# 사전순으로 정렬\n",
    "# 없을경우 빈문자열\n",
    "s=\"abdc\"\n",
    "# list 로만들어서\n",
    "# while 로 계속 0부터 문자열 끝까지 \n",
    "# 겹치면 겹치는 리스트로 아니면 안겹치는리스트\n",
    "# 근데 그렇게하면 너무 오래걸림..\n",
    "# 그럼어떻게해야하지\n"
   ]
  },
  {
   "cell_type": "code",
   "execution_count": 17,
   "metadata": {},
   "outputs": [],
   "source": [
    "def solution(s):\n",
    "    answer = ''\n",
    "    # set 으로 했을때?\n",
    "    # 그 갯수 세는 라이브러리가 있던거같은데\n",
    "    temp = {} # 리스트는 안되넹\n",
    "    for i  in s: # s 문자열에서 \n",
    "        if i in temp: # i 가 temp 딕셔너리에 있다면\n",
    "            temp[i] +=1 # +1 이렇게하면 중복으로 나온게 2가 된다\n",
    "        else:\n",
    "            temp[i] = 1 # 없으면 그냥 1\n",
    "    # 여기서 temp 에 만들어놓은거중 1 짜리만 가져온다\n",
    "    e_temp = [] \n",
    "    for j in temp: # 내가만들어놓은 temp 에 2짜리면 중복이니 \n",
    "        if temp[j] == 1:\n",
    "            e_temp.append(j) # 새로만든 e_temp 에 추가\n",
    "\n",
    "    sorted(e_temp)\n",
    "    \n",
    "        \n",
    "    return ''.join(sorted(e_temp))"
   ]
  },
  {
   "cell_type": "code",
   "execution_count": 16,
   "metadata": {},
   "outputs": [
    {
     "data": {
      "text/plain": [
       "'abdc'"
      ]
     },
     "execution_count": 16,
     "metadata": {},
     "output_type": "execute_result"
    }
   ],
   "source": [
    "solution(s) #정렬"
   ]
  },
  {
   "cell_type": "code",
   "execution_count": 18,
   "metadata": {},
   "outputs": [
    {
     "data": {
      "text/plain": [
       "'abcd'"
      ]
     },
     "execution_count": 18,
     "metadata": {},
     "output_type": "execute_result"
    }
   ],
   "source": [
    "solution(s)"
   ]
  },
  {
   "cell_type": "code",
   "execution_count": 30,
   "metadata": {},
   "outputs": [],
   "source": [
    "s=\"abdc\"\n",
    "temp = {}\n",
    "for i  in s: # s 문자열에서 \n",
    "        if i in temp: # i 가 temp 딕셔너리에 있다면\n",
    "            temp[i] +=1 # +1 이렇게하면 중복으로 나온게 2가 된다\n",
    "        else:\n",
    "            temp[i] = 1\n",
    "e_temp = []\n",
    "for j in temp: # 내가만들어놓은 temp 에 2짜리면 중복이니 \n",
    "        if temp[j] == 1:\n",
    "            e_temp.append(j)\n"
   ]
  },
  {
   "cell_type": "code",
   "execution_count": 31,
   "metadata": {},
   "outputs": [
    {
     "data": {
      "text/plain": [
       "{'a': 1, 'b': 1, 'd': 1, 'c': 1}"
      ]
     },
     "execution_count": 31,
     "metadata": {},
     "output_type": "execute_result"
    }
   ],
   "source": [
    "temp"
   ]
  },
  {
   "cell_type": "code",
   "execution_count": 33,
   "metadata": {},
   "outputs": [
    {
     "data": {
      "text/plain": [
       "['a', 'b', 'c', 'd']"
      ]
     },
     "execution_count": 33,
     "metadata": {},
     "output_type": "execute_result"
    }
   ],
   "source": [
    "e_temp\n",
    "# 근데 리스트로나옴\n",
    "sorted(e_temp) # '' 조인하면 되나"
   ]
  },
  {
   "cell_type": "code",
   "execution_count": 34,
   "metadata": {},
   "outputs": [
    {
     "data": {
      "text/plain": [
       "'abcd'"
      ]
     },
     "execution_count": 34,
     "metadata": {},
     "output_type": "execute_result"
    }
   ],
   "source": [
    "''.join(sorted(e_temp)) # 오\n"
   ]
  },
  {
   "cell_type": "code",
   "execution_count": null,
   "metadata": {},
   "outputs": [],
   "source": [
    "def solution(s):\n",
    "    answer = \"\".join(sorted([ ch for ch in s if s.count(ch) == 1]))\n",
    "    return answer\n",
    "# 으아ㅏㅏㅏㅏㅏㅏㅏㅏ"
   ]
  },
  {
   "cell_type": "code",
   "execution_count": 35,
   "metadata": {},
   "outputs": [],
   "source": [
    "def solution(s):\n",
    "    sl=[]\n",
    "    for i in s:\n",
    "        if s.count(i)==1:\n",
    "            sl += i\n",
    "    answer=''.join(sorted(sl))\n",
    "    return answer\n"
   ]
  },
  {
   "cell_type": "code",
   "execution_count": 38,
   "metadata": {},
   "outputs": [
    {
     "data": {
      "text/plain": [
       "'abcd'"
      ]
     },
     "execution_count": 38,
     "metadata": {},
     "output_type": "execute_result"
    }
   ],
   "source": [
    "solution(s) # 중복찾을때 count 쓰자.."
   ]
  },
  {
   "cell_type": "code",
   "execution_count": null,
   "metadata": {},
   "outputs": [],
   "source": [
    "sl=[]\n",
    "for i in s:\n",
    "    if s.count(i)==1:\n",
    "        sl += i\n",
    "answer=''.join(sorted(sl))"
   ]
  },
  {
   "cell_type": "markdown",
   "metadata": {},
   "source": [
    "### 7의 개수"
   ]
  },
  {
   "cell_type": "code",
   "execution_count": 39,
   "metadata": {},
   "outputs": [],
   "source": [
    "# array 에 7이 총 몇개 있는지\n",
    "# count 로 세면 쉽겠지만\n",
    "# 77 은 7이 2개로 계산 인줄알았지만\n",
    "# 아.. 문자열로하면 각자 count 해줌\n",
    "\n",
    "array = [7, 77, 17]\n"
   ]
  },
  {
   "cell_type": "code",
   "execution_count": 48,
   "metadata": {},
   "outputs": [],
   "source": [
    "def solution(array):\n",
    "    answer = 0\n",
    "    for i in array:\n",
    "        answer += str(i).count('7') # 잉? \n",
    "    return answer"
   ]
  },
  {
   "cell_type": "code",
   "execution_count": 49,
   "metadata": {},
   "outputs": [
    {
     "data": {
      "text/plain": [
       "4"
      ]
     },
     "execution_count": 49,
     "metadata": {},
     "output_type": "execute_result"
    }
   ],
   "source": [
    "str(array).count('7')\n",
    "# 엥?\n",
    "\n"
   ]
  },
  {
   "cell_type": "code",
   "execution_count": 50,
   "metadata": {},
   "outputs": [
    {
     "data": {
      "text/plain": [
       "4"
      ]
     },
     "execution_count": 50,
     "metadata": {},
     "output_type": "execute_result"
    }
   ],
   "source": [
    "solution(array) # ?"
   ]
  },
  {
   "cell_type": "code",
   "execution_count": null,
   "metadata": {},
   "outputs": [],
   "source": []
  },
  {
   "cell_type": "markdown",
   "metadata": {},
   "source": [
    "### 컨트롤 제트 .pop (마지막 요소 제거) 다시보기"
   ]
  },
  {
   "cell_type": "code",
   "execution_count": 78,
   "metadata": {},
   "outputs": [],
   "source": [
    "# ex ) 리스트 요소 제거\n",
    "l=[10,20,30,40,50,60]"
   ]
  },
  {
   "cell_type": "code",
   "execution_count": 79,
   "metadata": {},
   "outputs": [],
   "source": [
    "l_p = l.pop()"
   ]
  },
  {
   "cell_type": "code",
   "execution_count": 80,
   "metadata": {},
   "outputs": [
    {
     "data": {
      "text/plain": [
       "60"
      ]
     },
     "execution_count": 80,
     "metadata": {},
     "output_type": "execute_result"
    }
   ],
   "source": [
    "l_p"
   ]
  },
  {
   "cell_type": "code",
   "execution_count": 81,
   "metadata": {},
   "outputs": [
    {
     "data": {
      "text/plain": [
       "[10, 20, 30, 40, 50]"
      ]
     },
     "execution_count": 81,
     "metadata": {},
     "output_type": "execute_result"
    }
   ],
   "source": [
    "l # ! 리스트의 마지막값이 지워져서 나옴"
   ]
  },
  {
   "cell_type": "code",
   "execution_count": 51,
   "metadata": {},
   "outputs": [],
   "source": [
    "# 숫자와 \"Z\" 공백구분\n",
    "# 문자열에 있는 숫자를 차례대로 더한다\n",
    "# \"Z\" 가 아노면 바로전에 더했던 숫자를 뺀다\n",
    "# s= \"1 2 Z 3\" r=4\n",
    "# 1-2+3 이렇게 된다는건데\n",
    "# \"10 Z 20 Z 1\" 이게 왜 r = 1이 나오지?\n",
    "# 아 빼는게 - 가 아니라 취소\n",
    "#.split('')하면 공백은 제외\n",
    "# 흠\n",
    "s =\"1 2 Z 3\""
   ]
  },
  {
   "cell_type": "code",
   "execution_count": 64,
   "metadata": {},
   "outputs": [],
   "source": [
    "def solution(s):\n",
    "    answer = 0\n",
    "    # 공백제외 새리스트 만들고\n",
    "    # 리스트를 다 더한다\n",
    "    # 만약 i 가 Z 라면\n",
    "    # 그 전 상황을 - 한다?\n",
    "    # 아니라면 더한다?\n",
    "    s_s= s.split(' ')\n",
    "\n",
    "    for i in s_s:\n",
    "        # 일단 더하기\n",
    "        if i != 'Z':\n",
    "            answer += int(i)\n",
    "        else:\n",
    "            answer -= int(s_s[i-1]) # 여기서i=Z 라서 빼기가안됨 그앞자리를 뺀다?\n",
    "            # \n",
    "    return answer"
   ]
  },
  {
   "cell_type": "code",
   "execution_count": 53,
   "metadata": {},
   "outputs": [
    {
     "data": {
      "text/plain": [
       "['1', '2', 'Z', '3']"
      ]
     },
     "execution_count": 53,
     "metadata": {},
     "output_type": "execute_result"
    }
   ],
   "source": [
    "s.split(' ')"
   ]
  },
  {
   "cell_type": "code",
   "execution_count": 63,
   "metadata": {},
   "outputs": [
    {
     "ename": "ValueError",
     "evalue": "invalid literal for int() with base 10: 'Z'",
     "output_type": "error",
     "traceback": [
      "\u001b[1;31m---------------------------------------------------------------------------\u001b[0m",
      "\u001b[1;31mValueError\u001b[0m                                Traceback (most recent call last)",
      "Cell \u001b[1;32mIn[63], line 1\u001b[0m\n\u001b[1;32m----> 1\u001b[0m \u001b[43msolution\u001b[49m\u001b[43m(\u001b[49m\u001b[43ms\u001b[49m\u001b[43m)\u001b[49m\n",
      "Cell \u001b[1;32mIn[62], line 15\u001b[0m, in \u001b[0;36msolution\u001b[1;34m(s)\u001b[0m\n\u001b[0;32m     13\u001b[0m         answer \u001b[38;5;241m+\u001b[39m\u001b[38;5;241m=\u001b[39m \u001b[38;5;28mint\u001b[39m(i)\n\u001b[0;32m     14\u001b[0m     \u001b[38;5;28;01melse\u001b[39;00m:\n\u001b[1;32m---> 15\u001b[0m         answer \u001b[38;5;241m-\u001b[39m\u001b[38;5;241m=\u001b[39m \u001b[38;5;28;43mint\u001b[39;49m\u001b[43m(\u001b[49m\u001b[43mi\u001b[49m\u001b[43m)\u001b[49m\n\u001b[0;32m     16\u001b[0m \u001b[38;5;28;01mreturn\u001b[39;00m answer\n",
      "\u001b[1;31mValueError\u001b[0m: invalid literal for int() with base 10: 'Z'"
     ]
    }
   ],
   "source": [
    "solution(s)"
   ]
  },
  {
   "cell_type": "code",
   "execution_count": 65,
   "metadata": {},
   "outputs": [
    {
     "ename": "TypeError",
     "evalue": "unsupported operand type(s) for -: 'str' and 'int'",
     "output_type": "error",
     "traceback": [
      "\u001b[1;31m---------------------------------------------------------------------------\u001b[0m",
      "\u001b[1;31mTypeError\u001b[0m                                 Traceback (most recent call last)",
      "Cell \u001b[1;32mIn[65], line 1\u001b[0m\n\u001b[1;32m----> 1\u001b[0m \u001b[43msolution\u001b[49m\u001b[43m(\u001b[49m\u001b[43ms\u001b[49m\u001b[43m)\u001b[49m\n",
      "Cell \u001b[1;32mIn[64], line 15\u001b[0m, in \u001b[0;36msolution\u001b[1;34m(s)\u001b[0m\n\u001b[0;32m     13\u001b[0m         answer \u001b[38;5;241m+\u001b[39m\u001b[38;5;241m=\u001b[39m \u001b[38;5;28mint\u001b[39m(i)\n\u001b[0;32m     14\u001b[0m     \u001b[38;5;28;01melse\u001b[39;00m:\n\u001b[1;32m---> 15\u001b[0m         answer \u001b[38;5;241m-\u001b[39m\u001b[38;5;241m=\u001b[39m \u001b[38;5;28mint\u001b[39m(s_s[\u001b[43mi\u001b[49m\u001b[38;5;241;43m-\u001b[39;49m\u001b[38;5;241;43m1\u001b[39;49m]) \u001b[38;5;66;03m# 여기서i=Z 라서 빼기가안됨 그앞자리를 뺀다?\u001b[39;00m\n\u001b[0;32m     16\u001b[0m         \u001b[38;5;66;03m# \u001b[39;00m\n\u001b[0;32m     17\u001b[0m \u001b[38;5;28;01mreturn\u001b[39;00m answer\n",
      "\u001b[1;31mTypeError\u001b[0m: unsupported operand type(s) for -: 'str' and 'int'"
     ]
    }
   ],
   "source": [
    "solution(s)"
   ]
  },
  {
   "cell_type": "code",
   "execution_count": 72,
   "metadata": {},
   "outputs": [],
   "source": [
    "def solution(s):\n",
    "    answer = []\n",
    "    for i in s.split():\n",
    "        if i == 'Z': # 'Z' 일때 를 생각해보자..\n",
    "           ...\n",
    "        else:\n",
    "            answer.append(int(i)) # 자꾸 오류나니까 리스트만들고 그걸 sum 하자\n",
    "\n",
    "    return sum(answer)"
   ]
  },
  {
   "cell_type": "code",
   "execution_count": 73,
   "metadata": {},
   "outputs": [
    {
     "data": {
      "text/plain": [
       "6"
      ]
     },
     "execution_count": 73,
     "metadata": {},
     "output_type": "execute_result"
    }
   ],
   "source": [
    "solution(s)"
   ]
  },
  {
   "cell_type": "code",
   "execution_count": null,
   "metadata": {},
   "outputs": [],
   "source": [
    "def solution(s):\n",
    "    answer = []\n",
    "    for i in s.split():\n",
    "        if i == 'Z': # 'Z' 일때 를 생각해보자..\n",
    "            if answer:   # 아.....si\n",
    "                answer.pop() # pop 이구나 \n",
    "                # del 가능하지만 del 은 값을 반환하지않는다\n",
    "        else:\n",
    "            answer.append(int(i)) # 자꾸 오류나니까 리스트만들고 그걸 sum 하자\n",
    "\n",
    "    return sum(answer)"
   ]
  },
  {
   "cell_type": "markdown",
   "metadata": {},
   "source": [
    "### 갑자기 질문 게시판 오류 확인 ! set 확인 "
   ]
  },
  {
   "cell_type": "code",
   "execution_count": 22,
   "metadata": {},
   "outputs": [],
   "source": [
    "\n",
    "def only_square_area(lst1,lst2):\n",
    "    \n",
    "    areas=[]\n",
    "    intersection = list (set(lst1)& set(lst2))\n",
    "    for i in intersection:\n",
    "        areas.append(i**2)\n",
    "    return areas"
   ]
  },
  {
   "cell_type": "code",
   "execution_count": 18,
   "metadata": {},
   "outputs": [],
   "source": [
    "lst1=[32,55,63]\n",
    "lst2=[13,32,40,55]\n"
   ]
  },
  {
   "cell_type": "code",
   "execution_count": 16,
   "metadata": {},
   "outputs": [
    {
     "data": {
      "text/plain": [
       "{32, 55, 63}"
      ]
     },
     "execution_count": 16,
     "metadata": {},
     "output_type": "execute_result"
    }
   ],
   "source": [
    "set(lst1)"
   ]
  },
  {
   "cell_type": "code",
   "execution_count": 12,
   "metadata": {},
   "outputs": [
    {
     "data": {
      "text/plain": [
       "[32, 55]"
      ]
     },
     "execution_count": 12,
     "metadata": {},
     "output_type": "execute_result"
    }
   ],
   "source": [
    "set(lst1)\n",
    "set(lst2)\n",
    "set(lst1) & set(lst2)\n",
    "list(set(lst1) & set(lst2))\n"
   ]
  },
  {
   "cell_type": "code",
   "execution_count": 23,
   "metadata": {},
   "outputs": [
    {
     "data": {
      "text/plain": [
       "[1024, 3025]"
      ]
     },
     "execution_count": 23,
     "metadata": {},
     "output_type": "execute_result"
    }
   ],
   "source": [
    "only_square_area(lst1,lst2)"
   ]
  },
  {
   "cell_type": "code",
   "execution_count": 24,
   "metadata": {},
   "outputs": [],
   "source": [
    "def only_square_area(lst1, lst2): \n",
    "    return [i**2 for i in set(lst1) & set(lst2)] # 이렇게 하면되나?\n"
   ]
  },
  {
   "cell_type": "code",
   "execution_count": 25,
   "metadata": {},
   "outputs": [
    {
     "data": {
      "text/plain": [
       "[1024, 3025]"
      ]
     },
     "execution_count": 25,
     "metadata": {},
     "output_type": "execute_result"
    }
   ],
   "source": [
    "only_square_area(lst1,lst2) # 되네"
   ]
  },
  {
   "cell_type": "code",
   "execution_count": 26,
   "metadata": {},
   "outputs": [],
   "source": [
    "# set 의 기능\n",
    "# 순서 상관없이  list 합쳐주는 거"
   ]
  },
  {
   "cell_type": "code",
   "execution_count": 29,
   "metadata": {},
   "outputs": [
    {
     "name": "stdout",
     "output_type": "stream",
     "text": [
      "{1, 2, 3, 4, 5, 6}\n"
     ]
    }
   ],
   "source": [
    "list1 = [1, 2, 3, 4]\n",
    "list2 = [3, 4, 5, 6]\n",
    "\n",
    "combined_set = set(list1) | set(list2)\n",
    "print(combined_set)"
   ]
  }
 ],
 "metadata": {
  "kernelspec": {
   "display_name": "study",
   "language": "python",
   "name": "python3"
  },
  "language_info": {
   "codemirror_mode": {
    "name": "ipython",
    "version": 3
   },
   "file_extension": ".py",
   "mimetype": "text/x-python",
   "name": "python",
   "nbconvert_exporter": "python",
   "pygments_lexer": "ipython3",
   "version": "3.12.8"
  }
 },
 "nbformat": 4,
 "nbformat_minor": 2
}
