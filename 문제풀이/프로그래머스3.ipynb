{
 "cells": [
  {
   "cell_type": "markdown",
   "metadata": {},
   "source": [
    "### 가장 큰 수 찾기 enumerate 사용함"
   ]
  },
  {
   "cell_type": "code",
   "execution_count": null,
   "metadata": {},
   "outputs": [],
   "source": [
    "#array 가장큰수 , 인덱스"
   ]
  },
  {
   "cell_type": "code",
   "execution_count": 5,
   "metadata": {},
   "outputs": [],
   "source": [
    "\n",
    "def solution(array):\n",
    "    m=max(array)\n",
    "    i=array.index(m)\n",
    "    return [m,i]"
   ]
  },
  {
   "cell_type": "code",
   "execution_count": 6,
   "metadata": {},
   "outputs": [
    {
     "data": {
      "text/plain": [
       "[8, 1]"
      ]
     },
     "execution_count": 6,
     "metadata": {},
     "output_type": "execute_result"
    }
   ],
   "source": [
    "array = [1, 8, 3]\n",
    "solution(array)"
   ]
  },
  {
   "cell_type": "code",
   "execution_count": null,
   "metadata": {},
   "outputs": [],
   "source": [
    "\n",
    "def solution(array):\n",
    "    max_value = array[0]\n",
    "    max_index = 0\n",
    "    # 사용 방법 숙지하기\n",
    "    for index, value in enumerate(array):  # 배열의 인덱스와 값을 동시에 가져옴\n",
    "        if value > max_value:\n",
    "            max_value = value\n",
    "            max_index = index\n",
    "\n",
    "    return [max_value, max_index]"
   ]
  },
  {
   "cell_type": "markdown",
   "metadata": {},
   "source": [
    "### 뒤에서 5등 위로"
   ]
  },
  {
   "cell_type": "code",
   "execution_count": null,
   "metadata": {},
   "outputs": [],
   "source": [
    "# 정수리스트 \n",
    "#가장작은 5개를 제외 한 수들\n",
    "#오름차순\n"
   ]
  },
  {
   "cell_type": "code",
   "execution_count": 52,
   "metadata": {},
   "outputs": [],
   "source": [
    "\n",
    "def solution(num_list):\n",
    "    \n",
    "    num_list.sort()\n",
    "    \n",
    "    return sorted(num_list[5:])"
   ]
  },
  {
   "cell_type": "markdown",
   "metadata": {},
   "source": [
    "### 배열의 길이에 따른 연산하기 isdigit 사용가능"
   ]
  },
  {
   "cell_type": "code",
   "execution_count": null,
   "metadata": {},
   "outputs": [],
   "source": [
    "# #인덱스 중요\n",
    "# arr 길이가 홀수 ,짝수\n",
    "# 홀수라면 짝수 인덱스에 n 더한\n",
    "# 짝수라면 홀수인덱스에 n 을 더한 배열"
   ]
  },
  {
   "cell_type": "code",
   "execution_count": 130,
   "metadata": {},
   "outputs": [],
   "source": [
    "arr =[444, 555, 666, 777]\n",
    "n=100"
   ]
  },
  {
   "cell_type": "code",
   "execution_count": 142,
   "metadata": {},
   "outputs": [],
   "source": [
    "def solution(arr, n):\n",
    "    \n",
    "    if len(arr)%2 == 0: # 길이 홀,짝\n",
    "        for i in range(len(arr)): #인덱스 어짜피 길이의 값과 같다 , 근데 오늘배운 판다스에선 아니였다\n",
    "            if i % 2 ==1: # 인덱스 홀,짝\n",
    "                arr[i] += n #인덱스 홀짝 찾은거에 += n \n",
    "    else: # else 자리 잘 써라 멍청아\n",
    "        for i in range(len(arr)):\n",
    "            if i % 2 ==0:\n",
    "                arr[i] += n\n",
    "            \n",
    "    return arr"
   ]
  },
  {
   "cell_type": "code",
   "execution_count": 123,
   "metadata": {},
   "outputs": [
    {
     "data": {
      "text/plain": [
       "[49, 12, 100, 276, 33]"
      ]
     },
     "execution_count": 123,
     "metadata": {},
     "output_type": "execute_result"
    }
   ],
   "source": [
    "arr"
   ]
  },
  {
   "cell_type": "code",
   "execution_count": 143,
   "metadata": {},
   "outputs": [
    {
     "data": {
      "text/plain": [
       "[444, 755, 666, 977]"
      ]
     },
     "execution_count": 143,
     "metadata": {},
     "output_type": "execute_result"
    }
   ],
   "source": [
    "solution(arr, n)"
   ]
  },
  {
   "cell_type": "markdown",
   "metadata": {},
   "source": [
    "### 다른문제\n",
    "###전에 못풀었던 문제 인덱스 바꾸기"
   ]
  },
  {
   "cell_type": "code",
   "execution_count": 150,
   "metadata": {},
   "outputs": [],
   "source": [
    "my_string =\"hello\" \n",
    "num1=2\n",
    "num2=1"
   ]
  },
  {
   "cell_type": "code",
   "execution_count": 173,
   "metadata": {},
   "outputs": [],
   "source": [
    "def solution(my_string, num1, num2):\n",
    "    \n",
    "    answer=''\n",
    "    for i in range(len(my_string)): # 인덱스 전문제 처럼구해본다\n",
    "        if i == num1: \n",
    "            answer += my_string[num2]\n",
    "        elif i == num2:\n",
    "            answer += my_string[num1]\n",
    "        else: # 중요 !!! for 문으로 인덱스 돌려놓고 \n",
    "              # i 번째 값 안넣으면 if 로 입력한 값만 나옴\n",
    "            answer +=my_string[i]\n",
    "    return answer"
   ]
  },
  {
   "cell_type": "code",
   "execution_count": 169,
   "metadata": {},
   "outputs": [],
   "source": [
    "def solution(my_string, num1, num2):\n",
    "    \n",
    "    answer=''\n",
    "    c=list(my_string)\n",
    "    c[num1],c[num2]=c[num2],c[num1]\n",
    "    \n",
    "    # a,b=b,a\n",
    "    \n",
    "    return ''.join(c)"
   ]
  },
  {
   "cell_type": "code",
   "execution_count": 174,
   "metadata": {},
   "outputs": [
    {
     "data": {
      "text/plain": [
       "'hlelo'"
      ]
     },
     "execution_count": 174,
     "metadata": {},
     "output_type": "execute_result"
    }
   ],
   "source": [
    "solution(my_string, num1, num2)"
   ]
  },
  {
   "cell_type": "markdown",
   "metadata": {},
   "source": [
    "### 문자열 안에 숫자  오름차순 isdigit 사용 방법"
   ]
  },
  {
   "cell_type": "code",
   "execution_count": 177,
   "metadata": {},
   "outputs": [],
   "source": [
    "my_string=\"hi12392\""
   ]
  },
  {
   "cell_type": "code",
   "execution_count": 102,
   "metadata": {},
   "outputs": [],
   "source": [
    "def solution(my_string):\n",
    "    answer = []\n",
    "    for i in my_string:\n",
    "        if '0'<= i <='9':\n",
    "            answer.append(int(i))\n",
    "            \n",
    "    return sorted(answer)"
   ]
  },
  {
   "cell_type": "code",
   "execution_count": 179,
   "metadata": {},
   "outputs": [
    {
     "data": {
      "text/plain": [
       "[1, 2, 2, 3, 9]"
      ]
     },
     "execution_count": 179,
     "metadata": {},
     "output_type": "execute_result"
    }
   ],
   "source": [
    "solution(my_string)"
   ]
  },
  {
   "cell_type": "code",
   "execution_count": 178,
   "metadata": {},
   "outputs": [],
   "source": [
    "# isdigit 사용방법\n",
    "def solution(my_string):\n",
    "    answer = []\n",
    "    for i in my_string:\n",
    "        if i.isdigit():\n",
    "            answer.append(int(i))\n",
    "    answer.sort()\n",
    "    return answer"
   ]
  },
  {
   "cell_type": "markdown",
   "metadata": {},
   "source": [
    "### 외계행성의 나이"
   ]
  },
  {
   "cell_type": "code",
   "execution_count": null,
   "metadata": {},
   "outputs": [],
   "source": [
    "# age 숫자를 영어로 표현\n",
    "# EX) 23 = \"cd\"\n",
    "# 그냥 순서\n"
   ]
  },
  {
   "cell_type": "code",
   "execution_count": 25,
   "metadata": {},
   "outputs": [],
   "source": [
    "def solution(age):\n",
    "    answer = ''\n",
    "    a_age=('a','b','c','d','e','f','g','h','i','j') # 왜 틀릴까...... 와.. j 넣어야 됨 0~9 10개...\n",
    "    for k in str(age):\n",
    "        answer += a_age[int(k)]\n",
    "    return answer"
   ]
  },
  {
   "cell_type": "code",
   "execution_count": 20,
   "metadata": {},
   "outputs": [],
   "source": [
    "age =100"
   ]
  },
  {
   "cell_type": "code",
   "execution_count": 24,
   "metadata": {},
   "outputs": [
    {
     "data": {
      "text/plain": [
       "'baa'"
      ]
     },
     "execution_count": 24,
     "metadata": {},
     "output_type": "execute_result"
    }
   ],
   "source": [
    "solution(age)"
   ]
  },
  {
   "cell_type": "code",
   "execution_count": null,
   "metadata": {},
   "outputs": [],
   "source": [
    "def solution(age): #웃겨서 가져옴 신박하네..\n",
    "    age = str(age)\n",
    "    age = age.replace(\"0\", \"a\")\n",
    "    age = age.replace(\"1\", \"b\")\n",
    "    age = age.replace(\"2\", \"c\")\n",
    "    age = age.replace(\"3\", \"d\")\n",
    "    age = age.replace(\"4\", \"e\")\n",
    "    age = age.replace(\"5\", \"f\")\n",
    "    age = age.replace(\"6\", \"g\")\n",
    "    age = age.replace(\"7\", \"h\")\n",
    "    age = age.replace(\"8\", \"i\")\n",
    "    age = age.replace(\"9\", \"j\")\n",
    "    return age"
   ]
  },
  {
   "cell_type": "code",
   "execution_count": null,
   "metadata": {},
   "outputs": [],
   "source": [
    "def solution(age):\n",
    "    conv = {'0':'a','1':'b','2':'c','3':'d','4':'e'\n",
    "            ,'5':'f','6':'g','7':'h','8':'i','9':'j'}\n",
    "    return ''.join(conv[i] for i in str(age)) # join 사용법 계속 나오니까 숙지\n"
   ]
  },
  {
   "cell_type": "markdown",
   "metadata": {},
   "source": [
    "### 진료순서 정하기"
   ]
  },
  {
   "cell_type": "code",
   "execution_count": null,
   "metadata": {},
   "outputs": [],
   "source": [
    "# 응급도 기준 진료순서\n",
    "# 흠... 그냥 높은 수의 인덱스값 출력\n",
    "# if 문으로 함 해보자\n"
   ]
  },
  {
   "cell_type": "code",
   "execution_count": 29,
   "metadata": {},
   "outputs": [],
   "source": [
    "emergency = [3, 76, 24]"
   ]
  },
  {
   "cell_type": "code",
   "execution_count": 33,
   "metadata": {},
   "outputs": [],
   "source": [
    "def solution(emergency):\n",
    "    answer = []\n",
    "    s=sorted(emergency,reverse=True) # 이걸먼저했어야함\n",
    "    for i in emergency:\n",
    "        answer.append(s.index(i)+1) # 정렬한리스트에i번째 인덱스 0부터 시작이니 +1 해준다\n",
    "        \n",
    "    return answer"
   ]
  },
  {
   "cell_type": "code",
   "execution_count": 44,
   "metadata": {},
   "outputs": [
    {
     "data": {
      "text/plain": [
       "[3, 1, 2]"
      ]
     },
     "execution_count": 44,
     "metadata": {},
     "output_type": "execute_result"
    }
   ],
   "source": [
    "solution(emergency)"
   ]
  },
  {
   "cell_type": "code",
   "execution_count": 43,
   "metadata": {},
   "outputs": [],
   "source": [
    "def solution(emergency):\n",
    "    answer = []\n",
    "    for a in emergency:\n",
    "        b=1 # b = 우선순위 초기값을 넣어줘야 됨 0 안됨\n",
    "        for c in emergency:\n",
    "            if a < c:\n",
    "                b +=1 # 이게 랭크 상승\n",
    "        answer.append(b) #결론 또 for 문이랑 if 문 자리를 못찾음                \n",
    "                         # 여기서 우선순위 넣어야하는거니까 \n",
    "                         # 두번째 for 문이 끝나는 부분에 \n",
    "                         # append 해줬어야함                \n",
    "    return answer"
   ]
  },
  {
   "cell_type": "code",
   "execution_count": null,
   "metadata": {},
   "outputs": [],
   "source": []
  },
  {
   "cell_type": "markdown",
   "metadata": {},
   "source": [
    "### 모스부호 1 split 사용 방법. join "
   ]
  },
  {
   "cell_type": "code",
   "execution_count": 69,
   "metadata": {},
   "outputs": [],
   "source": [
    "morse = { \n",
    "    '.-':'a','-...':'b','-.-.':'c','-..':'d','.':'e','..-.':'f',\n",
    "    '--.':'g','....':'h','..':'i','.---':'j','-.-':'k','.-..':'l',\n",
    "    '--':'m','-.':'n','---':'o','.--.':'p','--.-':'q','.-.':'r',\n",
    "    '...':'s','-':'t','..-':'u','...-':'v','.--':'w','-..-':'x',\n",
    "    '-.--':'y','--..':'z'\n",
    "}\n",
    "#키 입력하면 벨류가 나온다 #딕셔너리형태\n",
    "letter=\".... . .-.. .-.. ---\""
   ]
  },
  {
   "cell_type": "code",
   "execution_count": 49,
   "metadata": {},
   "outputs": [
    {
     "data": {
      "text/plain": [
       "['.',\n",
       " '.',\n",
       " '.',\n",
       " '.',\n",
       " ' ',\n",
       " '.',\n",
       " ' ',\n",
       " '.',\n",
       " '-',\n",
       " '.',\n",
       " '.',\n",
       " ' ',\n",
       " '.',\n",
       " '-',\n",
       " '.',\n",
       " '.',\n",
       " ' ',\n",
       " '-',\n",
       " '-',\n",
       " '-']"
      ]
     },
     "execution_count": 49,
     "metadata": {},
     "output_type": "execute_result"
    }
   ],
   "source": [
    "list(letter)"
   ]
  },
  {
   "cell_type": "code",
   "execution_count": 72,
   "metadata": {},
   "outputs": [
    {
     "name": "stdout",
     "output_type": "stream",
     "text": [
      "....\n",
      ".\n",
      ".-..\n",
      ".-..\n",
      "---\n"
     ]
    }
   ],
   "source": [
    "for i in letter.split(): \n",
    "    print(i)"
   ]
  },
  {
   "cell_type": "code",
   "execution_count": 73,
   "metadata": {},
   "outputs": [
    {
     "data": {
      "text/plain": [
       "'---'"
      ]
     },
     "execution_count": 73,
     "metadata": {},
     "output_type": "execute_result"
    }
   ],
   "source": [
    "i"
   ]
  },
  {
   "cell_type": "code",
   "execution_count": 67,
   "metadata": {},
   "outputs": [],
   "source": [
    "def solution(letter):\n",
    "    answer = ''\n",
    "    for i in letter.split(): # 공백 나눠서 문자열로 바꿔줌\n",
    "        answer=''.join(morse[i]) # join 인줄알았는데 아닌가보다..\n",
    "    return answer"
   ]
  },
  {
   "cell_type": "code",
   "execution_count": 60,
   "metadata": {},
   "outputs": [
    {
     "ename": "TypeError",
     "evalue": "string indices must be integers, not 'str'",
     "output_type": "error",
     "traceback": [
      "\u001b[1;31m---------------------------------------------------------------------------\u001b[0m",
      "\u001b[1;31mTypeError\u001b[0m                                 Traceback (most recent call last)",
      "Cell \u001b[1;32mIn[60], line 1\u001b[0m\n\u001b[1;32m----> 1\u001b[0m \u001b[43msolution\u001b[49m\u001b[43m(\u001b[49m\u001b[43mletter\u001b[49m\u001b[43m)\u001b[49m\n",
      "Cell \u001b[1;32mIn[58], line 4\u001b[0m, in \u001b[0;36msolution\u001b[1;34m(letter)\u001b[0m\n\u001b[0;32m      2\u001b[0m answer \u001b[38;5;241m=\u001b[39m \u001b[38;5;124m'\u001b[39m\u001b[38;5;124m'\u001b[39m\n\u001b[0;32m      3\u001b[0m \u001b[38;5;28;01mfor\u001b[39;00m i \u001b[38;5;129;01min\u001b[39;00m letter\u001b[38;5;241m.\u001b[39msplit():\n\u001b[1;32m----> 4\u001b[0m     \u001b[43mletter\u001b[49m\u001b[43m[\u001b[49m\u001b[43mi\u001b[49m\u001b[43m]\u001b[49m\n\u001b[0;32m      5\u001b[0m     answer\u001b[38;5;241m=\u001b[39m \u001b[38;5;124m'\u001b[39m\u001b[38;5;124m'\u001b[39m\u001b[38;5;241m.\u001b[39mjoin(letter[i])\n\u001b[0;32m      6\u001b[0m \u001b[38;5;28;01mreturn\u001b[39;00m answer\n",
      "\u001b[1;31mTypeError\u001b[0m: string indices must be integers, not 'str'"
     ]
    }
   ],
   "source": [
    "solution(letter)"
   ]
  },
  {
   "cell_type": "code",
   "execution_count": 70,
   "metadata": {},
   "outputs": [
    {
     "data": {
      "text/plain": [
       "'o'"
      ]
     },
     "execution_count": 70,
     "metadata": {},
     "output_type": "execute_result"
    }
   ],
   "source": [
    "solution(letter)"
   ]
  },
  {
   "cell_type": "code",
   "execution_count": 74,
   "metadata": {},
   "outputs": [],
   "source": [
    "def solution(letter):\n",
    "    answer = ''\n",
    "    for i in letter.split(): # 공백 나눠서 문자열로 바꿔줌\n",
    "        answer += morse[i] # join 인줄알았는데 아닌가보다..\n",
    "                          # 생각해보니 쉬운거였음....\n",
    "    return answer"
   ]
  },
  {
   "cell_type": "code",
   "execution_count": 77,
   "metadata": {},
   "outputs": [
    {
     "data": {
      "text/plain": [
       "'hello'"
      ]
     },
     "execution_count": 77,
     "metadata": {},
     "output_type": "execute_result"
    }
   ],
   "source": [
    "solution(letter) #rne"
   ]
  },
  {
   "cell_type": "code",
   "execution_count": 76,
   "metadata": {},
   "outputs": [],
   "source": [
    "## join 쓰는거였음\n",
    "def solution(letter):\n",
    "    morse = {\n",
    "        '.-':'a','-...':'b','-.-.':'c','-..':'d','.':'e','..-.':'f',\n",
    "        '--.':'g','....':'h','..':'i','.---':'j','-.-':'k','.-..':'l',\n",
    "        '--':'m','-.':'n','---':'o','.--.':'p','--.-':'q','.-.':'r',\n",
    "        '...':'s','-':'t','..-':'u','...-':'v','.--':'w','-..-':'x',\n",
    "        '-.--':'y','--..':'z'\n",
    "    }\n",
    "\n",
    "    return ''.join([morse[i] for i in letter.split()])\n",
    "    #  #모스[i] 즉 인덱스 i번째 근데 딕셔너리로 인덱스를바꿔놧음  \n",
    "    # #근데 똑같은 split 인데 왜 여긴 따옴표를 넣는지 ?\n",
    "    # 아 디폴트 값이 '' 임 근데 다른걸 구분할수있으니\n",
    "    #에시\n",
    "    sentence = \"I love Python. Python is fun. Python is powerful.\"\n",
    "    result = sentence.split(\"Python\")  # \"Python\" 기준으로 나눔\n",
    "    print(result)  # 결과: ['I love ', '. ', ' is fun. ', ' is powerful.']\n",
    "    # join 은 만들어진값을 넣는거임 하나씩 더하는게 아니라 \n"
   ]
  },
  {
   "cell_type": "code",
   "execution_count": 78,
   "metadata": {},
   "outputs": [
    {
     "name": "stdout",
     "output_type": "stream",
     "text": [
      "['I love ', '. ', ' is fun. ', ' is powerful.']\n"
     ]
    }
   ],
   "source": [
    "# split 예시\n",
    "sentence = \"I love Python. Python is fun. Python is powerful.\"\n",
    "result = sentence.split(\"Python\")  # \"Python\" 기준으로 나눔\n",
    "print(result) # 오호 csv 에서 , 로 구분지어 저장되는데 거기서  split(,) 유용할거같음"
   ]
  },
  {
   "cell_type": "markdown",
   "metadata": {},
   "source": [
    "### 암호 해독 쉽게풀었지만 [ : : ]사용 하는거 개꿀팁"
   ]
  },
  {
   "cell_type": "code",
   "execution_count": null,
   "metadata": {},
   "outputs": [],
   "source": [
    "# cipher 암호\n",
    "# code 의 배수만\n",
    "# 인덱스값 구하는걸로 생각\n",
    "# 그럼 for range(len()) 이게 먼저생각남\n"
   ]
  },
  {
   "cell_type": "code",
   "execution_count": 39,
   "metadata": {},
   "outputs": [],
   "source": [
    "cipher =\"pfqallllabwaoclk\"\n",
    "code= 2\n"
   ]
  },
  {
   "cell_type": "code",
   "execution_count": 40,
   "metadata": {},
   "outputs": [],
   "source": [
    "def solution(cipher, code):\n",
    "    answer = ''\n",
    "    for i in range(len(cipher)):\n",
    "        if i % code ==0:\n",
    "            answer += cipher[i]\n",
    "\n",
    "    return answer"
   ]
  },
  {
   "cell_type": "code",
   "execution_count": 41,
   "metadata": {},
   "outputs": [
    {
     "data": {
      "text/plain": [
       "'pqllawol'"
      ]
     },
     "execution_count": 41,
     "metadata": {},
     "output_type": "execute_result"
    }
   ],
   "source": [
    "solution(cipher, code)"
   ]
  },
  {
   "cell_type": "code",
   "execution_count": null,
   "metadata": {},
   "outputs": [],
   "source": [
    "# 이상하게 나와서 뭔가 했더니 \n",
    "# 인덱스 0부터 시작하니까 그걸 1부터 시작으로해줘서\n",
    "#바꾼다."
   ]
  },
  {
   "cell_type": "code",
   "execution_count": 51,
   "metadata": {},
   "outputs": [],
   "source": [
    "def solution(cipher, code):\n",
    "    answer = ''\n",
    "    for i in range(len(cipher)): \n",
    "        if (i+1) % code ==0:  # 여기에 인덱스 1 더해줌\n",
    "            answer += cipher[i]\n",
    "\n",
    "    return answer"
   ]
  },
  {
   "cell_type": "code",
   "execution_count": 54,
   "metadata": {},
   "outputs": [
    {
     "data": {
      "text/plain": [
       "'fallback'"
      ]
     },
     "execution_count": 54,
     "metadata": {},
     "output_type": "execute_result"
    }
   ],
   "source": [
    "solution(cipher, code)"
   ]
  },
  {
   "cell_type": "code",
   "execution_count": 55,
   "metadata": {},
   "outputs": [],
   "source": [
    "#어이가 없네\n",
    "def solution(cipher, code): \n",
    "    answer = cipher[code-1::code] # chpher[code-1시작:끝까지:code만큼 띄워서]\n",
    "    return answer\n",
    "\n",
    "# 더 간결하게는 \n",
    "def solution(cipher, code):\n",
    "\n",
    "    return cipher[code-1::code]\n",
    "#그냥 리턴값에 넣어버리면됨."
   ]
  },
  {
   "cell_type": "markdown",
   "metadata": {},
   "source": [
    "### 주사위의 개수"
   ]
  },
  {
   "cell_type": "code",
   "execution_count": 57,
   "metadata": {},
   "outputs": [],
   "source": [
    "# 직육면체에 정육면체 넣고싶음\n",
    "#  box = [가로,세로,높이]\n",
    "# 주사위 모서리 n \n",
    "# box 에 들어갈 주사위 최대갯수\n",
    "# 간단히 생각해서 \n",
    "# 가로세로높이 n으로 나눠서 다 곱하면\n",
    "# 그냥 부피 구하는건가?"
   ]
  },
  {
   "cell_type": "code",
   "execution_count": 59,
   "metadata": {},
   "outputs": [],
   "source": [
    "box =[10, 8, 6]\n",
    "n=3"
   ]
  },
  {
   "cell_type": "code",
   "execution_count": 60,
   "metadata": {},
   "outputs": [],
   "source": [
    "def solution(box, n):\n",
    "    answer = 0\n",
    "    # for i in range(len(box)):\n",
    "    # 흠 그냥 인덱스값 나눠도 되나?\n",
    "    a=box[0]//n\n",
    "    b=box[1]//n \n",
    "    c=box[2]//n\n",
    "\n",
    "    return a*b*c"
   ]
  },
  {
   "cell_type": "code",
   "execution_count": 70,
   "metadata": {},
   "outputs": [
    {
     "data": {
      "text/plain": [
       "12"
      ]
     },
     "execution_count": 70,
     "metadata": {},
     "output_type": "execute_result"
    }
   ],
   "source": [
    "solution(box, n) #된다고?> 되네?\n"
   ]
  },
  {
   "cell_type": "code",
   "execution_count": 69,
   "metadata": {},
   "outputs": [],
   "source": [
    "#for 문\n",
    "def solution(box, n):\n",
    "    answer = 1 # 이게 0이면 곱 값은 0 이니까 1로 바꿔줌\n",
    "                # 굳\n",
    "    for i in box:\n",
    "        answer *= i//n\n",
    "    return answer"
   ]
  },
  {
   "cell_type": "markdown",
   "metadata": {},
   "source": [
    "### 배열 회전시키기 내가 쓴거 list반환이랑  반환 개념좀 "
   ]
  },
  {
   "cell_type": "code",
   "execution_count": null,
   "metadata": {},
   "outputs": [],
   "source": [
    "# 정수배열 numbers\n",
    "# 문자열 direction\n",
    "# 엥? 아. n 에 b방향으로 요소를 이동\n",
    "# 어제 들었을때 파이썬에선 변형하기 가장편한건 list\n",
    "# list 써보자\n",
    "# 아아 조건이 right left 둘중하나\n",
    "# 그럼 디랙션이 오른쪽일때랑 왼쪽일때 이프문?\n"
   ]
  },
  {
   "cell_type": "code",
   "execution_count": 77,
   "metadata": {},
   "outputs": [],
   "source": [
    "numbers =[1, 2, 3]\n",
    "direction =\"right\"\n"
   ]
  },
  {
   "cell_type": "code",
   "execution_count": 95,
   "metadata": {},
   "outputs": [],
   "source": [
    "def solution(numbers, direction):\n",
    "    \n",
    "    if direction == \"right\":\n",
    "        # 오른쪽으로 한칸 = 인덱스 +1 \n",
    "        # 마지막인덱스는 어떻게해?여기서 써야되는걸 모름\n",
    "        return numbers[-1] + numbers[:-1] \n",
    "    # 인덱스만 빼온거는 리스트 반환안함 그래서 리스트 써줘야됨\n",
    "    # 슬라이싱해온건 리스트 반화해줌 \n",
    "\n",
    "    else:\n",
    "        return numbers[1:] + numbers[0]\n",
    "        # 그값을 answer \n",
    "   "
   ]
  },
  {
   "cell_type": "code",
   "execution_count": 90,
   "metadata": {},
   "outputs": [
    {
     "data": {
      "text/plain": [
       "[1, 2]"
      ]
     },
     "execution_count": 90,
     "metadata": {},
     "output_type": "execute_result"
    }
   ],
   "source": [
    "numbers[-1] \n",
    "numbers[:-1]"
   ]
  },
  {
   "cell_type": "code",
   "execution_count": 96,
   "metadata": {},
   "outputs": [
    {
     "ename": "TypeError",
     "evalue": "unsupported operand type(s) for +: 'int' and 'list'",
     "output_type": "error",
     "traceback": [
      "\u001b[1;31m---------------------------------------------------------------------------\u001b[0m",
      "\u001b[1;31mTypeError\u001b[0m                                 Traceback (most recent call last)",
      "Cell \u001b[1;32mIn[96], line 1\u001b[0m\n\u001b[1;32m----> 1\u001b[0m \u001b[43msolution\u001b[49m\u001b[43m(\u001b[49m\u001b[43mnumbers\u001b[49m\u001b[43m,\u001b[49m\u001b[43m \u001b[49m\u001b[43mdirection\u001b[49m\u001b[43m)\u001b[49m\n",
      "Cell \u001b[1;32mIn[95], line 6\u001b[0m, in \u001b[0;36msolution\u001b[1;34m(numbers, direction)\u001b[0m\n\u001b[0;32m      1\u001b[0m \u001b[38;5;28;01mdef\u001b[39;00m \u001b[38;5;21msolution\u001b[39m(numbers, direction):\n\u001b[0;32m      3\u001b[0m     \u001b[38;5;28;01mif\u001b[39;00m direction \u001b[38;5;241m==\u001b[39m \u001b[38;5;124m\"\u001b[39m\u001b[38;5;124mright\u001b[39m\u001b[38;5;124m\"\u001b[39m:\n\u001b[0;32m      4\u001b[0m         \u001b[38;5;66;03m# 오른쪽으로 한칸 = 인덱스 +1 \u001b[39;00m\n\u001b[0;32m      5\u001b[0m         \u001b[38;5;66;03m# 마지막인덱스는 어떻게해?여기서 써야되는걸 모름\u001b[39;00m\n\u001b[1;32m----> 6\u001b[0m         \u001b[38;5;28;01mreturn\u001b[39;00m \u001b[43mnumbers\u001b[49m\u001b[43m[\u001b[49m\u001b[38;5;241;43m-\u001b[39;49m\u001b[38;5;241;43m1\u001b[39;49m\u001b[43m]\u001b[49m\u001b[43m \u001b[49m\u001b[38;5;241;43m+\u001b[39;49m\u001b[43m \u001b[49m\u001b[43mnumbers\u001b[49m\u001b[43m[\u001b[49m\u001b[43m:\u001b[49m\u001b[38;5;241;43m-\u001b[39;49m\u001b[38;5;241;43m1\u001b[39;49m\u001b[43m]\u001b[49m \n\u001b[0;32m      7\u001b[0m     \u001b[38;5;66;03m# 인덱스만 빼온거는 리스트 반환안함 그래서 리스트 써줘야됨\u001b[39;00m\n\u001b[0;32m      8\u001b[0m     \u001b[38;5;66;03m# 슬라이싱해온건 리스트 반화해줌 #아...\u001b[39;00m\n\u001b[0;32m      9\u001b[0m \n\u001b[0;32m     10\u001b[0m     \u001b[38;5;28;01melse\u001b[39;00m:\n\u001b[0;32m     11\u001b[0m         \u001b[38;5;28;01mreturn\u001b[39;00m numbers[\u001b[38;5;241m1\u001b[39m:] \u001b[38;5;241m+\u001b[39m numbers[\u001b[38;5;241m0\u001b[39m]\n",
      "\u001b[1;31mTypeError\u001b[0m: unsupported operand type(s) for +: 'int' and 'list'"
     ]
    }
   ],
   "source": [
    "solution(numbers, direction)"
   ]
  },
  {
   "cell_type": "code",
   "execution_count": 100,
   "metadata": {},
   "outputs": [],
   "source": [
    "def solution(numbers, direction):\n",
    "    \n",
    "    if direction == \"right\":\n",
    "         return [numbers[-1]] + numbers[:-1] \n",
    "    else:\n",
    "        return numbers[1:] + [numbers[0]]"
   ]
  },
  {
   "cell_type": "code",
   "execution_count": 101,
   "metadata": {},
   "outputs": [
    {
     "data": {
      "text/plain": [
       "[3, 1, 2]"
      ]
     },
     "execution_count": 101,
     "metadata": {},
     "output_type": "execute_result"
    }
   ],
   "source": [
    "solution(numbers, direction)"
   ]
  },
  {
   "cell_type": "markdown",
   "metadata": {},
   "source": [
    "### 369 게임 count() 사용방법 알수있음"
   ]
  },
  {
   "cell_type": "code",
   "execution_count": null,
   "metadata": {},
   "outputs": [],
   "source": [
    "# 정수배열 order 에\n",
    "# 3의 배수가 들어가면\n",
    "# 카운트 1개씩 추가 \n",
    "#그냥+=1 하자\n"
   ]
  },
  {
   "cell_type": "code",
   "execution_count": 115,
   "metadata": {},
   "outputs": [
    {
     "data": {
      "text/plain": [
       "'29423'"
      ]
     },
     "execution_count": 115,
     "metadata": {},
     "output_type": "execute_result"
    }
   ],
   "source": [
    "order=29423\n",
    "\n",
    "str(order)"
   ]
  },
  {
   "cell_type": "code",
   "execution_count": 127,
   "metadata": {},
   "outputs": [],
   "source": [
    "def solution(order):\n",
    "    answer = 0\n",
    "    for i in str(order):\n",
    "        if int(i) % 3 ==0:\n",
    "            answer += 1\n",
    "    return answer"
   ]
  },
  {
   "cell_type": "code",
   "execution_count": 105,
   "metadata": {},
   "outputs": [
    {
     "ename": "TypeError",
     "evalue": "'int' object is not iterable",
     "output_type": "error",
     "traceback": [
      "\u001b[1;31m---------------------------------------------------------------------------\u001b[0m",
      "\u001b[1;31mTypeError\u001b[0m                                 Traceback (most recent call last)",
      "Cell \u001b[1;32mIn[105], line 1\u001b[0m\n\u001b[1;32m----> 1\u001b[0m \u001b[43msolution\u001b[49m\u001b[43m(\u001b[49m\u001b[43morder\u001b[49m\u001b[43m)\u001b[49m\n",
      "Cell \u001b[1;32mIn[103], line 3\u001b[0m, in \u001b[0;36msolution\u001b[1;34m(order)\u001b[0m\n\u001b[0;32m      1\u001b[0m \u001b[38;5;28;01mdef\u001b[39;00m \u001b[38;5;21msolution\u001b[39m(order):\n\u001b[0;32m      2\u001b[0m     answer \u001b[38;5;241m=\u001b[39m \u001b[38;5;241m0\u001b[39m\n\u001b[1;32m----> 3\u001b[0m \u001b[43m    \u001b[49m\u001b[38;5;28;43;01mfor\u001b[39;49;00m\u001b[43m \u001b[49m\u001b[43mi\u001b[49m\u001b[43m \u001b[49m\u001b[38;5;129;43;01min\u001b[39;49;00m\u001b[43m \u001b[49m\u001b[43morder\u001b[49m\u001b[43m:\u001b[49m\n\u001b[0;32m      4\u001b[0m \u001b[43m        \u001b[49m\u001b[38;5;28;43;01mif\u001b[39;49;00m\u001b[43m \u001b[49m\u001b[43mi\u001b[49m\u001b[43m \u001b[49m\u001b[38;5;241;43m%\u001b[39;49m\u001b[43m \u001b[49m\u001b[38;5;241;43m3\u001b[39;49m\u001b[43m \u001b[49m\u001b[38;5;241;43m==\u001b[39;49m\u001b[38;5;241;43m0\u001b[39;49m\u001b[43m:\u001b[49m\n\u001b[0;32m      5\u001b[0m \u001b[43m            \u001b[49m\u001b[43manswer\u001b[49m\u001b[43m \u001b[49m\u001b[38;5;241;43m+\u001b[39;49m\u001b[43m \u001b[49m\u001b[43mi\u001b[49m\u001b[38;5;241;43m.\u001b[39;49m\u001b[43mcount\u001b[49m\u001b[43m(\u001b[49m\u001b[43m)\u001b[49m\n",
      "\u001b[1;31mTypeError\u001b[0m: 'int' object is not iterable"
     ]
    }
   ],
   "source": [
    "solution(order)\n",
    "# 아 그럼 str 로 만들어봄"
   ]
  },
  {
   "cell_type": "code",
   "execution_count": 126,
   "metadata": {},
   "outputs": [
    {
     "ename": "TypeError",
     "evalue": "not all arguments converted during string formatting",
     "output_type": "error",
     "traceback": [
      "\u001b[1;31m---------------------------------------------------------------------------\u001b[0m",
      "\u001b[1;31mTypeError\u001b[0m                                 Traceback (most recent call last)",
      "Cell \u001b[1;32mIn[126], line 1\u001b[0m\n\u001b[1;32m----> 1\u001b[0m \u001b[43msolution\u001b[49m\u001b[43m(\u001b[49m\u001b[43morder\u001b[49m\u001b[43m)\u001b[49m \u001b[38;5;66;03m#그럼 인트로 만들어봄\u001b[39;00m\n",
      "Cell \u001b[1;32mIn[125], line 4\u001b[0m, in \u001b[0;36msolution\u001b[1;34m(order)\u001b[0m\n\u001b[0;32m      2\u001b[0m answer \u001b[38;5;241m=\u001b[39m \u001b[38;5;241m0\u001b[39m\n\u001b[0;32m      3\u001b[0m \u001b[38;5;28;01mfor\u001b[39;00m i \u001b[38;5;129;01min\u001b[39;00m \u001b[38;5;28mstr\u001b[39m(order):\n\u001b[1;32m----> 4\u001b[0m     \u001b[38;5;28;01mif\u001b[39;00m \u001b[43mi\u001b[49m\u001b[43m \u001b[49m\u001b[38;5;241;43m%\u001b[39;49m\u001b[43m \u001b[49m\u001b[38;5;241;43m3\u001b[39;49m \u001b[38;5;241m==\u001b[39m\u001b[38;5;241m0\u001b[39m:\n\u001b[0;32m      5\u001b[0m         answer \u001b[38;5;241m+\u001b[39m\u001b[38;5;241m=\u001b[39m \u001b[38;5;241m1\u001b[39m\n\u001b[0;32m      6\u001b[0m \u001b[38;5;28;01mreturn\u001b[39;00m answer\n",
      "\u001b[1;31mTypeError\u001b[0m: not all arguments converted during string formatting"
     ]
    }
   ],
   "source": [
    "solution(order) #그럼 인트로 만들어봄\n"
   ]
  },
  {
   "cell_type": "code",
   "execution_count": 135,
   "metadata": {},
   "outputs": [
    {
     "data": {
      "text/plain": [
       "2"
      ]
     },
     "execution_count": 135,
     "metadata": {},
     "output_type": "execute_result"
    }
   ],
   "source": [
    "solution(order) # 굳"
   ]
  },
  {
   "cell_type": "code",
   "execution_count": 132,
   "metadata": {},
   "outputs": [],
   "source": [
    "# 실패 그럼 \n",
    "# % 가 안되는건가?\n",
    "def solution(order):\n",
    "    answer = 0\n",
    "    for i in str(order): # 아 0 일때 굳굳\n",
    "        if int(i)==0:\n",
    "             answer\n",
    "        elif int(i) % 3 ==0:\n",
    "                answer += 1\n",
    "    return answer"
   ]
  },
  {
   "cell_type": "code",
   "execution_count": 134,
   "metadata": {},
   "outputs": [],
   "source": [
    "def solution(order):\n",
    "    answer = 0\n",
    "    order = str(order)\n",
    "    return order.count('3') + order.count('6') + order.count('9')\n",
    "# count 사용법"
   ]
  },
  {
   "cell_type": "code",
   "execution_count": null,
   "metadata": {},
   "outputs": [],
   "source": [
    "def solution(order):\n",
    "    answer = 0\n",
    "    for i in str(order):\n",
    "        if i in [\"3\", \"6\", \"9\"]:\n",
    "            answer += 1\n",
    "    return answer\n",
    "# 이렇게 햇으면 깔끔 했음\n"
   ]
  },
  {
   "cell_type": "markdown",
   "metadata": {},
   "source": [
    "### 숫자 찾기 enumerate 인덱스와 그값을 추출해주는 함수"
   ]
  },
  {
   "cell_type": "code",
   "execution_count": null,
   "metadata": {},
   "outputs": [],
   "source": [
    "# num 숫자중 k 가 있으면\n",
    "# 그숫자가 있는자리수 리턴\n",
    "# 없으면 -1 리턴\n",
    "# for range len\n"
   ]
  },
  {
   "cell_type": "code",
   "execution_count": 68,
   "metadata": {},
   "outputs": [
    {
     "data": {
      "text/plain": [
       "['2', '9', '1', '8', '3']"
      ]
     },
     "execution_count": 68,
     "metadata": {},
     "output_type": "execute_result"
    }
   ],
   "source": [
    "num = 29183\n",
    "k= 1\n",
    "#리스트로 변환해서 \n",
    "n_list = list(str(num))\n",
    "n_list\n",
    "k_list = str(k) # 그냥 str 로 반환"
   ]
  },
  {
   "cell_type": "code",
   "execution_count": 70,
   "metadata": {},
   "outputs": [],
   "source": [
    "# 리스트나 문자열로 고쳐야됨\n",
    "\n",
    "def solution(num, k):\n",
    "   n_list = list(str(num))\n",
    "   k_list = str(k)\n",
    "   if k_list in n_list:\n",
    "      return n_list.index(k_list) + 1 # \n",
    "   else:\n",
    "     return -1"
   ]
  },
  {
   "cell_type": "code",
   "execution_count": 71,
   "metadata": {},
   "outputs": [
    {
     "data": {
      "text/plain": [
       "3"
      ]
     },
     "execution_count": 71,
     "metadata": {},
     "output_type": "execute_result"
    }
   ],
   "source": [
    "solution(num, k)"
   ]
  },
  {
   "cell_type": "code",
   "execution_count": null,
   "metadata": {},
   "outputs": [],
   "source": [
    "# for range len \n",
    "def solution(num, k):\n",
    "    # num을 문자열로 변환\n",
    "    num_str = str(num)\n",
    "    k_str = str(k)\n",
    "    \n",
    "    for i in range(len(num_str)):\n",
    "        if num_str[i] == k_str:\n",
    "            return i + 1  # 1부터 시작하는 위치 반환\n",
    "    return -1"
   ]
  },
  {
   "cell_type": "markdown",
   "metadata": {},
   "source": [
    "### 문자열 정리하기 upper lower sort 와 sorted 차이점\n",
    "join 사용"
   ]
  },
  {
   "cell_type": "code",
   "execution_count": 108,
   "metadata": {},
   "outputs": [],
   "source": [
    "# 모든 문자를 소문자로 바꾸고\n",
    "# 알파벳 순서대로 정렬\n",
    "# isupper? islower? 이거근데 확인만 해주는거고 변환해주지는 않는다\n",
    "# 그럼 .lower ?\n"
   ]
  },
  {
   "cell_type": "code",
   "execution_count": 109,
   "metadata": {},
   "outputs": [
    {
     "name": "stdout",
     "output_type": "stream",
     "text": [
      "BCAD\n",
      "bcad\n"
     ]
    },
    {
     "ename": "AttributeError",
     "evalue": "'str' object has no attribute 'sort'",
     "output_type": "error",
     "traceback": [
      "\u001b[1;31m---------------------------------------------------------------------------\u001b[0m",
      "\u001b[1;31mAttributeError\u001b[0m                            Traceback (most recent call last)",
      "Cell \u001b[1;32mIn[109], line 8\u001b[0m\n\u001b[0;32m      6\u001b[0m \u001b[38;5;28mprint\u001b[39m(me)\n\u001b[0;32m      7\u001b[0m \u001b[38;5;66;03m#근데 문자열 정렬도 sort 되나?\u001b[39;00m\n\u001b[1;32m----> 8\u001b[0m \u001b[43mmy_string\u001b[49m\u001b[38;5;241;43m.\u001b[39;49m\u001b[43msort\u001b[49m()\n",
      "\u001b[1;31mAttributeError\u001b[0m: 'str' object has no attribute 'sort'"
     ]
    }
   ],
   "source": [
    "my_string =\"Bcad\"\n",
    "my=my_string.upper()\n",
    "print(my)\n",
    "me=my_string.lower()\n",
    "\n",
    "print(me)\n",
    "#근데 문자열 정렬도 sort 되나?\n",
    "my_string.sort()\n"
   ]
  },
  {
   "cell_type": "code",
   "execution_count": 84,
   "metadata": {},
   "outputs": [
    {
     "data": {
      "text/plain": [
       "['B', 'a', 'c', 'd']"
      ]
     },
     "execution_count": 84,
     "metadata": {},
     "output_type": "execute_result"
    }
   ],
   "source": [
    "sorted(my_string) # 오 이건됨"
   ]
  },
  {
   "cell_type": "code",
   "execution_count": 105,
   "metadata": {},
   "outputs": [],
   "source": [
    "def solution(my_string):\n",
    "    answer = ''\n",
    "    low=my_string.lower()\n",
    "    # 아 join \n",
    "    answer=''.join(sorted(low))\n",
    "    return answer\n",
    "    # return sorted(low) # 이게되나?\n",
    "#그럼 위에서 문자열로 바꾸고 리턴해야된다."
   ]
  },
  {
   "cell_type": "code",
   "execution_count": 106,
   "metadata": {},
   "outputs": [
    {
     "data": {
      "text/plain": [
       "['a', 'b', 'c', 'd']"
      ]
     },
     "execution_count": 106,
     "metadata": {},
     "output_type": "execute_result"
    }
   ],
   "source": [
    "solution(my_string) # 된다 근데 결과값은 리스트로 반환된거같음"
   ]
  },
  {
   "cell_type": "code",
   "execution_count": 107,
   "metadata": {},
   "outputs": [
    {
     "data": {
      "text/plain": [
       "list"
      ]
     },
     "execution_count": 107,
     "metadata": {},
     "output_type": "execute_result"
    }
   ],
   "source": [
    "type(solution(my_string))"
   ]
  },
  {
   "cell_type": "markdown",
   "metadata": {},
   "source": [
    "### 합성수찾기 !! 약수구하는식 !!"
   ]
  },
  {
   "cell_type": "code",
   "execution_count": null,
   "metadata": {},
   "outputs": [],
   "source": [
    "# 약수의 갯수 3개이상 = 합성수\n",
    "# n 이하의 합성수의 갯수 리턴\n",
    "# ? 아 10 이면 10아래의 수중 합성수 갯수 리턴"
   ]
  },
  {
   "cell_type": "code",
   "execution_count": 112,
   "metadata": {},
   "outputs": [],
   "source": [
    "# 합성수 구하는식 먼저구해놓고\n",
    "# n 아래에 합성수 포함하면 answer +=1\n",
    "# 약수 구하는 매서드가 있었던거같은데\n",
    "# 구조는 if 매서드 > 2 :\n",
    "#           return answer += 1\n",
    "#그런거없음 \n",
    "# 처음부터 잘못생각 n 보다 작은 자연수\n",
    "# 그럼 n 보다 작은 range(1,n+1) for문으로\n",
    "\n",
    "n=10\n"
   ]
  },
  {
   "cell_type": "code",
   "execution_count": 129,
   "metadata": {},
   "outputs": [],
   "source": [
    "def solution(n):\n",
    "    x=[]\n",
    "    for i in range(1,int(n**0.5)+1):    # 이게 그냥 약수 구하는 방법\n",
    "        if n% i ==0:                    # 코드 다시읽어보기\n",
    "            x.append(i)\n",
    "            if i != n //i:\n",
    "                x.append(n//i)\n",
    "    x =sorted(x)                     # for 문에서의 리턴을 구해야되니 자리잘봐\n",
    "    j=0\n",
    "    for j in range(1,n+1):\n",
    "        if len(list(x)) > 2:\n",
    "            j +=1\n",
    "        return j\n",
    "# 그럼 여기서 n 의 약수는 x \n",
    "# x 의 길이가 2 보다 크다면 합성수\n",
    "# n 이 아니라 n 아래의 0보다 큰수\n",
    "\n",
    "    "
   ]
  },
  {
   "cell_type": "code",
   "execution_count": 140,
   "metadata": {},
   "outputs": [
    {
     "data": {
      "text/plain": [
       "5"
      ]
     },
     "execution_count": 140,
     "metadata": {},
     "output_type": "execute_result"
    }
   ],
   "source": [
    "solution(n)"
   ]
  },
  {
   "cell_type": "code",
   "execution_count": 139,
   "metadata": {},
   "outputs": [],
   "source": [
    "def solution(n):\n",
    "    j=0\n",
    "    for num in range(1,n+1):\n",
    "        x=[] # 약수 리스트\n",
    "        for i in range(1,int(num**0.5)+1):    \n",
    "            if num% i ==0:                    \n",
    "                x.append(i)\n",
    "                if i != num //i:\n",
    "                    x.append(num//i)                  \n",
    "        if len(x) > 2:\n",
    "            j +=1\n",
    "    return j"
   ]
  },
  {
   "cell_type": "code",
   "execution_count": 134,
   "metadata": {},
   "outputs": [],
   "source": [
    "#순서가 잘못된거같음 \n",
    "# 1. 1~n+1 까지 돌았을때 ㅇ\n",
    "# 2. i 약수들의 리스트 구한다 ㅇ\n",
    "# 3. 구한 리스트의 길이가 2보다 크면 ㅇ\n",
    "# 4. j 에 +1 그 값을 리턴 ㅇ\n"
   ]
  },
  {
   "cell_type": "code",
   "execution_count": null,
   "metadata": {},
   "outputs": [],
   "source": [
    "def solution(n):\n",
    "    count = 0  \n",
    "    for num in range(1, n + 1):\n",
    "        divisors = 0  \n",
    "        for i in range(1, num + 1): #약수 구할때 \n",
    "            if num % i == 0:       # 반복된 n 이하의 num i 를 나눈 나머지 \n",
    "                divisors += 1       # 나머지가 0이라면 약수 갯수 +1\n",
    "        if divisors >= 3:  # 약수의 개수가 3개 이상이면 합성수\n",
    "            count += 1\n",
    "\n",
    "    return count"
   ]
  },
  {
   "cell_type": "markdown",
   "metadata": {},
   "source": [
    "### 문자열로 변환 (총 68 문제)"
   ]
  },
  {
   "cell_type": "code",
   "execution_count": 142,
   "metadata": {},
   "outputs": [],
   "source": [
    "n=123\n",
    "# n을 문자열로 변환 123 을 \"123\"\n",
    "# join?\n",
    "# 보너스 문제 가 아니라 기초문제 앞부분이였네"
   ]
  },
  {
   "cell_type": "code",
   "execution_count": 141,
   "metadata": {},
   "outputs": [],
   "source": [
    "def solution(n):\n",
    "    answer = ''.join(str(n))\n",
    "    return answer"
   ]
  },
  {
   "cell_type": "code",
   "execution_count": 145,
   "metadata": {},
   "outputs": [
    {
     "data": {
      "text/plain": [
       "'123'"
      ]
     },
     "execution_count": 145,
     "metadata": {},
     "output_type": "execute_result"
    }
   ],
   "source": [
    "solution(n)"
   ]
  },
  {
   "cell_type": "code",
   "execution_count": 144,
   "metadata": {},
   "outputs": [],
   "source": [
    "def solution(n):\n",
    "    return str(n)"
   ]
  }
 ],
 "metadata": {
  "kernelspec": {
   "display_name": "study",
   "language": "python",
   "name": "python3"
  },
  "language_info": {
   "codemirror_mode": {
    "name": "ipython",
    "version": 3
   },
   "file_extension": ".py",
   "mimetype": "text/x-python",
   "name": "python",
   "nbconvert_exporter": "python",
   "pygments_lexer": "ipython3",
   "version": "3.12.8"
  }
 },
 "nbformat": 4,
 "nbformat_minor": 2
}
