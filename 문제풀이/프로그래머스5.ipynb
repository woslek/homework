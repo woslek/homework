{
 "cells": [
  {
   "cell_type": "markdown",
   "metadata": {},
   "source": [
    "### 소인수 분해 이건 !!무적권!! 질문 "
   ]
  },
  {
   "cell_type": "code",
   "execution_count": 1,
   "metadata": {},
   "outputs": [],
   "source": [
    "# 소인수분해 = 곱으로 표현\n",
    "# 12 소인수분해면 2 * 2 * 3\n",
    "# 따라서 [2,3] 나온다\n",
    "# n 의 소인수 오름차순 return\n",
    "# 일단 sort , sorted\n",
    "# 흠... \n",
    "# 제한사항이 2~10000 이라 range 쓰고싶지만\n",
    "# 그러면 너무 느려지고 효율 안나옴\n",
    "# 그럼 약수 구하는식? 제곱근?\n",
    "# 제곱근 구하면 되는건가?\n",
    " \n",
    "n =12"
   ]
  },
  {
   "cell_type": "code",
   "execution_count": null,
   "metadata": {},
   "outputs": [],
   "source": [
    "def solution(n):\n",
    "    answer = []\n",
    "    # 고민중.............\n",
    "    for i in range(1,int(n**0.5)+1):\n",
    "        if n%i==0:\n",
    "            answer.append(i)\n",
    "            if i != n//i:\n",
    "                answer.append(n//i)\n",
    "    return answer"
   ]
  },
  {
   "cell_type": "code",
   "execution_count": 3,
   "metadata": {},
   "outputs": [],
   "source": [
    "x= []\n",
    "for i in range(1,int(n**0.5)+1):    # 이게 그냥 약수 구하는 방법\n",
    "        if n% i ==0:                    # 코드 다시읽어보기\n",
    "            x.append(i)\n",
    "            if i != n //i:\n",
    "                x.append(n//i)"
   ]
  },
  {
   "cell_type": "code",
   "execution_count": 5,
   "metadata": {},
   "outputs": [
    {
     "data": {
      "text/plain": [
       "[1, 12, 2, 6, 3, 4]"
      ]
     },
     "execution_count": 5,
     "metadata": {},
     "output_type": "execute_result"
    }
   ],
   "source": [
    "x # 흠.. 이안에 요소들중에 약수를 가지는수가있어서 중복됨\n",
    "# 그럼 처음부터 잘못생각한거지\n",
    "#다시"
   ]
  },
  {
   "cell_type": "code",
   "execution_count": 13,
   "metadata": {},
   "outputs": [],
   "source": [
    "\n",
    "\n",
    "def solution(n):\n",
    "    answer = []\n",
    "    # 갑자기 든 생각\n",
    "    # while?\n",
    "    for i in range(1,int(n**5)+1): # 이게 제곱근\n",
    "        #그럼 여기서 if 가아니라 while 로 돌려서?\n",
    "        while n%i ==0 : # 계속 돌겠지? n+1 까지 숫자중에 n%i==0 이 나올때까지\n",
    "            answer.append(i)\n",
    "            if i!=n//i:\n",
    "                answer.append(n//i)# 이걸채워야하는데...\n",
    "            #brack? 하면? 하나 나오고 멈추겠지?\n",
    "            # 그럼 어떡하지?\n",
    "            break\n",
    "    return answer"
   ]
  },
  {
   "cell_type": "code",
   "execution_count": 12,
   "metadata": {},
   "outputs": [
    {
     "output_type": "error",
     "traceback": [
      "\u001b[1;31m---------------------------------------------------------------------------\u001b[0m",
      "\u001b[1;31mKeyboardInterrupt\u001b[0m                         Traceback (most recent call last)",
      "Cell \u001b[1;32mIn[12], line 1\u001b[0m\n\u001b[1;32m----> 1\u001b[0m \u001b[43msolution\u001b[49m\u001b[43m(\u001b[49m\u001b[43mn\u001b[49m\u001b[43m)\u001b[49m \u001b[38;5;66;03m# 흠.. \u001b[39;00m\n",
      "Cell \u001b[1;32mIn[11], line 7\u001b[0m, in \u001b[0;36msolution\u001b[1;34m(n)\u001b[0m\n\u001b[0;32m      3\u001b[0m \u001b[38;5;66;03m# 갑자기 든 생각\u001b[39;00m\n\u001b[0;32m      4\u001b[0m \u001b[38;5;66;03m# while?\u001b[39;00m\n\u001b[0;32m      5\u001b[0m \u001b[38;5;28;01mfor\u001b[39;00m i \u001b[38;5;129;01min\u001b[39;00m \u001b[38;5;28mrange\u001b[39m(\u001b[38;5;241m1\u001b[39m,\u001b[38;5;28mint\u001b[39m(n\u001b[38;5;241m*\u001b[39m\u001b[38;5;241m*\u001b[39m\u001b[38;5;241m5\u001b[39m)\u001b[38;5;241m+\u001b[39m\u001b[38;5;241m1\u001b[39m): \u001b[38;5;66;03m# 이게 제곱근\u001b[39;00m\n\u001b[0;32m      6\u001b[0m     \u001b[38;5;66;03m#그럼 여기서 if 가아니라 while 로 돌려서?\u001b[39;00m\n\u001b[1;32m----> 7\u001b[0m     \u001b[38;5;28;01mwhile\u001b[39;00m n\u001b[38;5;241m%\u001b[39mi \u001b[38;5;241m==\u001b[39m\u001b[38;5;241m0\u001b[39m : \u001b[38;5;66;03m# 계속 돌겠지? n+1 까지 숫자중에 n%i==0 이 나올때까지\u001b[39;00m\n\u001b[0;32m      8\u001b[0m         answer\u001b[38;5;241m.\u001b[39mappend(i)\n\u001b[0;32m      9\u001b[0m         \u001b[38;5;28;01mif\u001b[39;00m i\u001b[38;5;241m!=\u001b[39mn\u001b[38;5;241m/\u001b[39m\u001b[38;5;241m/\u001b[39mi:\n",
      "\u001b[1;31mKeyboardInterrupt\u001b[0m: "
     ]
    }
   ],
   "source": [
    "solution(n) # 흠.. "
   ]
  },
  {
   "cell_type": "code",
   "execution_count": 15,
   "metadata": {},
   "outputs": [],
   "source": [
    "\n",
    "\n",
    "def solution(n):\n",
    "    answer = []\n",
    "    # 갑자기 든 생각\n",
    "    # while?\n",
    "    for i in range(1,int(n**5)+1): # 이게 제곱근\n",
    "        #그럼 여기서 if 가아니라 while 로 돌려서?\n",
    "        while n%i ==0 : # 계속 돌겠지? n+1 까지 숫자중에 n%i==0 이 나올때까지\n",
    "            answer.append(i)\n",
    "            n//=i# 이걸채워야하는데...\n",
    "            #brack? 하면? 하나 나오고 멈추겠지?\n",
    "            # 그럼 어떡하지?\n",
    "\n",
    "    return answer"
   ]
  },
  {
   "cell_type": "code",
   "execution_count": null,
   "metadata": {},
   "outputs": [],
   "source": [
    "solution(n)"
   ]
  },
  {
   "cell_type": "markdown",
   "metadata": {},
   "source": [
    "### 이진수 더하기 bin "
   ]
  },
  {
   "cell_type": "code",
   "execution_count": 2,
   "metadata": {},
   "outputs": [
    {
     "data": {
      "text/plain": [
       "'0b1011'"
      ]
     },
     "execution_count": 2,
     "metadata": {},
     "output_type": "execute_result"
    }
   ],
   "source": [
    "# 이진수 의미 bin1,bi2\n",
    "# 두 이진수의 합\n",
    "# 흠\n",
    "# 길이 구하고 거기에 곱을 해놓는다?\n",
    "# 그러면 0번째에 10제곱을함\n",
    "# 흠..\n",
    "bin1=\"10\"\n",
    "bin2=\"11\"\n",
    "bin(11)"
   ]
  },
  {
   "cell_type": "code",
   "execution_count": 13,
   "metadata": {},
   "outputs": [
    {
     "data": {
      "text/plain": [
       "'0b11'"
      ]
     },
     "execution_count": 13,
     "metadata": {},
     "output_type": "execute_result"
    }
   ],
   "source": [
    "bin(2)\n",
    "bin(3)\n",
    "bin(5)\n",
    "int(bin1,2)\n",
    "bin(int(bin2,2))\n"
   ]
  },
  {
   "cell_type": "code",
   "execution_count": 20,
   "metadata": {},
   "outputs": [],
   "source": [
    "def solution(bin1, bin2):\n",
    "    \n",
    "    a=bin(int(bin1,2)+int(bin2,2))[2::] # 여기에 슬라이싱\n",
    "\n",
    "    return ''.join(a)"
   ]
  },
  {
   "cell_type": "code",
   "execution_count": 19,
   "metadata": {},
   "outputs": [
    {
     "data": {
      "text/plain": [
       "'0b101'"
      ]
     },
     "execution_count": 19,
     "metadata": {},
     "output_type": "execute_result"
    }
   ],
   "source": [
    "solution(bin1, bin2) # 0b가 붙는이유는 2진수라는걸 나타내느 표시\n",
    "# 결과값은 101 이여야 하니까 앞에 두개를 지워주는걸 함수에 넣어야함"
   ]
  },
  {
   "cell_type": "markdown",
   "metadata": {},
   "source": [
    "### 잘라서 배열로 저장하기"
   ]
  },
  {
   "cell_type": "code",
   "execution_count": 34,
   "metadata": {},
   "outputs": [],
   "source": [
    "# 문자열 my_str\n",
    "# n 씩 잘라서\n",
    "# 저장한 배열을 리턴\n",
    "# len 을 n을 잘라야한다...\n",
    "my_str=\"abc1Addfggg4556b\"\n",
    "n=6\n",
    "# 아 range?"
   ]
  },
  {
   "cell_type": "code",
   "execution_count": 39,
   "metadata": {},
   "outputs": [
    {
     "data": {
      "text/plain": [
       "'556b'"
      ]
     },
     "execution_count": 39,
     "metadata": {},
     "output_type": "execute_result"
    }
   ],
   "source": [
    "range(0,len(my_str),n)\n",
    "# 길이 n개씩 나눠놨고\n",
    "my_str[0:n:]\n",
    "my_str[n:2*n:]\n",
    "my_str[n*2:n*3:]\n",
    "#흠 계속 곱해나가는건가?\n"
   ]
  },
  {
   "cell_type": "code",
   "execution_count": 31,
   "metadata": {},
   "outputs": [
    {
     "data": {
      "text/plain": [
       "12"
      ]
     },
     "execution_count": 31,
     "metadata": {},
     "output_type": "execute_result"
    }
   ],
   "source": [
    "i \n"
   ]
  },
  {
   "cell_type": "code",
   "execution_count": 45,
   "metadata": {},
   "outputs": [],
   "source": [
    "def solution(my_str, n):\n",
    "    answer = []\n",
    "    for i in range(0,len(my_str),n):\n",
    "        answer.append(i)\n",
    "    return answer"
   ]
  },
  {
   "cell_type": "code",
   "execution_count": 46,
   "metadata": {},
   "outputs": [
    {
     "data": {
      "text/plain": [
       "[0, 6, 12]"
      ]
     },
     "execution_count": 46,
     "metadata": {},
     "output_type": "execute_result"
    }
   ],
   "source": [
    "solution(my_str, n)"
   ]
  },
  {
   "cell_type": "code",
   "execution_count": 47,
   "metadata": {},
   "outputs": [],
   "source": [
    "def solution(my_str, n):\n",
    "    answer = []\n",
    "    for i in range(0,len(my_str),n):\n",
    "        answer.append(my_str[i:i+n])\n",
    "    return answer"
   ]
  },
  {
   "cell_type": "code",
   "execution_count": 48,
   "metadata": {},
   "outputs": [
    {
     "data": {
      "text/plain": [
       "['abc1Ad', 'dfggg4', '556b']"
      ]
     },
     "execution_count": 48,
     "metadata": {},
     "output_type": "execute_result"
    }
   ],
   "source": [
    "solution(my_str, n)"
   ]
  },
  {
   "cell_type": "code",
   "execution_count": 49,
   "metadata": {},
   "outputs": [],
   "source": [
    "# while 문 \n",
    "def solution(my_str, n):\n",
    "    answer = []\n",
    "\n",
    "    while len(my_str) > n:\n",
    "        answer.append(my_str[:n])\n",
    "        my_str = my_str[n:]\n",
    "\n",
    "    if my_str != \"\":\n",
    "        answer.append(my_str)\n",
    "\n",
    "\n",
    "    return answer"
   ]
  },
  {
   "cell_type": "code",
   "execution_count": 50,
   "metadata": {},
   "outputs": [
    {
     "data": {
      "text/plain": [
       "['abc1Ad', 'dfggg4', '556b']"
      ]
     },
     "execution_count": 50,
     "metadata": {},
     "output_type": "execute_result"
    }
   ],
   "source": [
    "solution(my_str, n)"
   ]
  }
 ],
 "metadata": {
  "kernelspec": {
   "display_name": "study",
   "language": "python",
   "name": "python3"
  },
  "language_info": {
   "codemirror_mode": {
    "name": "ipython",
    "version": 3
   },
   "file_extension": ".py",
   "mimetype": "text/x-python",
   "name": "python",
   "nbconvert_exporter": "python",
   "pygments_lexer": "ipython3",
   "version": "3.12.8"
  }
 },
 "nbformat": 4,
 "nbformat_minor": 2
}
