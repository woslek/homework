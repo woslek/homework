{
 "cells": [
  {
   "cell_type": "markdown",
   "metadata": {},
   "source": [
    "### 스킬테스트 문제 "
   ]
  },
  {
   "cell_type": "code",
   "execution_count": null,
   "metadata": {},
   "outputs": [],
   "source": [
    "# String형 배열 seoul의 element중 \"Kim\"의 위치 x를 찾아,\n",
    "# \"김서방은 x에 있다\"는 String을 반환하는 함수, solution을 완성하세요.\n",
    "#  seoul에 \"Kim\"은 오직 한 번만 나타나며 잘못된 값이 입력되는 경우는 없습니다."
   ]
  },
  {
   "cell_type": "code",
   "execution_count": null,
   "metadata": {},
   "outputs": [],
   "source": [
    "seoul=[\"jane\",\"kim\"]\n",
    "# \"김서방은 1에 있다\"\n",
    "# 벨류가 인덱스에 있다.\n"
   ]
  },
  {
   "cell_type": "code",
   "execution_count": null,
   "metadata": {},
   "outputs": [],
   "source": [
    "def solution(seoul):\n",
    "    index = seoul.index(\"Kim\")\n",
    "    \n",
    "    return f\"김서방은 {index}에 있다\"\n",
    "    # answer = ''\n",
    "    # for i in seoul:\n",
    "    #     if i == \"kim\":\n",
    "    #         answer = (f'김서방은 {seoul.index(i)}에있다')\n",
    "    \n",
    "    # return answer\n",
    "    # for 문은 있을때 반환하는거지\n"
   ]
  },
  {
   "cell_type": "code",
   "execution_count": 20,
   "metadata": {},
   "outputs": [
    {
     "data": {
      "text/plain": [
       "'김서방은 1에있다'"
      ]
     },
     "execution_count": 20,
     "metadata": {},
     "output_type": "execute_result"
    }
   ],
   "source": [
    "solution(seoul)"
   ]
  },
  {
   "cell_type": "code",
   "execution_count": 16,
   "metadata": {},
   "outputs": [
    {
     "data": {
      "text/plain": [
       "1"
      ]
     },
     "execution_count": 16,
     "metadata": {},
     "output_type": "execute_result"
    }
   ],
   "source": [
    "seoul.index(\"kim\")"
   ]
  },
  {
   "cell_type": "markdown",
   "metadata": {},
   "source": [
    "### 스킬테스트 2"
   ]
  },
  {
   "cell_type": "code",
   "execution_count": null,
   "metadata": {},
   "outputs": [],
   "source": [
    "# 문자열 s를 숫자로 변환한 결과를 반환하는 함수, solution을 완성하세요."
   ]
  },
  {
   "cell_type": "code",
   "execution_count": 22,
   "metadata": {},
   "outputs": [],
   "source": [
    "\n",
    "# s의 길이는 1 이상 5이하입니다.\n",
    "# s의 맨앞에는 부호(+, -)가 올 수 있습니다.\n",
    "# s는 부호와 숫자로만 이루어져있습니다.\n",
    "# s는 \"0\"으로 시작하지 않습니다\n",
    "s=\"-1234\""
   ]
  },
  {
   "cell_type": "code",
   "execution_count": 24,
   "metadata": {},
   "outputs": [],
   "source": [
    "def solution(s):\n",
    "\n",
    "    \n",
    "    return int(s)"
   ]
  },
  {
   "cell_type": "code",
   "execution_count": 23,
   "metadata": {},
   "outputs": [
    {
     "data": {
      "text/plain": [
       "-1234"
      ]
     },
     "execution_count": 23,
     "metadata": {},
     "output_type": "execute_result"
    }
   ],
   "source": [
    "int(s)"
   ]
  },
  {
   "cell_type": "code",
   "execution_count": 25,
   "metadata": {},
   "outputs": [
    {
     "data": {
      "text/plain": [
       "-1234"
      ]
     },
     "execution_count": 25,
     "metadata": {},
     "output_type": "execute_result"
    }
   ],
   "source": [
    "solution(s)"
   ]
  },
  {
   "cell_type": "markdown",
   "metadata": {},
   "source": [
    "### 스킬테스트3 "
   ]
  },
  {
   "cell_type": "code",
   "execution_count": 69,
   "metadata": {},
   "outputs": [
    {
     "data": {
      "text/plain": [
       "range(0, 5)"
      ]
     },
     "execution_count": 69,
     "metadata": {},
     "output_type": "execute_result"
    }
   ],
   "source": [
    "# 초 단위로 기록된 주식가격이 담긴 배열 prices가 매개변수로 주어질 때,\n",
    "#  가격이 떨어지지 않은 기간은 몇 초인지를\n",
    "#  return 하도록 solution 함수를 완성하세요.\n",
    "prices=[1, 2, 3, 2, 3]\n",
    "# 그럼 앞에 값이\n",
    "# 뒤에 값보다 크다면 +=1?\n",
    "# 그걸 반복해서 나머지 값도 구한다?\n",
    "range(len(prices))\n"
   ]
  },
  {
   "cell_type": "code",
   "execution_count": 65,
   "metadata": {},
   "outputs": [
    {
     "data": {
      "text/plain": [
       "[4, 3, 1, 1, 0]"
      ]
     },
     "execution_count": 65,
     "metadata": {},
     "output_type": "execute_result"
    }
   ],
   "source": [
    "solution(prices)"
   ]
  },
  {
   "cell_type": "code",
   "execution_count": null,
   "metadata": {},
   "outputs": [],
   "source": [
    "def solution(prices):\n",
    "    p = len(prices)\n",
    "    answer = [0] * p  # 여기에 p를 곱해줘야함..\n",
    "    \n",
    "    for i in range(p):\n",
    "        count = 0\n",
    "        for j in range(i + 1, p):\n",
    "            count += 1\n",
    "            if prices[i] > prices[j]:  # 가격이 떨어지면 중단\n",
    "                break\n",
    "        answer[i] = count  # 유지된 시간 저장\n",
    "\n",
    "    return answer"
   ]
  },
  {
   "cell_type": "code",
   "execution_count": 76,
   "metadata": {},
   "outputs": [
    {
     "data": {
      "text/plain": [
       "[4, 3, 1, 1, 0]"
      ]
     },
     "execution_count": 76,
     "metadata": {},
     "output_type": "execute_result"
    }
   ],
   "source": [
    "solution(prices)"
   ]
  },
  {
   "cell_type": "markdown",
   "metadata": {},
   "source": [
    "### 스킬테스트 4"
   ]
  },
  {
   "cell_type": "code",
   "execution_count": null,
   "metadata": {},
   "outputs": [],
   "source": [
    "# 사전에 알파벳 모음 'A', 'E', 'I', 'O', 'U'만을 사용하여 만들 수 있는,\n",
    "#  길이 5 이하의 모든 단어가 수록되어 있습니다.\n",
    "#  사전에서 첫 번째 단어는 \"A\"이고, 그다음은 \"AA\"이며,\n",
    "#  마지막 단어는 \"UUUUU\"입니다.\n",
    "\n",
    "# 단어 하나 word가 매개변수로 주어질 때,\n",
    "#  이 단어가 사전에서 몇 번째 단어인지 \n",
    "# return 하도록 solution 함수를 완성해주세요."
   ]
  },
  {
   "cell_type": "code",
   "execution_count": null,
   "metadata": {},
   "outputs": [],
   "source": []
  },
  {
   "cell_type": "code",
   "execution_count": null,
   "metadata": {},
   "outputs": [],
   "source": [
    "def solution(word):\n",
    "    answer = 0\n",
    "    \n",
    "    return answer"
   ]
  },
  {
   "cell_type": "code",
   "execution_count": null,
   "metadata": {},
   "outputs": [
    {
     "data": {
      "text/plain": [
       "'00'"
      ]
     },
     "execution_count": 48,
     "metadata": {},
     "output_type": "execute_result"
    }
   ],
   "source": []
  },
  {
   "cell_type": "code",
   "execution_count": null,
   "metadata": {},
   "outputs": [],
   "source": [
    "# 흠..\n",
    "# 처음 보는 문제\n",
    "# A AA AAA AAAA AAAAA 5\n",
    "# AE AAE AAAE  \n",
    "# AAAAE 6 AAAAI AAAAO AAAAU"
   ]
  },
  {
   "cell_type": "markdown",
   "metadata": {},
   "source": [
    "### 동영상 10초 +- 오프닝스킵"
   ]
  },
  {
   "cell_type": "code",
   "execution_count": 77,
   "metadata": {},
   "outputs": [],
   "source": [
    "\n",
    "# 오프닝 건너뛰기 3가지 기능\n",
    "# prev 명령 입력할 경우 10초전\n",
    "# 10초 미만인경우 처음위치 0분0초\n",
    "#  next 입력 10초후로 이동\n",
    "# 종료 10초 미만인 경우 마지막위치 = 동영상 길이\n",
    "# 오프닝 건너뛰기 현재생위치 op_start<= 현재 재생위치<=op_end\n",
    "# 자동으로 오프닝 끝나는위치\n",
    "# video_len 동영상길이 문자열\n",
    "# pos 기능의 재생위치\n",
    "# 사용자 입력을 나타내는 1차원 문자배열 commands \n",
    "# 사용자 입력끝난후 동영상위치 \"mm:ss\"\n",
    "#형식으로 리턴하는 솔루션 함수\n",
    "video_len=\"34:33\" # 영상길이\n",
    "pos = \"13:00\" # 멈춘시점\n",
    "op_start=\"00:55\" # 오프닝스타트\n",
    "op_end = \"02:55\" # 오프닝끝\n",
    "commands=[\"next\",\"prev\"]\n",
    "# next = 10초뒤\n",
    "# prev = 10초전\n",
    "# 건너뛰기는 내가 만들어야하나봄\n",
    "# op_skip = 오프닝 끝나는 시간으로\n",
    "\n",
    "# result \"13:00\""
   ]
  },
  {
   "cell_type": "code",
   "execution_count": 95,
   "metadata": {},
   "outputs": [
    {
     "name": "stdout",
     "output_type": "stream",
     "text": [
      "<class 'str'>\n"
     ]
    }
   ],
   "source": [
    "# 다시 생각해보자\n",
    "# 결국 내가 pos 에서 계산된 값이 결과값\n",
    "# n 은 +10 한값 p 는 -10 한값\n",
    "# 조건 +10 값이 video_len 값을 넘으면 video_len 값을 반환\n",
    "# -10 값이 0보다 작다면 0 반환 #이게좀 걸리네\n",
    "# \n",
    "# op_skip 은 op_end 값 (조건 os 와 oe 의 사이시간)\n",
    "# op_skip이 os 보다 작거나 oe 보다 크다면 \n",
    "# 스킵시간이 아닙니다. 출력\n",
    "# 방법\n",
    "p=pos.split(':')\n",
    "print(type(p[0]+p[1]))"
   ]
  },
  {
   "cell_type": "code",
   "execution_count": null,
   "metadata": {},
   "outputs": [
    {
     "data": {
      "text/plain": [
       "14"
      ]
     },
     "execution_count": 98,
     "metadata": {},
     "output_type": "execute_result"
    }
   ],
   "source": [
    "\"1300\"+\"1111\"\n",
    "int(\"1300\")+int(\"1111\") # 그럼 p[1] 이 60이 넘어갈때 p[0] 값을 어떻게 변화를주냐\n",
    "int(p[0]) +1 # 이렇게 한값을 다시 합쳐? \n",
    "# 아 그냥 다\n"
   ]
  },
  {
   "cell_type": "code",
   "execution_count": null,
   "metadata": {},
   "outputs": [],
   "source": [
    "def solution(video_len, pos, op_start, op_end, commands):\n",
    "    numbers=''\n",
    "    for x,y in dic:\n",
    "    numbers=numbers.replace(x,y)\n",
    "    return numbers\n",
    "    \n",
    "  "
   ]
  },
  {
   "cell_type": "markdown",
   "metadata": {},
   "source": [
    "### 영어가 싫어요 replace , enumerate ,items"
   ]
  },
  {
   "cell_type": "code",
   "execution_count": 21,
   "metadata": {},
   "outputs": [],
   "source": [
    "# numbers \n",
    "# \n",
    "a_numbers=\"onetwothreefourfivesixseveneightnine\""
   ]
  },
  {
   "cell_type": "code",
   "execution_count": 44,
   "metadata": {},
   "outputs": [],
   "source": [
    "def solution(a_numbers):\n",
    "    \n",
    "    dic={\"zero\":'0',\"one\":'1', \"two\":'2', \"three\":'3', \"four\":'4', \"five\":'5', \"six\":'6', \"seven\":'7', \"eight\":'8', \"nine\":'9'}\n",
    "    for x,y in dic.items():\n",
    "         a_numbers=a_numbers.replace(x,y)\n",
    "    return int(a_numbers)\n",
    " "
   ]
  },
  {
   "cell_type": "code",
   "execution_count": 45,
   "metadata": {},
   "outputs": [
    {
     "data": {
      "text/plain": [
       "123456789"
      ]
     },
     "execution_count": 45,
     "metadata": {},
     "output_type": "execute_result"
    }
   ],
   "source": [
    "solution(a_numbers)"
   ]
  },
  {
   "cell_type": "code",
   "execution_count": null,
   "metadata": {},
   "outputs": [],
   "source": [
    "dic={\"zero\":0,\"one\":1, \"two\":2, \"three\":3, \"four\":4, \"five\":5, \"six\":6, \"seven\":7, \"eight\":8, \"nine\":9}"
   ]
  },
  {
   "cell_type": "code",
   "execution_count": 6,
   "metadata": {},
   "outputs": [
    {
     "data": {
      "text/plain": [
       "{'zero': 0,\n",
       " 'one': 1,\n",
       " 'two': 2,\n",
       " 'three': 3,\n",
       " 'four': 4,\n",
       " 'five': 5,\n",
       " 'six': 6,\n",
       " 'seven': 7,\n",
       " 'eight': 8,\n",
       " 'nine': 9}"
      ]
     },
     "execution_count": 6,
     "metadata": {},
     "output_type": "execute_result"
    }
   ],
   "source": [
    "dic"
   ]
  },
  {
   "cell_type": "code",
   "execution_count": null,
   "metadata": {},
   "outputs": [],
   "source": [
    "\n",
    "def solution(numbers):\n",
    "    for num, eng in enumerate([\"zero\", \"one\", \"two\", \"three\", \"four\", \"five\", \"six\", \"seven\", \"eight\", \"nine\"]):\n",
    "        numbers = numbers.replace(eng, str(num))\n",
    "    return int(numbers)"
   ]
  },
  {
   "cell_type": "code",
   "execution_count": 19,
   "metadata": {},
   "outputs": [],
   "source": [
    "def pita(a,b):\n",
    "    c=a**2 + b**2\n",
    "    return c**0.5\n"
   ]
  },
  {
   "cell_type": "code",
   "execution_count": 20,
   "metadata": {},
   "outputs": [
    {
     "data": {
      "text/plain": [
       "5.0"
      ]
     },
     "execution_count": 20,
     "metadata": {},
     "output_type": "execute_result"
    }
   ],
   "source": [
    "pita(3,4)"
   ]
  },
  {
   "cell_type": "code",
   "execution_count": null,
   "metadata": {},
   "outputs": [],
   "source": [
    "# §순차 탐색 문제\n",
    "# •문제: 어떤 수 𝑥가 𝑛개의 수로 구성된 리스트 𝑆에 존재하는가?\n",
    "# •해답: 𝑥가 존재하면 𝑥의 인덱스가, 존재하지 않으면 0 출력\n",
    "# •파라미터: 정수  𝑛 (> 0) , 리스트  𝑆,  원소  𝑥\n",
    "# •입력 사례: 𝑆 = [0, 10, 7, 11, 5, 13, 8 ] , 𝑛 = 6, 𝑥 = 5\n",
    "# •입력 사례에 대한 해답: 𝑙𝑜𝑐𝑎𝑡𝑖𝑜𝑛 = 4\n",
    "# •알고리즘: 모든 𝑆에 대해서 𝑥의 인덱스를 찾아주는 단계별 절차\n",
    "#    ⁃  𝑆의 첫째 원소(0 제외)에서 시작하여 𝑥를 찾을 때까지 (𝑥가 없는 경우 끝까지)\n",
    "#    ⁃   각 원소를 차례로 𝑥와 비교한다.\n",
    "#    ⁃  만약, 𝑥를 찾으면 𝑥의 인덱스를 리턴하고,\n",
    "#    ⁃  𝑥를 찾지 못하면 0을 리턴한다."
   ]
  },
  {
   "cell_type": "code",
   "execution_count": 41,
   "metadata": {},
   "outputs": [],
   "source": [
    "S = [50,77,317,488,108,473,0,414,425,352,13,360,438,112,11,23,283,\n",
    "     208,337,1,353,5,83,483,302,274,4,442,468,115,272,44,409,325,408,\n",
    "     288,475,494,495,106,72,394,218,164,74,334,476,48,367,151,246,267,\n",
    "     59,20,165,322,454,469,176,73,496,270,91,18,25,485,136,410,39,\n",
    "     90,416,383,191,168,472,356,451,256,296,330,170,351,281,253,294,\n",
    "     8,58,169,251,220,34,186,198,93,470,471,460,235,236,70,439,241,31,103,\n",
    "     441,377,162,40,303,350,455,363,175,421,17,188,297,378,214,147,149,111,\n",
    "     417,357,362,167,387,384,231,308,243,299,12,101,150,319,354,343,2,271,215,\n",
    "     107,202,211,432,226,397,326,222,213 ]\n",
    "n=150"
   ]
  },
  {
   "cell_type": "code",
   "execution_count": 47,
   "metadata": {},
   "outputs": [],
   "source": [
    "def sum_num(S):\n",
    "    return sum(S)\n"
   ]
  },
  {
   "cell_type": "code",
   "execution_count": 35,
   "metadata": {},
   "outputs": [
    {
     "ename": "NameError",
     "evalue": "name 'sum_num' is not defined",
     "output_type": "error",
     "traceback": [
      "\u001b[1;31m---------------------------------------------------------------------------\u001b[0m",
      "\u001b[1;31mNameError\u001b[0m                                 Traceback (most recent call last)",
      "Cell \u001b[1;32mIn[35], line 1\u001b[0m\n\u001b[1;32m----> 1\u001b[0m \u001b[43msum_num\u001b[49m(S)\n",
      "\u001b[1;31mNameError\u001b[0m: name 'sum_num' is not defined"
     ]
    }
   ],
   "source": [
    "sum_num(S)"
   ]
  },
  {
   "cell_type": "code",
   "execution_count": 36,
   "metadata": {},
   "outputs": [
    {
     "data": {
      "text/plain": [
       "range(1, 200)"
      ]
     },
     "execution_count": 36,
     "metadata": {},
     "output_type": "execute_result"
    }
   ],
   "source": [
    "range(1,200)"
   ]
  },
  {
   "cell_type": "code",
   "execution_count": 50,
   "metadata": {},
   "outputs": [
    {
     "name": "stdout",
     "output_type": "stream",
     "text": [
      "[1, 2, 3, 4, 5, 6, 7, 8, 9, 10, 11, 12, 13, 14, 15, 16, 17, 18, 19, 20, 21, 22, 23, 24, 25, 26, 27, 28, 29, 30, 31, 32, 33, 34, 35, 36, 37, 38, 39, 40, 41, 42, 43, 44, 45, 46, 47, 48, 49, 50, 51, 52, 53, 54, 55, 56, 57, 58, 59, 60, 61, 62, 63, 64, 65, 66, 67, 68, 69, 70, 71, 72, 73, 74, 75, 76, 77, 78, 79, 80, 81, 82, 83, 84, 85, 86, 87, 88, 89, 90, 91, 92, 93, 94, 95, 96, 97, 98, 99, 100, 101, 102, 103, 104, 105, 106, 107, 108, 109, 110, 111, 112, 113, 114, 115, 116, 117, 118, 119, 120, 121, 122, 123, 124, 125, 126, 127, 128, 129, 130, 131, 132, 133, 134, 135, 136, 137, 138, 139, 140, 141, 142, 143, 144, 145, 146, 147, 148, 149, 150, 151, 152, 153, 154, 155, 156, 157, 158, 159, 160, 161, 162, 163, 164, 165, 166, 167, 168, 169, 170, 171, 172, 173, 174, 175, 176, 177, 178, 179, 180, 181, 182, 183, 184, 185, 186, 187, 188, 189, 190, 191, 192, 193, 194, 195, 196, 197, 198, 199]\n"
     ]
    }
   ],
   "source": [
    "x=[]\n",
    "for i in range(1,200):\n",
    "     x.append(i)\n",
    "print(x)"
   ]
  },
  {
   "cell_type": "code",
   "execution_count": 23,
   "metadata": {},
   "outputs": [
    {
     "data": {
      "text/plain": [
       "199"
      ]
     },
     "execution_count": 23,
     "metadata": {},
     "output_type": "execute_result"
    }
   ],
   "source": [
    "# N 은 정수 리스트\n",
    "# 3은 Fizz 5는 buzz\n",
    "# 공배수는 FizzBuzz\n",
    "N=[1, 2, 3, 4, 5, 6, 7, 8, 9, 10, 11, 12, 13, 14, 15, 16, 17, 18, 19, 20, 21, 22, 23, 24, 25, 26, 27, 28, 29, 30, 31, 32, 33, 34, 35, 36, 37, 38, 39, 40, 41, 42, 43, 44, 45, 46, 47, 48, 49, 50, 51, 52, 53, 54, 55, 56, 57, 58, 59, 60, 61, 62, 63, 64, 65, 66, 67, 68, 69, 70, 71, 72, 73, 74, 75, 76, 77, 78, 79, 80, 81, 82, 83, 84, 85, 86, 87, 88, 89, 90, 91, 92, 93, 94, 95, 96, 97, 98, 99, 100, 101, 102, 103, 104, 105, 106, 107, 108, 109, 110, 111, 112, 113, 114, 115, 116, 117, 118, 119, 120, 121, 122, 123, 124, 125, 126, 127, 128, 129, 130, 131, 132, 133, 134, 135, 136, 137, 138, 139, 140, 141, 142, 143, 144, 145, 146, 147, 148, 149, 150, 151, 152, 153, 154, 155, 156, 157, 158, 159, 160, 161, 162, 163, 164, 165, 166, 167, 168, 169, 170, 171, 172, 173, 174, 175, 176, 177, 178, 179, 180, 181, 182, 183, 184, 185, 186, 187, 188, 189, 190, 191, 192, 193, 194, 195, 196, 197, 198, 199]\n",
    "len(N)\n",
    "n= len(N)\n",
    "n\n",
    "# n= range(1,len(int(N)+1))"
   ]
  },
  {
   "cell_type": "code",
   "execution_count": 19,
   "metadata": {},
   "outputs": [],
   "source": [
    "def s(N):\n",
    "    for i in range(len(N)):\n",
    "        if N[i] % 3 == 0 and N[i] % 5 == 0: # 공배수\n",
    "            N[i] = 'FizzBuzz'\n",
    "        elif N[i] % 3 == 0:\n",
    "            N[i] = 'Fizz'\n",
    "        elif N[i] % 5 == 0:\n",
    "            N[i] = 'Buzz'\n",
    "    return N"
   ]
  },
  {
   "cell_type": "code",
   "execution_count": 24,
   "metadata": {},
   "outputs": [],
   "source": [
    "def s(N):\n",
    "    for i in range(len(N)):\n",
    "        if N[i] % 3 == 0 and N[i] % 5 == 0: # 공배수\n",
    "            N[i] = 'FizzBuzz'\n",
    "        elif N[i] % 3 == 0:\n",
    "            N[i] = 'Fizz'\n",
    "        elif N[i] % 5 == 0:\n",
    "            N[i] = 'Buzz'\n",
    "    return print(N)"
   ]
  },
  {
   "cell_type": "code",
   "execution_count": 25,
   "metadata": {},
   "outputs": [
    {
     "name": "stdout",
     "output_type": "stream",
     "text": [
      "[1, 2, 'Fizz', 4, 'Buzz', 'Fizz', 7, 8, 'Fizz', 'Buzz', 11, 'Fizz', 13, 14, 'FizzBuzz', 16, 17, 'Fizz', 19, 'Buzz', 'Fizz', 22, 23, 'Fizz', 'Buzz', 26, 'Fizz', 28, 29, 'FizzBuzz', 31, 32, 'Fizz', 34, 'Buzz', 'Fizz', 37, 38, 'Fizz', 'Buzz', 41, 'Fizz', 43, 44, 'FizzBuzz', 46, 47, 'Fizz', 49, 'Buzz', 'Fizz', 52, 53, 'Fizz', 'Buzz', 56, 'Fizz', 58, 59, 'FizzBuzz', 61, 62, 'Fizz', 64, 'Buzz', 'Fizz', 67, 68, 'Fizz', 'Buzz', 71, 'Fizz', 73, 74, 'FizzBuzz', 76, 77, 'Fizz', 79, 'Buzz', 'Fizz', 82, 83, 'Fizz', 'Buzz', 86, 'Fizz', 88, 89, 'FizzBuzz', 91, 92, 'Fizz', 94, 'Buzz', 'Fizz', 97, 98, 'Fizz', 'Buzz', 101, 'Fizz', 103, 104, 'FizzBuzz', 106, 107, 'Fizz', 109, 'Buzz', 'Fizz', 112, 113, 'Fizz', 'Buzz', 116, 'Fizz', 118, 119, 'FizzBuzz', 121, 122, 'Fizz', 124, 'Buzz', 'Fizz', 127, 128, 'Fizz', 'Buzz', 131, 'Fizz', 133, 134, 'FizzBuzz', 136, 137, 'Fizz', 139, 'Buzz', 'Fizz', 142, 143, 'Fizz', 'Buzz', 146, 'Fizz', 148, 149, 'FizzBuzz', 151, 152, 'Fizz', 154, 'Buzz', 'Fizz', 157, 158, 'Fizz', 'Buzz', 161, 'Fizz', 163, 164, 'FizzBuzz', 166, 167, 'Fizz', 169, 'Buzz', 'Fizz', 172, 173, 'Fizz', 'Buzz', 176, 'Fizz', 178, 179, 'FizzBuzz', 181, 182, 'Fizz', 184, 'Buzz', 'Fizz', 187, 188, 'Fizz', 'Buzz', 191, 'Fizz', 193, 194, 'FizzBuzz', 196, 197, 'Fizz', 199]\n"
     ]
    }
   ],
   "source": [
    "s(N)"
   ]
  },
  {
   "cell_type": "code",
   "execution_count": 13,
   "metadata": {},
   "outputs": [],
   "source": [
    "def fa(f):\n",
    "    if f == 0:\n",
    "        return 0\n",
    "    elif f== 1 :\n",
    "        return 1\n",
    "    return f*fa(f-1)"
   ]
  },
  {
   "cell_type": "code",
   "execution_count": 14,
   "metadata": {},
   "outputs": [
    {
     "data": {
      "text/plain": [
       "120"
      ]
     },
     "execution_count": 14,
     "metadata": {},
     "output_type": "execute_result"
    }
   ],
   "source": [
    "fa(5)"
   ]
  },
  {
   "cell_type": "code",
   "execution_count": 17,
   "metadata": {},
   "outputs": [],
   "source": [
    "def pi(p):\n",
    "    if p==0:\n",
    "        return 0\n",
    "    elif p== 1:\n",
    "        return 1\n",
    "    \n",
    "    return pi(p-1)+pi(p-2)"
   ]
  },
  {
   "cell_type": "code",
   "execution_count": 19,
   "metadata": {},
   "outputs": [
    {
     "data": {
      "text/plain": [
       "8"
      ]
     },
     "execution_count": 19,
     "metadata": {},
     "output_type": "execute_result"
    }
   ],
   "source": [
    "pi(6)"
   ]
  },
  {
   "cell_type": "code",
   "execution_count": null,
   "metadata": {},
   "outputs": [],
   "source": []
  }
 ],
 "metadata": {
  "kernelspec": {
   "display_name": "ml",
   "language": "python",
   "name": "python3"
  },
  "language_info": {
   "codemirror_mode": {
    "name": "ipython",
    "version": 3
   },
   "file_extension": ".py",
   "mimetype": "text/x-python",
   "name": "python",
   "nbconvert_exporter": "python",
   "pygments_lexer": "ipython3",
   "version": "3.9.21"
  }
 },
 "nbformat": 4,
 "nbformat_minor": 2
}
