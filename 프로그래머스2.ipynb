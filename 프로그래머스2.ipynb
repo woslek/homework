{
 "cells": [
  {
   "cell_type": "markdown",
   "metadata": {},
   "source": [
    "### 두배열의 유사 확인"
   ]
  },
  {
   "cell_type": "code",
   "execution_count": 7,
   "metadata": {},
   "outputs": [],
   "source": [
    "#조건  문자열 s1 s2\n",
    "#같은 원소 개수 리턴\n",
    "def solution(s1, s2):\n",
    "    common = []\n",
    "    for s in s1:\n",
    "        if s in s2:\n",
    "            common.append(s)\n",
    "    return len(common)\n"
   ]
  },
  {
   "cell_type": "code",
   "execution_count": 8,
   "metadata": {},
   "outputs": [
    {
     "name": "stdout",
     "output_type": "stream",
     "text": [
      "2\n"
     ]
    }
   ],
   "source": [
    "s1 =[\"a\", \"b\", \"c\"]\n",
    "s2 =[\"com\", \"b\", \"d\", \"p\", \"c\"]\n",
    "print(solution(s1, s2))"
   ]
  },
  {
   "cell_type": "code",
   "execution_count": null,
   "metadata": {},
   "outputs": [],
   "source": [
    "#set() 은 **집합(set)**의 특징 때문\n",
    "\n",
    "\n",
    "def solution(s1, s2):\n",
    "    answer = 0\n",
    "    return len(set(s1)&  set(s2)"
   ]
  },
  {
   "cell_type": "markdown",
   "metadata": {},
   "source": [
    "### 모음 제거"
   ]
  },
  {
   "cell_type": "code",
   "execution_count": null,
   "metadata": {},
   "outputs": [],
   "source": [
    "모음 = ['a','e','i','o','u']\n",
    "# 문자열 매개변수\n",
    "# 모음을 제거한 문자열\n",
    "# 셋 배웠으니 셋사용\n",
    "my_string= \"nice to meet you\""
   ]
  },
  {
   "cell_type": "code",
   "execution_count": null,
   "metadata": {},
   "outputs": [],
   "source": [
    "def solution(my_string):\n",
    "    모음 = ['a','e','i','o','u']\n",
    "    answer=[]\n",
    "    for st in my_string:\n",
    "        if st in 모음:\n",
    "            answer.append()\n",
    "    \n",
    "    return answer"
   ]
  },
  {
   "cell_type": "code",
   "execution_count": 21,
   "metadata": {},
   "outputs": [],
   "source": [
    "def solution(my_string):\n",
    "    모음 = ['a','e','i','o','u']\n",
    "    answer = []\n",
    "    for st in my_string:\n",
    "        if st not in 모음:\n",
    "            answer.append(st)\n",
    "    \n",
    "    return ''.join(answer)"
   ]
  },
  {
   "cell_type": "markdown",
   "metadata": {},
   "source": [
    "### 간단한 코드"
   ]
  },
  {
   "cell_type": "code",
   "execution_count": null,
   "metadata": {},
   "outputs": [],
   "source": [
    "def solution(my_string):\n",
    "    return ''.join([st for st in my_string if st not in 'aeiou'])"
   ]
  },
  {
   "cell_type": "code",
   "execution_count": 22,
   "metadata": {},
   "outputs": [
    {
     "name": "stdout",
     "output_type": "stream",
     "text": [
      "nc t mt y\n"
     ]
    }
   ],
   "source": [
    "print(solution(my_string))"
   ]
  },
  {
   "cell_type": "markdown",
   "metadata": {},
   "source": [
    "### 피자 나눠먹기 (3)"
   ]
  },
  {
   "cell_type": "code",
   "execution_count": 43,
   "metadata": {},
   "outputs": [],
   "source": [
    "slice=7\n",
    "n=10"
   ]
  },
  {
   "cell_type": "code",
   "execution_count": 41,
   "metadata": {},
   "outputs": [],
   "source": [
    "def solution(slice, n):\n",
    "    answer = 0\n",
    "    return answer"
   ]
  },
  {
   "cell_type": "code",
   "execution_count": null,
   "metadata": {},
   "outputs": [],
   "source": [
    "# slice = 조각수\n",
    "# n =먹는사람의 수\n",
    "# n이 최소 한조각 이상\n",
    "# # 몇판의 피자를 시켜야 하는지\n",
    "# y=피자\n",
    "y=0\n",
    "for x in range(2,11):\n",
    "    if n//x>0:\n",
    "        return y"
   ]
  },
  {
   "cell_type": "code",
   "execution_count": 44,
   "metadata": {},
   "outputs": [],
   "source": [
    "def solution(slice, n):\n",
    "    return (n + slice -1)// slice"
   ]
  },
  {
   "cell_type": "code",
   "execution_count": 45,
   "metadata": {},
   "outputs": [
    {
     "name": "stdout",
     "output_type": "stream",
     "text": [
      "2\n"
     ]
    }
   ],
   "source": [
    "print(solution(slice, n))"
   ]
  },
  {
   "cell_type": "markdown",
   "metadata": {},
   "source": [
    "### 배열 원소의 길이\n"
   ]
  },
  {
   "cell_type": "code",
   "execution_count": 74,
   "metadata": {},
   "outputs": [],
   "source": [
    "# #strlist 의 각 원소 길이\n",
    "# 담은 리스트 리턴\n",
    "strlist = [\"We\", \"are\", \"the\", \"world!\"]\n",
    "\n"
   ]
  },
  {
   "cell_type": "code",
   "execution_count": 75,
   "metadata": {},
   "outputs": [],
   "source": [
    "def solution(strlist):\n",
    "    answer = []\n",
    "    for s in strlist:\n",
    "        answer.append(len(s))\n",
    "    return answer\n"
   ]
  },
  {
   "cell_type": "code",
   "execution_count": 76,
   "metadata": {},
   "outputs": [
    {
     "name": "stdout",
     "output_type": "stream",
     "text": [
      "[2, 3, 3, 6]\n"
     ]
    }
   ],
   "source": [
    "print(solution(strlist))"
   ]
  },
  {
   "cell_type": "code",
   "execution_count": null,
   "metadata": {},
   "outputs": [],
   "source": [
    "# 간결하게\n",
    "def solution(strlist):\n",
    "    return [len(s) for s in strlist]"
   ]
  },
  {
   "cell_type": "markdown",
   "metadata": {},
   "source": [
    "### 문자열 안에 문자열"
   ]
  },
  {
   "cell_type": "code",
   "execution_count": 21,
   "metadata": {},
   "outputs": [],
   "source": [
    "# str1, str2 매개변수\n",
    "# str1 안에 str2 가 있다면 1 없다면 2 \n",
    "# 교집합\n",
    "\n",
    "str1 = \"ab6CDE443fgh22iJKlmn1o\"\n",
    "str2 = \"6CD\"\n",
    "def solution(str1, str2):\n",
    "    if str2 in str1:\n",
    "        return 1\n",
    "    else:\n",
    "        return 2"
   ]
  },
  {
   "cell_type": "code",
   "execution_count": 23,
   "metadata": {},
   "outputs": [
    {
     "data": {
      "text/plain": [
       "'6CD'"
      ]
     },
     "execution_count": 23,
     "metadata": {},
     "output_type": "execute_result"
    }
   ],
   "source": [
    "str1 and str2\n"
   ]
  },
  {
   "cell_type": "code",
   "execution_count": 25,
   "metadata": {},
   "outputs": [
    {
     "data": {
      "text/plain": [
       "True"
      ]
     },
     "execution_count": 25,
     "metadata": {},
     "output_type": "execute_result"
    }
   ],
   "source": [
    "str2 in str1 "
   ]
  },
  {
   "cell_type": "markdown",
   "metadata": {},
   "source": [
    "### 세균 증식"
   ]
  },
  {
   "cell_type": "code",
   "execution_count": null,
   "metadata": {},
   "outputs": [],
   "source": [
    "# n\tt\tresult\n",
    "# 2\t10\t2048\n",
    "# 7\t15\t229,376"
   ]
  },
  {
   "cell_type": "code",
   "execution_count": 26,
   "metadata": {},
   "outputs": [],
   "source": [
    "#n 마리 세균\n",
    "#t 경과 시간\n",
    "# 1시간에 2배만큼 증가 "
   ]
  },
  {
   "cell_type": "code",
   "execution_count": 55,
   "metadata": {},
   "outputs": [],
   "source": [
    "n=2\n",
    "t=10\n",
    "\n",
    "def solution(n, t):\n",
    "    answer = (2 ** t) *n\n",
    "    return answer"
   ]
  },
  {
   "cell_type": "code",
   "execution_count": 50,
   "metadata": {},
   "outputs": [
    {
     "data": {
      "text/plain": [
       "2048"
      ]
     },
     "execution_count": 50,
     "metadata": {},
     "output_type": "execute_result"
    }
   ],
   "source": [
    "(2 ** t) *n"
   ]
  },
  {
   "cell_type": "code",
   "execution_count": 46,
   "metadata": {},
   "outputs": [
    {
     "data": {
      "text/plain": [
       "229376"
      ]
     },
     "execution_count": 46,
     "metadata": {},
     "output_type": "execute_result"
    }
   ],
   "source": [
    "# 숫자로 \n",
    "2 ** 15 * 7"
   ]
  },
  {
   "cell_type": "code",
   "execution_count": 56,
   "metadata": {},
   "outputs": [
    {
     "data": {
      "text/plain": [
       "2048"
      ]
     },
     "execution_count": 56,
     "metadata": {},
     "output_type": "execute_result"
    }
   ],
   "source": [
    "solution(n,t)"
   ]
  },
  {
   "cell_type": "code",
   "execution_count": 59,
   "metadata": {},
   "outputs": [],
   "source": [
    "n=7\n",
    "t=15\n",
    "def solution(n, t):\n",
    "    return n << t\n",
    "# 이 연산은 x * (2^y)와 동일한 결과를 반환합니다."
   ]
  },
  {
   "cell_type": "code",
   "execution_count": 60,
   "metadata": {},
   "outputs": [
    {
     "data": {
      "text/plain": [
       "229376"
      ]
     },
     "execution_count": 60,
     "metadata": {},
     "output_type": "execute_result"
    }
   ],
   "source": [
    "solution(n,t)"
   ]
  },
  {
   "cell_type": "markdown",
   "metadata": {},
   "source": [
    "### 자리수 더하기"
   ]
  },
  {
   "cell_type": "code",
   "execution_count": 80,
   "metadata": {},
   "outputs": [],
   "source": [
    "n=930211\n",
    "# 1234\n",
    "\n",
    "def solution(n):\n",
    "    answer=0 #정수 0을 안써놔서 답이안왔음\n",
    "    for i in str(n): # n이 int 값이였기때문에 for 문이 안도니 str 로 변환\n",
    "        answer += int(i)  # 변환된 문자열을 숫자로 합\n",
    "    return answer"
   ]
  },
  {
   "cell_type": "code",
   "execution_count": 69,
   "metadata": {},
   "outputs": [
    {
     "data": {
      "text/plain": [
       "'930211'"
      ]
     },
     "execution_count": 69,
     "metadata": {},
     "output_type": "execute_result"
    }
   ],
   "source": [
    "str(n)"
   ]
  },
  {
   "cell_type": "code",
   "execution_count": 77,
   "metadata": {},
   "outputs": [
    {
     "data": {
      "text/plain": [
       "'930211'"
      ]
     },
     "execution_count": 77,
     "metadata": {},
     "output_type": "execute_result"
    }
   ],
   "source": [
    "str(n)"
   ]
  },
  {
   "cell_type": "code",
   "execution_count": 81,
   "metadata": {},
   "outputs": [
    {
     "data": {
      "text/plain": [
       "16"
      ]
     },
     "execution_count": 81,
     "metadata": {},
     "output_type": "execute_result"
    }
   ],
   "source": [
    "solution(n)"
   ]
  },
  {
   "cell_type": "code",
   "execution_count": 82,
   "metadata": {},
   "outputs": [],
   "source": [
    "def solution(n):\n",
    "    return sum(int(i) for i in str(n))\n",
    "# 이게 내가 원했던 답.\n",
    "# for 문이 안에서 돌고 그값이 정수로 나오게 해서 합친다.\n",
    "# sum 사용법\n"
   ]
  },
  {
   "cell_type": "code",
   "execution_count": 83,
   "metadata": {},
   "outputs": [
    {
     "data": {
      "text/plain": [
       "16"
      ]
     },
     "execution_count": 83,
     "metadata": {},
     "output_type": "execute_result"
    }
   ],
   "source": [
    "solution(n)"
   ]
  },
  {
   "cell_type": "markdown",
   "metadata": {},
   "source": [
    "### 특정문자 제거하기"
   ]
  },
  {
   "cell_type": "code",
   "execution_count": 106,
   "metadata": {},
   "outputs": [],
   "source": [
    "# my_string\tletter\tresult\n",
    "# \"abcdef\"\t\"f\"\t\"abcde\"\n",
    "# \"BCBdbe\"\t\"B\"\t\"Cdbe\"\n",
    "my_string = \"abcdef\"\n",
    "letter = \"f\"\n",
    "def solution(my_string, letter):\n",
    "    answer=\"\"\n",
    "    for s in my_string:\n",
    "        if s != letter:\n",
    "            answer += s\n",
    "    return answer\n"
   ]
  },
  {
   "cell_type": "code",
   "execution_count": 102,
   "metadata": {},
   "outputs": [
    {
     "data": {
      "text/plain": [
       "'f'"
      ]
     },
     "execution_count": 102,
     "metadata": {},
     "output_type": "execute_result"
    }
   ],
   "source": [
    "(my_string and letter)"
   ]
  },
  {
   "cell_type": "code",
   "execution_count": 107,
   "metadata": {},
   "outputs": [
    {
     "data": {
      "text/plain": [
       "'abcde'"
      ]
     },
     "execution_count": 107,
     "metadata": {},
     "output_type": "execute_result"
    }
   ],
   "source": [
    "solution(my_string, letter)"
   ]
  },
  {
   "cell_type": "code",
   "execution_count": 98,
   "metadata": {},
   "outputs": [],
   "source": [
    "# replace(letter, \"\"):\n",
    "# my_string에서 letter와 일치하는 모든 문자를 빈 문자열 \"\"로 대체하여 제거합니다.\n",
    "# 결과:\n",
    "# my_string = \"abcdef\"이고 letter = \"f\"이면, \"f\"를 제거한 결과는 \"abcde\"입니다."
   ]
  },
  {
   "cell_type": "code",
   "execution_count": 99,
   "metadata": {},
   "outputs": [],
   "source": [
    "def solution(my_string, letter):\n",
    "    answer = my_string.replace(letter, \"\")  # letter를 빈 문자열로 대체하여 제거\n",
    "    return answer"
   ]
  },
  {
   "cell_type": "code",
   "execution_count": 100,
   "metadata": {},
   "outputs": [
    {
     "data": {
      "text/plain": [
       "'abcde'"
      ]
     },
     "execution_count": 100,
     "metadata": {},
     "output_type": "execute_result"
    }
   ],
   "source": [
    "solution(my_string, letter)"
   ]
  },
  {
   "cell_type": "code",
   "execution_count": 108,
   "metadata": {},
   "outputs": [],
   "source": [
    "def solution(my_string, letter):\n",
    "    return ''.join([c for c in my_string if c != letter])\n"
   ]
  },
  {
   "cell_type": "code",
   "execution_count": 109,
   "metadata": {},
   "outputs": [
    {
     "data": {
      "text/plain": [
       "'abcde'"
      ]
     },
     "execution_count": 109,
     "metadata": {},
     "output_type": "execute_result"
    }
   ],
   "source": [
    "solution(my_string, letter)"
   ]
  },
  {
   "cell_type": "code",
   "execution_count": null,
   "metadata": {},
   "outputs": [],
   "source": [
    "# ''join 이랑 replace 사용 방법 숙지해야됨"
   ]
  },
  {
   "cell_type": "markdown",
   "metadata": {},
   "source": [
    "### 문자 반복 출력하기"
   ]
  },
  {
   "cell_type": "code",
   "execution_count": 112,
   "metadata": {},
   "outputs": [],
   "source": [
    "\n",
    "def solution(my_string, n):\n",
    "    answer = ''\n",
    "    for s in my_string:\n",
    "        answer += n*s\n",
    "    return answer"
   ]
  },
  {
   "cell_type": "code",
   "execution_count": 114,
   "metadata": {},
   "outputs": [
    {
     "data": {
      "text/plain": [
       "'hhhhhhhheeeeeeeelllllllllllllllloooooooo'"
      ]
     },
     "execution_count": 114,
     "metadata": {},
     "output_type": "execute_result"
    }
   ],
   "source": [
    "my_string =\"hello\"\n",
    "n=8\n",
    "solution(my_string, n)\n",
    "#왜 되지?"
   ]
  },
  {
   "cell_type": "code",
   "execution_count": 115,
   "metadata": {},
   "outputs": [],
   "source": [
    "def solution(my_string, n):\n",
    "    return ''.join(i*n for i in my_string) #join 활용법"
   ]
  },
  {
   "cell_type": "code",
   "execution_count": 116,
   "metadata": {},
   "outputs": [
    {
     "data": {
      "text/plain": [
       "'hhhhhhhheeeeeeeelllllllllllllllloooooooo'"
      ]
     },
     "execution_count": 116,
     "metadata": {},
     "output_type": "execute_result"
    }
   ],
   "source": [
    "solution(my_string, n)"
   ]
  },
  {
   "cell_type": "markdown",
   "metadata": {},
   "source": [
    "### 피자나눠 먹기 (1)"
   ]
  },
  {
   "cell_type": "code",
   "execution_count": 122,
   "metadata": {},
   "outputs": [],
   "source": [
    "n= 15\n",
    "\n",
    "def solution(n):\n",
    "    answer = 0\n",
    "    if n>7:\n",
    "        answer +=1\n",
    "    else:\n",
    "        1\n",
    "    \n",
    "    return answer"
   ]
  },
  {
   "cell_type": "code",
   "execution_count": 123,
   "metadata": {},
   "outputs": [
    {
     "data": {
      "text/plain": [
       "2"
      ]
     },
     "execution_count": 123,
     "metadata": {},
     "output_type": "execute_result"
    }
   ],
   "source": [
    "# n > 7 다면 1에 1을 더한다.\n",
    "solution(n)"
   ]
  },
  {
   "cell_type": "code",
   "execution_count": null,
   "metadata": {},
   "outputs": [],
   "source": [
    "# n 이 7의 배수만큼 그렇다면 n/7 몫 을 엔서에 더한다\n",
    "# 근데 7 = n 이 같을경우와 n<7 이면  2가 나올수있음\n",
    "#조건 달기"
   ]
  },
  {
   "cell_type": "code",
   "execution_count": 130,
   "metadata": {},
   "outputs": [],
   "source": [
    "n = 15\n",
    "\n",
    "def solution(n):\n",
    "    answer = 0\n",
    "    answer += n//7 + 1\n",
    "    return answer"
   ]
  },
  {
   "cell_type": "code",
   "execution_count": 131,
   "metadata": {},
   "outputs": [
    {
     "data": {
      "text/plain": [
       "3"
      ]
     },
     "execution_count": 131,
     "metadata": {},
     "output_type": "execute_result"
    }
   ],
   "source": [
    "solution(n)"
   ]
  },
  {
   "cell_type": "code",
   "execution_count": 138,
   "metadata": {},
   "outputs": [],
   "source": [
    "def solution(n):\n",
    "    answer = 0\n",
    "    1<= n\n",
    "    if n<=7:\n",
    "        return 1\n",
    "    else:\n",
    "        answer += n//7 + 1 # 반대로 생각했음 \n",
    "    return answer"
   ]
  },
  {
   "cell_type": "code",
   "execution_count": 139,
   "metadata": {},
   "outputs": [
    {
     "data": {
      "text/plain": [
       "1"
      ]
     },
     "execution_count": 139,
     "metadata": {},
     "output_type": "execute_result"
    }
   ],
   "source": [
    "n=7\n",
    "solution(n)"
   ]
  },
  {
   "cell_type": "code",
   "execution_count": 140,
   "metadata": {},
   "outputs": [],
   "source": [
    "def solution(n):\n",
    "    return (n - 1) // 7 + 1 # 피자 한판 더하려면 n 에 -1 을햇어야됐다.\n"
   ]
  },
  {
   "cell_type": "code",
   "execution_count": 141,
   "metadata": {},
   "outputs": [
    {
     "data": {
      "text/plain": [
       "1"
      ]
     },
     "execution_count": 141,
     "metadata": {},
     "output_type": "execute_result"
    }
   ],
   "source": [
    "n=15\n",
    "solution(n)"
   ]
  },
  {
   "cell_type": "code",
   "execution_count": 142,
   "metadata": {},
   "outputs": [],
   "source": [
    "def solution(n):\n",
    "    answer = 0\n",
    "\n",
    "    if n%7 != 0: # 나머지가 0이 아니라면\n",
    "        answer = (n//7) + 1 # 몫 +1\n",
    "    else:\n",
    "        answer = n//7 # 0이면 몫 값 리턴\n",
    "\n",
    "    return answer\n"
   ]
  },
  {
   "cell_type": "code",
   "execution_count": 143,
   "metadata": {},
   "outputs": [
    {
     "data": {
      "text/plain": [
       "3"
      ]
     },
     "execution_count": 143,
     "metadata": {},
     "output_type": "execute_result"
    }
   ],
   "source": [
    "n=15\n",
    "solution(n)"
   ]
  },
  {
   "cell_type": "markdown",
   "metadata": {},
   "source": [
    "### n의 배수 고르기"
   ]
  },
  {
   "cell_type": "code",
   "execution_count": null,
   "metadata": {},
   "outputs": [],
   "source": [
    "# 정수 n 정수배열 numlist\n",
    "# numlist 에 n 의 배수만\n",
    "# answer 에 출력"
   ]
  },
  {
   "cell_type": "code",
   "execution_count": null,
   "metadata": {},
   "outputs": [],
   "source": [
    "def solution(n, numlist):\n",
    "    answer = []\n",
    "    for i in numlist:\n",
    "        if i % n == 0: # 나머지가 0 이면 배수\n",
    "            answer.append(i) #그걸 어팬드\n",
    "    return answer"
   ]
  },
  {
   "cell_type": "markdown",
   "metadata": {},
   "source": [
    "### 중복된 숫자 개수"
   ]
  },
  {
   "cell_type": "code",
   "execution_count": null,
   "metadata": {},
   "outputs": [],
   "source": [
    "# 정수 배열  array\n",
    "# 정수 n\n",
    "# array 에 n이 몇개 있는지\n",
    "# count 쓰는건가?\n",
    "# 그냥 += 해도 되나 보자\n"
   ]
  },
  {
   "cell_type": "code",
   "execution_count": 2,
   "metadata": {},
   "outputs": [],
   "source": [
    "def solution(array, n):\n",
    "    answer = 0\n",
    "    for i in array:\n",
    "        if i == n:\n",
    "            answer += 1\n",
    "\n",
    "    \n",
    "    return answer"
   ]
  },
  {
   "cell_type": "code",
   "execution_count": 5,
   "metadata": {},
   "outputs": [
    {
     "data": {
      "text/plain": [
       "0"
      ]
     },
     "execution_count": 5,
     "metadata": {},
     "output_type": "execute_result"
    }
   ],
   "source": [
    "array =[0, 2, 3, 4]\n",
    "n= 1\n",
    "solution(array, n)"
   ]
  },
  {
   "cell_type": "code",
   "execution_count": 6,
   "metadata": {},
   "outputs": [],
   "source": [
    "# count 활용해서 하는방법\n",
    "array =[0, 2, 3, 4]\n",
    "n= 1\n",
    "def solution(array, n):\n",
    "    return array.count(n)"
   ]
  },
  {
   "cell_type": "code",
   "execution_count": 7,
   "metadata": {},
   "outputs": [
    {
     "data": {
      "text/plain": [
       "0"
      ]
     },
     "execution_count": 7,
     "metadata": {},
     "output_type": "execute_result"
    }
   ],
   "source": [
    "solution(array, n)"
   ]
  },
  {
   "cell_type": "markdown",
   "metadata": {},
   "source": [
    "### 직각 삼각형 출력하기"
   ]
  },
  {
   "cell_type": "code",
   "execution_count": null,
   "metadata": {},
   "outputs": [
    {
     "name": "stdout",
     "output_type": "stream",
     "text": [
      "*\n",
      "**\n",
      "***\n"
     ]
    }
   ],
   "source": [
    "n = int(input())  \n",
    "for i in range(1, n + 1):  # 1부터 n까지 반복\n",
    "    print(\"*\" * i)  # \"*\"을 i개 출력"
   ]
  },
  {
   "cell_type": "markdown",
   "metadata": {},
   "source": [
    "### 개미 군단 무조건 다시봐야됨"
   ]
  },
  {
   "cell_type": "code",
   "execution_count": null,
   "metadata": {},
   "outputs": [],
   "source": [
    "#장군 개미 5 공\n",
    "#병정 개미 3공\n",
    "#일개미 1공\n",
    "# 예 23 여치 \n",
    "#사냥감 체력 hp\n",
    "# 딱맞게 최소한의 병력 구성\n",
    "# attack_dmg = n\n",
    "# 5*n+3*n+n 이게 최소가 되는거\n",
    "# 그럼 저 값이 hp 랑 같으면 ==0: 리턴 count? 그럼 안되는게 d 값 카운드가 안됨\n",
    "\n",
    "# 변수 를 5공으로 나누고 나머지를 3공으로 나누고\n",
    "# 나머지를 1공으로 처리\n",
    "\n"
   ]
  },
  {
   "cell_type": "code",
   "execution_count": 20,
   "metadata": {},
   "outputs": [],
   "source": [
    "def solution(hp):\n",
    "    dmg = [5, 3, 1] \n",
    "    answer = 0\n",
    "\n",
    "    for d in dmg:\n",
    "        answer += hp // d  # dmg 배열에서 5뎀 넣고 그몫을 더함\n",
    "        hp %= d          # d로 때리고 나머지를 다시 dmg 배열에 돌린다?\n",
    "\n",
    "    return answer"
   ]
  },
  {
   "cell_type": "code",
   "execution_count": 22,
   "metadata": {},
   "outputs": [
    {
     "ename": "SyntaxError",
     "evalue": "invalid syntax (564062946.py, line 2)",
     "output_type": "error",
     "traceback": [
      "\u001b[1;36m  Cell \u001b[1;32mIn[22], line 2\u001b[1;36m\u001b[0m\n\u001b[1;33m    `코드 해석`\u001b[0m\n\u001b[1;37m    ^\u001b[0m\n\u001b[1;31mSyntaxError\u001b[0m\u001b[1;31m:\u001b[0m invalid syntax\n"
     ]
    }
   ],
   "source": [
    "`코드 해석`\n",
    "# 쓰긴햇지만 이해안간부분\n",
    "# dmg = [5, 3, 1], answer = 0, hp = 23\n",
    "# 첫 번째 반복 (d = 5): \n",
    "# answer += 23 // 5 = 4 → answer = 4 o\n",
    "# hp %= 5 = 23 % 5 = 3 → hp = 3 이런형태도 된다\n",
    "# 두 번째 반복 (d = 3):\n",
    "# # answer += 3 // 3 = 1 → answer = 5\n",
    "# hp %= 3 = 3 % 3 = 0 → hp = 0\n",
    "# 세 번째 반복 (d = 1):\n",
    "\n",
    "# hp = 0, 더 이상 병력이 필요하지 않으므로 계산이 종료됩니다.\n",
    "# 코드 이해하기"
   ]
  },
  {
   "cell_type": "code",
   "execution_count": null,
   "metadata": {},
   "outputs": [],
   "source": []
  },
  {
   "cell_type": "code",
   "execution_count": 21,
   "metadata": {},
   "outputs": [
    {
     "data": {
      "text/plain": [
       "1709"
      ]
     },
     "execution_count": 21,
     "metadata": {},
     "output_type": "execute_result"
    }
   ],
   "source": [
    "solution(hp)"
   ]
  },
  {
   "cell_type": "code",
   "execution_count": 16,
   "metadata": {},
   "outputs": [],
   "source": [
    "hp = 8545\n",
    "def solution(hp):\n",
    "    # 장군개미(공격력 5), 병정개미(공격력 3), 일개미(공격력 1)\n",
    "    # 그냥 밑으로 내리면 값이 내려가나?\n",
    "\n",
    "    general = hp // 5  # 장군개미의 수\n",
    "    hp %= 5            # 남은 체력\n",
    "    \n",
    "    soldier = hp // 3  # 병정개미의 수\n",
    "    hp %= 3            # 남은 체력\n",
    "    \n",
    "    worker = hp        # 일개미의 수\n",
    "    \n",
    "    return general + soldier + worker"
   ]
  },
  {
   "cell_type": "code",
   "execution_count": 17,
   "metadata": {},
   "outputs": [
    {
     "data": {
      "text/plain": [
       "1709"
      ]
     },
     "execution_count": 17,
     "metadata": {},
     "output_type": "execute_result"
    }
   ],
   "source": [
    "solution(hp)"
   ]
  },
  {
   "cell_type": "code",
   "execution_count": 23,
   "metadata": {},
   "outputs": [],
   "source": [
    "def solution(hp):\n",
    "    answer = 0\n",
    "    \n",
    "    # 장군개미(공격력 5)\n",
    "    if hp >= 5:\n",
    "        answer += hp // 5\n",
    "        hp %= 5  # 남은 체력\n",
    "    \n",
    "    # 병정개미(공격력 3)\n",
    "    if hp >= 3:\n",
    "        answer += hp // 3\n",
    "        hp %= 3  # 남은 체력\n",
    "    \n",
    "    # 일개미(공격력 1)\n",
    "    if hp >= 1:\n",
    "        answer += hp\n",
    "    \n",
    "    return answer"
   ]
  },
  {
   "cell_type": "markdown",
   "metadata": {},
   "source": [
    "### 가위 바위 보 ''.join사용 가장중요 처음으로 딕셔너리 형태로 처리"
   ]
  },
  {
   "cell_type": "code",
   "execution_count": null,
   "metadata": {},
   "outputs": [],
   "source": [
    "# 가위 2\n",
    "# 바위 0\n",
    "# 보 5\n",
    "# 순서대로 나타낸 문자열 rsp\n",
    "# rsp 에 저장된 가위바위보를 모두 이기는 경우\n",
    "# 순서대로 나타낸 문자열 리턴\n",
    "# 뭔소리지\n",
    "# rsp 에 랜덤 값을 205 라면 이기는 052 출력하게\n"
   ]
  },
  {
   "cell_type": "code",
   "execution_count": 27,
   "metadata": {},
   "outputs": [],
   "source": [
    "def solution(rsp):\n",
    "    answer = ''\n",
    "    for i in rsp:\n",
    "        if i == '2':\n",
    "            answer += '0'\n",
    "        elif i == '0':\n",
    "            answer += '5'\n",
    "        elif i == '5':\n",
    "            answer+= '2'\n",
    "        \n",
    "    return answer"
   ]
  },
  {
   "cell_type": "code",
   "execution_count": 30,
   "metadata": {},
   "outputs": [
    {
     "data": {
      "text/plain": [
       "'02522052502052025052'"
      ]
     },
     "execution_count": 30,
     "metadata": {},
     "output_type": "execute_result"
    }
   ],
   "source": [
    "rsp = \"25055205025205250205\"\n",
    "solution(rsp)"
   ]
  },
  {
   "cell_type": "code",
   "execution_count": 31,
   "metadata": {},
   "outputs": [],
   "source": [
    "def solution(rsp):\n",
    "    d = {'0':'5','2':'0','5':'2'} # 딕셔너리로 처리\n",
    "    return ''.join(d[i] for i in rsp) # ''.join  rsp 에 배열 i  키가 나오면 i 벨류류가 문자열 추가\n",
    "#와....."
   ]
  },
  {
   "cell_type": "code",
   "execution_count": 32,
   "metadata": {},
   "outputs": [
    {
     "data": {
      "text/plain": [
       "'02522052502052025052'"
      ]
     },
     "execution_count": 32,
     "metadata": {},
     "output_type": "execute_result"
    }
   ],
   "source": [
    "rsp = \"25055205025205250205\"\n",
    "solution(rsp)"
   ]
  },
  {
   "cell_type": "markdown",
   "metadata": {},
   "source": [
    "### 숨어있는 숫자의 덧셈(1) .isdigit() 매서드에 이해"
   ]
  },
  {
   "cell_type": "code",
   "execution_count": null,
   "metadata": {},
   "outputs": [],
   "source": [
    "# 문자열 my_string\n",
    "# 변수안 모든 자연수들의 합\n",
    "\n",
    "\n",
    "# isdigit() 메서드는 st가 숫자로만 이루어진 문자열인지 확인합니다.\n",
    "# st가 숫자라면 True를 반환하고, 그렇지 않으면 False를 반환합니다."
   ]
  },
  {
   "cell_type": "code",
   "execution_count": 37,
   "metadata": {},
   "outputs": [],
   "source": [
    "my_string = \"aAb1B2cC34oOp\"\n",
    "\n",
    "def solution(my_string):\n",
    "    answer = 0\n",
    "    for st in my_string:\n",
    "        if st == int: # 확인 방법 모르겠음... if '0' <= st <= '9' 이렇게 확인하면된다\n",
    "            answer += int(st) # 이건 맞는거같음..\n",
    "\n",
    "    return answer"
   ]
  },
  {
   "cell_type": "code",
   "execution_count": 38,
   "metadata": {},
   "outputs": [
    {
     "data": {
      "text/plain": [
       "0"
      ]
     },
     "execution_count": 38,
     "metadata": {},
     "output_type": "execute_result"
    }
   ],
   "source": [
    "solution(my_string)"
   ]
  },
  {
   "cell_type": "code",
   "execution_count": 39,
   "metadata": {},
   "outputs": [],
   "source": [
    "my_string = \"aAb1B2cC34oOp\"\n",
    "\n",
    "def solution(my_string):\n",
    "    answer = 0\n",
    "    for st in my_string:\n",
    "        if '0' <= st <= '9': # 확인 방법 모르겠음... if '0' <= st <= '9' 이렇게 확인하면된다\n",
    "            answer += int(st) # 이건 맞는거같음..\n",
    "\n",
    "    return answer"
   ]
  },
  {
   "cell_type": "code",
   "execution_count": 41,
   "metadata": {},
   "outputs": [
    {
     "data": {
      "text/plain": [
       "10"
      ]
     },
     "execution_count": 41,
     "metadata": {},
     "output_type": "execute_result"
    }
   ],
   "source": [
    "solution(my_string)"
   ]
  },
  {
   "cell_type": "code",
   "execution_count": null,
   "metadata": {},
   "outputs": [],
   "source": [
    "def solution(my_string):\n",
    "    answer = 0\n",
    "    for st in my_string:\n",
    "        if st.isdigit():  # st가 숫자인지 확인\n",
    "            answer += int(st)  # 숫자로 변환하여 더함\n",
    "    return answer\n",
    "# isdigit() 메서드는 st가 숫자로만 이루어진 문자열인지 확인합니다.\n",
    "# st가 숫자라면 True를 반환하고, 그렇지 않으면 False를 반환합니다."
   ]
  },
  {
   "cell_type": "markdown",
   "metadata": {},
   "source": [
    "### 최댓값 만들기 (2) max 매서드 이해"
   ]
  },
  {
   "cell_type": "code",
   "execution_count": null,
   "metadata": {},
   "outputs": [],
   "source": [
    "# 매개변수 원소 두개 곱해서\n",
    "# 최댓값 리턴\n",
    "# sort 로 0번째 1번째 곱\n",
    "# 아니면 매서드 이용\n"
   ]
  },
  {
   "cell_type": "code",
   "execution_count": 57,
   "metadata": {},
   "outputs": [
    {
     "name": "stdout",
     "output_type": "stream",
     "text": [
      "5\n"
     ]
    }
   ],
   "source": [
    "numbers = [1, 2, 3, 4, 5]\n",
    "print(max(numbers)) # max 는 변수 안에서의 계산값중 가장 큰수를 반환해줄수있다"
   ]
  },
  {
   "cell_type": "code",
   "execution_count": 46,
   "metadata": {},
   "outputs": [],
   "source": [
    "numbers=[1, 2, -3, 4, -5]\n",
    "def solution(numbers):\n",
    "    answer = 0\n",
    "    numbers.sort(reverse=True)\n",
    "    answer = numbers[0] *numbers[1]\n",
    "\n",
    "    return answer"
   ]
  },
  {
   "cell_type": "code",
   "execution_count": 47,
   "metadata": {},
   "outputs": [
    {
     "data": {
      "text/plain": [
       "8"
      ]
     },
     "execution_count": 47,
     "metadata": {},
     "output_type": "execute_result"
    }
   ],
   "source": [
    "solution(numbers) # 값이 같지 않은 이유는 -3 -5 를 곱하면 양수 15값이 나옴\n",
    "                  # 이걸 어떻게 처리해야되지?\n",
    "                  # 가장 뒷 두자리 곱\n",
    "                  "
   ]
  },
  {
   "cell_type": "code",
   "execution_count": 52,
   "metadata": {},
   "outputs": [],
   "source": [
    "def solution(numbers):\n",
    "    \n",
    "    numbers.sort(reverse=True)\n",
    "    f_max = numbers[0] *numbers[1] # 앞에서 두수\n",
    "    b_max = numbers[-1] *numbers[-2] # 뒤에서 두수\n",
    "    if f_max > b_max:\n",
    "        return f_max\n",
    "    else:\n",
    "        return b_max\n",
    "    "
   ]
  },
  {
   "cell_type": "code",
   "execution_count": 53,
   "metadata": {},
   "outputs": [
    {
     "data": {
      "text/plain": [
       "15"
      ]
     },
     "execution_count": 53,
     "metadata": {},
     "output_type": "execute_result"
    }
   ],
   "source": [
    "solution(numbers) # rnt"
   ]
  },
  {
   "cell_type": "code",
   "execution_count": 54,
   "metadata": {},
   "outputs": [],
   "source": [
    "def solution(numbers):\n",
    "    numbers.sort()  # 숫자 배열을 오름차순으로 정렬\n",
    "\n",
    "    # 가장 큰 두 수의 곱과 가장 작은 두 수의 곱을 비교\n",
    "    max_product = max(numbers[0] * numbers[1], numbers[-1] * numbers[-2])\n",
    "    \n",
    "    return max_product"
   ]
  },
  {
   "cell_type": "code",
   "execution_count": 55,
   "metadata": {},
   "outputs": [
    {
     "data": {
      "text/plain": [
       "15"
      ]
     },
     "execution_count": 55,
     "metadata": {},
     "output_type": "execute_result"
    }
   ],
   "source": [
    "solution(numbers)"
   ]
  },
  {
   "cell_type": "markdown",
   "metadata": {},
   "source": [
    "### 대문자와 소문자 swapcase() 매서드 사용\n",
    "###  isupper()와 islower() .upper .lower 사용법 "
   ]
  },
  {
   "cell_type": "code",
   "execution_count": 47,
   "metadata": {},
   "outputs": [],
   "source": [
    "# 변수에 대문자는 \n",
    "# 소문자 소문자는 대문자\n",
    "# 배운거 같은데..\n",
    "# 매서드 인거 같은데...\n",
    "def solution(my_string):\n",
    "    return my_string.swapcase() # 이게 렇게 쓰는거\n"
   ]
  },
  {
   "cell_type": "code",
   "execution_count": 48,
   "metadata": {},
   "outputs": [
    {
     "data": {
      "text/plain": [
       "'CCCccc'"
      ]
     },
     "execution_count": 48,
     "metadata": {},
     "output_type": "execute_result"
    }
   ],
   "source": [
    "\n",
    "my_string=\"cccCCC\"\n",
    "solution(my_string)"
   ]
  },
  {
   "cell_type": "code",
   "execution_count": 49,
   "metadata": {},
   "outputs": [],
   "source": [
    "def solution(my_string):\n",
    "    result = \"\"\n",
    "    for char in my_string:\n",
    "        if char.islower(): # 소문자인지 확인하는 매서드\n",
    "                           # 대문자인지 확인하는건 .isupper()\n",
    "            result += char.upper()  # 소문자는 대문자로 변환\n",
    "        else:\n",
    "            result += char.lower()  # 대문자는 소문자로 변환\n",
    "    return result"
   ]
  },
  {
   "cell_type": "code",
   "execution_count": 50,
   "metadata": {},
   "outputs": [
    {
     "data": {
      "text/plain": [
       "'CCCccc'"
      ]
     },
     "execution_count": 50,
     "metadata": {},
     "output_type": "execute_result"
    }
   ],
   "source": [
    "my_string=\"cccCCC\"\n",
    "solution(my_string)"
   ]
  },
  {
   "cell_type": "code",
   "execution_count": 51,
   "metadata": {},
   "outputs": [],
   "source": [
    "\n",
    "# def solution(my_string):\n",
    "#     answer = ''\n",
    "#     for i in my_string:\n",
    "#         if i == 소문자:\n",
    "#             대문자\n",
    "#         elif i == 대문자:\n",
    "#             소문자\n",
    "#     return answer\n",
    "\n",
    "# 이렇게 말고 만약 내가 {'a':'A','b':'B','A':'a','B':'b'}라는\n",
    "# 딕셔너리 형태 자료를 가지고있다면 join 으로가능한지 확인\n",
    "def solution(my_string):\n",
    "    answer = ''\n",
    "    d = {\n",
    "    'a': 'A', 'b': 'B', 'c': 'C', 'd': 'D', 'e': 'E', 'f': 'F', 'g': 'G',\n",
    "    'h': 'H', 'i': 'I', 'j': 'J', 'k': 'K', 'l': 'L', 'm': 'M', 'n': 'N',\n",
    "    'o': 'O', 'p': 'P', 'q': 'Q', 'r': 'R', 's': 'S', 't': 'T', 'u': 'U',\n",
    "    'v': 'V', 'w': 'W', 'x': 'X', 'y': 'Y', 'z': 'Z',\n",
    "    'A': 'a', 'B': 'b', 'C': 'c', 'D': 'd', 'E': 'e', 'F': 'f', 'G': 'g',\n",
    "    'H': 'h', 'I': 'i', 'J': 'j', 'K': 'k', 'L': 'l', 'M': 'm', 'N': 'n',\n",
    "    'O': 'o', 'P': 'p', 'Q': 'q', 'R': 'r', 'S': 's', 'T': 't', 'U': 'u',\n",
    "    'V': 'v', 'W': 'w', 'X': 'x', 'Y': 'y', 'Z': 'z'\n",
    "}\n",
    "    return ''.join(d[i] for i in my_string)\n",
    "\n",
    "   \n"
   ]
  },
  {
   "cell_type": "code",
   "execution_count": 52,
   "metadata": {},
   "outputs": [
    {
     "data": {
      "text/plain": [
       "'ABcDeFGHij'"
      ]
     },
     "execution_count": 52,
     "metadata": {},
     "output_type": "execute_result"
    }
   ],
   "source": [
    "my_string='abCdEfghIJ'\n",
    "solution(my_string) # 그럼 d 를 크롤링한 딕셔너리data라 생각하면 \n",
    "                    # join 을 어떻게써야하는지 생각"
   ]
  },
  {
   "cell_type": "markdown",
   "metadata": {},
   "source": [
    "### 피자 나눠먹기(2) 매우 어려움 다시보야함\n",
    "### 재귀함수로도 가능하고  while 문 이니까 다시봐야됨\n",
    "### math.lcm() math 모듈의 lcm 함수 사용방법\n",
    "### math.gcd() math 모듈의 gcd 함수 사용방법\n"
   ]
  },
  {
   "cell_type": "code",
   "execution_count": 22,
   "metadata": {},
   "outputs": [],
   "source": [
    "\n",
    "import math\n",
    "\n",
    "def solution(n):\n",
    "    return math.lcm(6, n) // 6  # 최소공배수를 구하고, 피자판 수 계산"
   ]
  },
  {
   "cell_type": "code",
   "execution_count": 23,
   "metadata": {},
   "outputs": [
    {
     "data": {
      "text/plain": [
       "7"
      ]
     },
     "execution_count": 23,
     "metadata": {},
     "output_type": "execute_result"
    }
   ],
   "source": [
    "n=14\n",
    "solution(n)"
   ]
  },
  {
   "cell_type": "code",
   "execution_count": 25,
   "metadata": {},
   "outputs": [],
   "source": [
    "\n",
    "def solution(n):\n",
    "    gcd = math.gcd(6, n)         # 6과 n의 최대공약수를 구함\n",
    "    lcm = (6 * n) // gcd         # 최소공배수 계산\n",
    "    return lcm // 6             # 한 판당 6조각이므로 피자판 수 계산               "
   ]
  },
  {
   "cell_type": "code",
   "execution_count": 26,
   "metadata": {},
   "outputs": [
    {
     "data": {
      "text/plain": [
       "7"
      ]
     },
     "execution_count": 26,
     "metadata": {},
     "output_type": "execute_result"
    }
   ],
   "source": [
    "n=14\n",
    "solution(n)"
   ]
  },
  {
   "cell_type": "code",
   "execution_count": 33,
   "metadata": {},
   "outputs": [],
   "source": [
    "def solution(n, x=1):\n",
    "    if (6 * x) % n == 0:  # 조건을 만족하면 x 반환\n",
    "        return x\n",
    "    return solution(n, x + 1)  # 조건을 만족하지 않으면 x를 증가시키며 재귀 호출"
   ]
  },
  {
   "cell_type": "code",
   "execution_count": 34,
   "metadata": {},
   "outputs": [
    {
     "data": {
      "text/plain": [
       "7"
      ]
     },
     "execution_count": 34,
     "metadata": {},
     "output_type": "execute_result"
    }
   ],
   "source": [
    "n=14\n",
    "solution(n)"
   ]
  },
  {
   "cell_type": "code",
   "execution_count": null,
   "metadata": {},
   "outputs": [],
   "source": [
    "# 피자 6조각\n",
    "# n명 남기지 않고 \n",
    "# 모두 같은 숫자의 피자조각 #\n",
    "# 최소 몇판\n",
    "# n을 6으로 나눠서 나머지가 없다면\n",
    "# 안되는데..\n",
    "\n",
    "# 몫 출력 ? 6n\n",
    "# 최소 공배수 구하는 거같음\n",
    "# n//6 = 피자수 이라면 값이나온다\n",
    "# 매우 어려움\n",
    "\n"
   ]
  },
  {
   "cell_type": "code",
   "execution_count": 27,
   "metadata": {},
   "outputs": [],
   "source": [
    "def solution(n):\n",
    "    \n",
    "    x=1\n",
    "    # 6x 가 n 이랑 나누어 떨어져야함 \n",
    "    # 그렇지 않다면 x 값 증가? 아니지 x 값이 나올때까지니까\n",
    "    # 6x /n = 0 값이 되면 x값 나오게\n",
    "    #아 while 문\n",
    "    if (6*x) % n == 0:\n",
    "        x += 1\n",
    "    return x\n"
   ]
  },
  {
   "cell_type": "code",
   "execution_count": 30,
   "metadata": {},
   "outputs": [
    {
     "data": {
      "text/plain": [
       "1"
      ]
     },
     "execution_count": 30,
     "metadata": {},
     "output_type": "execute_result"
    }
   ],
   "source": [
    "n=4\n",
    "# 왜안될까 \n",
    "solution(n)"
   ]
  },
  {
   "cell_type": "code",
   "execution_count": 31,
   "metadata": {},
   "outputs": [],
   "source": [
    "def solution(n):\n",
    "    \n",
    "    x=1\n",
    "    \n",
    "    # while 문 으로해야 x 가 하나씩 증가하고 그값에 맞는 x값을 리턴하게\n",
    "    while (6*x) % n != 0:\n",
    "        x += 1\n",
    "    \n",
    "    return x"
   ]
  },
  {
   "cell_type": "code",
   "execution_count": 32,
   "metadata": {},
   "outputs": [
    {
     "data": {
      "text/plain": [
       "7"
      ]
     },
     "execution_count": 32,
     "metadata": {},
     "output_type": "execute_result"
    }
   ],
   "source": [
    "n=14\n",
    "solution(n)"
   ]
  },
  {
   "cell_type": "markdown",
   "metadata": {},
   "source": [
    "### 아이스 아메리카노"
   ]
  },
  {
   "cell_type": "code",
   "execution_count": null,
   "metadata": {},
   "outputs": [],
   "source": [
    "# 한잔 5500\n",
    "# 변수 money\n",
    "# 최대 잔수\n",
    "# 남은돈 배열 리턴\n",
    "# x // 5500 =몫\n",
    "# x % 5500 = 나머지\n",
    "# "
   ]
  },
  {
   "cell_type": "code",
   "execution_count": 71,
   "metadata": {},
   "outputs": [],
   "source": [
    "def solution(money):\n",
    "    answer = []\n",
    "    a= money//5500\n",
    "    b= money % 5500\n",
    "    # answer.append([a,b])\n",
    "    # return answer\n",
    "    return [a,b]\n",
    "# 안된다 이유는? append 로 안써도 된다\n"
   ]
  },
  {
   "cell_type": "code",
   "execution_count": 73,
   "metadata": {},
   "outputs": [
    {
     "data": {
      "text/plain": [
       "[2, 4000]"
      ]
     },
     "execution_count": 73,
     "metadata": {},
     "output_type": "execute_result"
    }
   ],
   "source": [
    "money=15000\n",
    "solution(money)"
   ]
  },
  {
   "cell_type": "code",
   "execution_count": 65,
   "metadata": {},
   "outputs": [],
   "source": [
    "def solution(money):\n",
    "    a = money // 5500  # 살 수 있는 음료의 개수\n",
    "    b = money % 5500   # 남은 돈\n",
    "    return [a, b]"
   ]
  },
  {
   "cell_type": "code",
   "execution_count": 67,
   "metadata": {},
   "outputs": [
    {
     "data": {
      "text/plain": [
       "[2, 4000]"
      ]
     },
     "execution_count": 67,
     "metadata": {},
     "output_type": "execute_result"
    }
   ],
   "source": [
    "money=15000\n",
    "solution(money)"
   ]
  },
  {
   "cell_type": "markdown",
   "metadata": {},
   "source": [
    "### 인덱스 바꾸기 #모름 다시 풀어야됨"
   ]
  },
  {
   "cell_type": "code",
   "execution_count": 75,
   "metadata": {},
   "outputs": [],
   "source": [
    "# my_string\n",
    "#  num1 num2 번째 서로 순서바꾸기\n",
    "# ???????\n",
    "\n",
    "my_string =\"hello\"\n",
    "num1=1\n",
    "num2=2"
   ]
  },
  {
   "cell_type": "code",
   "execution_count": null,
   "metadata": {},
   "outputs": [],
   "source": [
    "def solution(my_string, num1, num2):\n",
    "    answer = ''\n",
    "    return answer"
   ]
  },
  {
   "cell_type": "markdown",
   "metadata": {},
   "source": [
    "### 약수 구하기 sort 와 sorted 의 차이"
   ]
  },
  {
   "cell_type": "code",
   "execution_count": null,
   "metadata": {},
   "outputs": [],
   "source": [
    "# n 약수를 오름차순으로\n",
    "# n 을 n 까지 나누었을때\n",
    "# n %n레인지 ==0:\n",
    "# 이면 answer 에 어팬드\n",
    "# 한 값을 sort 로\n",
    "\n",
    "\n",
    "# sort()는 제자리에서 리스트를 정렬하고, 리스트 자체를 변경합니다.\n",
    "# sorted()는 새로운 리스트를 만들어 반환하며, 원본 리스트는 변경되지 않습니다.\n"
   ]
  },
  {
   "cell_type": "code",
   "execution_count": 92,
   "metadata": {},
   "outputs": [],
   "source": [
    "def solution(n):\n",
    "    answer = []\n",
    "    for i in range(1,n+1):\n",
    "        if n % i ==0:\n",
    "            answer.append(i)\n",
    "       \n",
    "    answer.sort()\n",
    "    return answer"
   ]
  },
  {
   "cell_type": "code",
   "execution_count": 94,
   "metadata": {},
   "outputs": [],
   "source": [
    "def solution(n):\n",
    "    answer = []\n",
    "    for i in range(1,n+1):\n",
    "        if n % i ==0:\n",
    "            answer.append(i)\n",
    "    return sorted(answer) # sort 랑 sorted 차이"
   ]
  },
  {
   "cell_type": "code",
   "execution_count": 95,
   "metadata": {},
   "outputs": [
    {
     "data": {
      "text/plain": [
       "[1, 29]"
      ]
     },
     "execution_count": 95,
     "metadata": {},
     "output_type": "execute_result"
    }
   ],
   "source": [
    "n=29\n",
    "\n",
    "solution(n)"
   ]
  }
 ],
 "metadata": {
  "kernelspec": {
   "display_name": "crawl",
   "language": "python",
   "name": "python3"
  },
  "language_info": {
   "codemirror_mode": {
    "name": "ipython",
    "version": 3
   },
   "file_extension": ".py",
   "mimetype": "text/x-python",
   "name": "python",
   "nbconvert_exporter": "python",
   "pygments_lexer": "ipython3",
   "version": "3.9.21"
  }
 },
 "nbformat": 4,
 "nbformat_minor": 2
}
