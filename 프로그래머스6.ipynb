{
 "cells": [
  {
   "cell_type": "markdown",
   "metadata": {},
   "source": [
    "### 브런치 실수"
   ]
  },
  {
   "cell_type": "markdown",
   "metadata": {},
   "source": [
    "### 공던지기 while 문 이해 해야돼"
   ]
  },
  {
   "cell_type": "code",
   "execution_count": null,
   "metadata": {},
   "outputs": [],
   "source": []
  },
  {
   "cell_type": "code",
   "execution_count": 22,
   "metadata": {},
   "outputs": [],
   "source": [
    "# 친구들 번호 number \n",
    "# k번째로 공을 던진 사람 번호 retrun\n",
    "numbers =[1, 2, 3]\n",
    "k = 5"
   ]
  },
  {
   "cell_type": "code",
   "execution_count": null,
   "metadata": {},
   "outputs": [
    {
     "data": {
      "text/plain": [
       "[1, 3]"
      ]
     },
     "execution_count": 4,
     "metadata": {},
     "output_type": "execute_result"
    }
   ],
   "source": [
    "numbers[::2]\n",
    "# 그럼 다시 돌땐 어떻게해?\n"
   ]
  },
  {
   "cell_type": "code",
   "execution_count": null,
   "metadata": {},
   "outputs": [],
   "source": [
    "def solution(numbers, k):\n",
    "    # 내가 구하는건 [::2] 인데 이게 계속 더해져야하는 방법 \n",
    "    # 던지는동안 numbers 안에서만 돌게\n",
    "     \n",
    "    i = 0\n",
    "    count = 1\n",
    "    while count < k: # count 가 k 보다 작다면 밑에 작업실행\n",
    "        i += 2 # i 에 2를 계속더해\n",
    "        if i >= len(numbers): # 근데 i 가 numbers길이보다 크거나 같다면\n",
    "            i -= len(numbers) # i 에 numbers 길이를 빼 \n",
    "            # ex) i = 2 라면 \n",
    "            # 작으니까 계속 돌아\n",
    "            # i = 5 라면 \n",
    "            # index 는 1 번 인덱스\n",
    "            # 그럼 3이 나와야 답\n",
    "        count += 1 # 그리고 카운트에 +1 해\n",
    "    # 아직멀었네\n",
    "    #일단 \n",
    "    answer = numbers[i]\n",
    "    return answer\n"
   ]
  },
  {
   "cell_type": "code",
   "execution_count": 24,
   "metadata": {},
   "outputs": [
    {
     "data": {
      "text/plain": [
       "3"
      ]
     },
     "execution_count": 24,
     "metadata": {},
     "output_type": "execute_result"
    }
   ],
   "source": [
    "solution(numbers, k)"
   ]
  },
  {
   "cell_type": "code",
   "execution_count": null,
   "metadata": {},
   "outputs": [],
   "source": [
    "def solution(numbers, k):\n",
    "    return numbers[2 * (k - 1) % len(numbers)]\n",
    "# ? \n",
    "# 분석해보면 \n",
    "# number[] 인덱스 값\n",
    "# 그값은 2 * (k - 1) % len(numbers)\n",
    "# 왜 와이 무슨 뜻인데 이게\n",
    "\n"
   ]
  },
  {
   "cell_type": "code",
   "execution_count": 10,
   "metadata": {},
   "outputs": [
    {
     "data": {
      "text/plain": [
       "2"
      ]
     },
     "execution_count": 10,
     "metadata": {},
     "output_type": "execute_result"
    }
   ],
   "source": [
    "2 * (k - 1) % len(numbers)"
   ]
  },
  {
   "cell_type": "markdown",
   "metadata": {},
   "source": [
    "### 문자열 계산하기"
   ]
  },
  {
   "cell_type": "code",
   "execution_count": null,
   "metadata": {},
   "outputs": [],
   "source": [
    "# my_string \"3+5\" 같은 문자열로된수식\n",
    "# 수식을 계산한값\n",
    "# 흠........................\n",
    "# 리스트로 만들어서 사용할수있나..?\n",
    "my_string = \"3+4\"\n"
   ]
  },
  {
   "cell_type": "code",
   "execution_count": 36,
   "metadata": {},
   "outputs": [
    {
     "data": {
      "text/plain": [
       "7"
      ]
     },
     "execution_count": 36,
     "metadata": {},
     "output_type": "execute_result"
    }
   ],
   "source": [
    "list[my_string]\n",
    "# 일단아님\n",
    "# 흠 ... 숫자를 확인할수있어도\n",
    "# 연산자는 확인을 어떻게하지?\n",
    "a=[3,4]\n",
    "sum(a)"
   ]
  },
  {
   "cell_type": "code",
   "execution_count": 81,
   "metadata": {},
   "outputs": [],
   "source": [
    "def solution(my_string):\n",
    "    answer= 0\n",
    "    a=[]\n",
    "    for i in my_string:\n",
    "        if '0'<=i<='9':\n",
    "            a.append(int(i))\n",
    "        else:\n",
    "            a.append(i)\n",
    "    for x in b:\n",
    "        if x == '+':\n",
    "            answer += sum(a) # 아... 두개가 아닐수도있구나..\n",
    "            # 그럼 len(my_string)을 돌면서\n",
    "            # 그자리수가 무엇인지 판별\n",
    "            \n",
    "        elif x == '-':\n",
    "            a[i-1] - a[i+1]\n",
    "\n",
    "            # 으아........\n",
    "                "
   ]
  },
  {
   "cell_type": "code",
   "execution_count": 63,
   "metadata": {},
   "outputs": [],
   "source": [
    "answer=0\n",
    "answer += sum(a)\n"
   ]
  },
  {
   "cell_type": "code",
   "execution_count": null,
   "metadata": {},
   "outputs": [
    {
     "data": {
      "text/plain": [
       "int"
      ]
     },
     "execution_count": 56,
     "metadata": {},
     "output_type": "execute_result"
    }
   ],
   "source": [
    "type(sum(a)) # 왜 answer 에 안합쳐지는거임..\n"
   ]
  },
  {
   "cell_type": "code",
   "execution_count": 53,
   "metadata": {},
   "outputs": [
    {
     "ename": "TypeError",
     "evalue": "unsupported operand type(s) for +: 'int' and 'str'",
     "output_type": "error",
     "traceback": [
      "\u001b[1;31m---------------------------------------------------------------------------\u001b[0m",
      "\u001b[1;31mTypeError\u001b[0m                                 Traceback (most recent call last)",
      "Cell \u001b[1;32mIn[53], line 1\u001b[0m\n\u001b[1;32m----> 1\u001b[0m \u001b[43msolution\u001b[49m\u001b[43m(\u001b[49m\u001b[43mmy_string\u001b[49m\u001b[43m)\u001b[49m\n",
      "Cell \u001b[1;32mIn[52], line 12\u001b[0m, in \u001b[0;36msolution\u001b[1;34m(my_string)\u001b[0m\n\u001b[0;32m     10\u001b[0m \u001b[38;5;28;01mfor\u001b[39;00m x \u001b[38;5;129;01min\u001b[39;00m b:\n\u001b[0;32m     11\u001b[0m     \u001b[38;5;28;01mif\u001b[39;00m x \u001b[38;5;241m==\u001b[39m \u001b[38;5;124m'\u001b[39m\u001b[38;5;124m+\u001b[39m\u001b[38;5;124m'\u001b[39m:\n\u001b[1;32m---> 12\u001b[0m         answer \u001b[38;5;241m+\u001b[39m\u001b[38;5;241m=\u001b[39m \u001b[38;5;28;43msum\u001b[39;49m\u001b[43m(\u001b[49m\u001b[43ma\u001b[49m\u001b[43m)\u001b[49m\n\u001b[0;32m     13\u001b[0m     \u001b[38;5;28;01melif\u001b[39;00m x \u001b[38;5;241m==\u001b[39m \u001b[38;5;124m'\u001b[39m\u001b[38;5;124m-\u001b[39m\u001b[38;5;124m'\u001b[39m:\n\u001b[0;32m     14\u001b[0m         a[x\u001b[38;5;241m-\u001b[39m\u001b[38;5;241m1\u001b[39m] \u001b[38;5;241m-\u001b[39m a[x\u001b[38;5;241m+\u001b[39m\u001b[38;5;241m1\u001b[39m]\n",
      "\u001b[1;31mTypeError\u001b[0m: unsupported operand type(s) for +: 'int' and 'str'"
     ]
    }
   ],
   "source": [
    "solution(my_string)"
   ]
  },
  {
   "cell_type": "code",
   "execution_count": null,
   "metadata": {},
   "outputs": [],
   "source": [
    "def solution(my_string):\n",
    "    answer= 0\n",
    "    a=[]\n",
    "    b=[]\n",
    "    for i in my_string:\n",
    "        if '0'<=i<='9':\n",
    "            a.append(i)\n",
    "        else:\n",
    "            b.append(i)\n",
    "           \n",
    "    for x in range(len(my_string)):\n",
    "        if x == '+':\n",
    "            answer += a[i+1]# 아... 두개가 아닐수도있구나..\n",
    "            # 그럼 len(my_string)을 돌면서\n",
    "            # 그자리수가 무엇인지 판별\n",
    "            \n",
    "        elif x == '-':\n",
    "           answer - a[i+1]\n",
    "# 아 \n",
    "\n"
   ]
  },
  {
   "cell_type": "code",
   "execution_count": 72,
   "metadata": {},
   "outputs": [
    {
     "ename": "UnboundLocalError",
     "evalue": "local variable 'a' referenced before assignment",
     "output_type": "error",
     "traceback": [
      "\u001b[1;31m---------------------------------------------------------------------------\u001b[0m",
      "\u001b[1;31mUnboundLocalError\u001b[0m                         Traceback (most recent call last)",
      "Cell \u001b[1;32mIn[72], line 1\u001b[0m\n\u001b[1;32m----> 1\u001b[0m \u001b[43msolution\u001b[49m\u001b[43m(\u001b[49m\u001b[43mmy_string\u001b[49m\u001b[43m)\u001b[49m\n",
      "Cell \u001b[1;32mIn[71], line 2\u001b[0m, in \u001b[0;36msolution\u001b[1;34m(my_string)\u001b[0m\n\u001b[0;32m      1\u001b[0m \u001b[38;5;28;01mdef\u001b[39;00m\u001b[38;5;250m \u001b[39m\u001b[38;5;21msolution\u001b[39m(my_string):\n\u001b[1;32m----> 2\u001b[0m     answer\u001b[38;5;241m=\u001b[39m \u001b[43ma\u001b[49m[\u001b[38;5;241m0\u001b[39m]\n\u001b[0;32m      3\u001b[0m     a\u001b[38;5;241m=\u001b[39m[]\n\u001b[0;32m      4\u001b[0m     b\u001b[38;5;241m=\u001b[39m[]\n",
      "\u001b[1;31mUnboundLocalError\u001b[0m: local variable 'a' referenced before assignment"
     ]
    }
   ],
   "source": [
    "solution(my_string)"
   ]
  },
  {
   "cell_type": "code",
   "execution_count": null,
   "metadata": {},
   "outputs": [],
   "source": [
    "# 다시\n",
    "# 그냥 임의 리스트에\n",
    "# '3 + 4 ' 예를들어\n",
    "# [3,+,4] 로 넣을수잇나>\n",
    "임시=[3,'+',4]\n",
    "임시\n",
    "# 이렇게 만들어서\n",
    "# for i in range(len(임시)):\n",
    "# 어짜피 순서대로 실행되니\n",
    "# if i == +:\n",
    "# 임시[i-1] + 임시[i+1]\n",
    "# 그렇다면\n",
    "#위에꺼 싹다버리고 문자열을 하나씩 리스트로 넣는방법\n",
    "def solution(my_string):\n",
    "    a=[]\n",
    "    for i in my_string:\n",
    "        if '0'<=i<='9':\n",
    "            a.append(int(i))\n",
    "        else:\n",
    "            a.append(i)\n",
    "    answer = a[0]\n",
    "    for i in range(1, len(a), 2):\n",
    "        if a[i] == '+':\n",
    "            answer = a[i-1] + a[i+1]\n",
    "        elif a[i] == '-':\n",
    "            answer = a[i] - a[i+1]\n",
    "    return answer\n",
    "# 틀림..\n",
    "# 질문해야겠따."
   ]
  },
  {
   "cell_type": "code",
   "execution_count": 92,
   "metadata": {},
   "outputs": [
    {
     "data": {
      "text/plain": [
       "3"
      ]
     },
     "execution_count": 92,
     "metadata": {},
     "output_type": "execute_result"
    }
   ],
   "source": [
    "a # 됐다\n",
    "len(a)"
   ]
  },
  {
   "cell_type": "code",
   "execution_count": 94,
   "metadata": {},
   "outputs": [
    {
     "data": {
      "text/plain": [
       "7"
      ]
     },
     "execution_count": 94,
     "metadata": {},
     "output_type": "execute_result"
    }
   ],
   "source": [
    "for i in range(len(a)):\n",
    "    if a[i] == '+':\n",
    "        answer = a[i-1] + a[i+1]\n",
    "    elif a[i] == '-':\n",
    "        answer = a[i] - a[i+1]\n",
    "answer"
   ]
  },
  {
   "cell_type": "code",
   "execution_count": 107,
   "metadata": {},
   "outputs": [
    {
     "data": {
      "text/plain": [
       "7"
      ]
     },
     "execution_count": 107,
     "metadata": {},
     "output_type": "execute_result"
    }
   ],
   "source": [
    "solution(my_string)"
   ]
  },
  {
   "cell_type": "markdown",
   "metadata": {},
   "source": [
    "### 스킬 체크 테스트 Level.1"
   ]
  },
  {
   "cell_type": "code",
   "execution_count": null,
   "metadata": {},
   "outputs": [
    {
     "data": {
      "text/plain": [
       "'일단 :s1s2 문자열이 0에서 59 까지\\ninput 이 \"next\" 일때\\npos + next = result\\n60초과면  m1m2: m2 +1\\n 이걸할때 m2 >5 된다면  m2 를 0으로 반환하고 m+1\\n    값이 >= video_len 비디오길이보다 크거나 같다면\\n        video_len 리턴 \\ninput 이 prev 일때\\npos + prev = result\\n    s1<0 이면 m2 -1\\n        할때 m2<1  m1-1\\n            값이 <= 0000 이라면\\n                \\'00:00\\' 리턴\\ninput 이 op_skip 일때\\n    pos < op_end 라면:\\n        op_end 리턴\\n        pos<op_start and pos>op_end 라면 \\n        print(f\\'op_skip 할수없는상태입니다\\')\\n\\n그럼 내가 해야하는건 문자열 끼리의 계산을 할수있게 하는것\\n일단 split(:) 해줘야하나?\\n\\n\\n\\n\\n'"
      ]
     },
     "execution_count": 124,
     "metadata": {},
     "output_type": "execute_result"
    }
   ],
   "source": [
    "\n",
    "# 오프닝 건너뛰기 3가지 기능\n",
    "# prev 명령 입력할 경우 10초전\n",
    "# 10초 미만인경우 처음위치 0분0초\n",
    "#  next 입력 10초후로 이동\n",
    "# 종료 10초 미만인 경우 마지막위치 = 동영상 길이\n",
    "# 오프닝 건너뛰기 현재생위치 op_start<= 현재 재생위치<=op_end\n",
    "# 자동으로 오프닝 끝나는위치\n",
    "# video_len 동영상길이 문자열\n",
    "# pos 기능의 재생위치\n",
    "# 사용자 입력을 나타내는 1차원 문자배열 commands \n",
    "# 사용자 입력끝난후 동영상위치 \"mm:ss\"\n",
    "#형식으로 리턴하는 솔루션 함수\n",
    "video_len=\"34:33\" # 영상길이\n",
    "pos = \"13:00\" # 멈춘시점\n",
    "op_start=\"00:55\" # 오프닝스타트\n",
    "op_end = \"02:55\" # 오프닝끝\n",
    "commands=[\"next\",\"prev\"]\n",
    "# next = 10초뒤\n",
    "# prev = 10초전\n",
    "# 건너뛰기는 내가 만들어야하나봄\n",
    "# op_skip = 오프닝 끝나는 시간으로\n",
    "\n",
    "# result \"13:00\"\n",
    "\n",
    "#일단 이거 실행 하게하고\n",
    "\n",
    "# video_len=\"10:55\"\n",
    "# pos = \"00:05\"\n",
    "# op_start=\"00:15\"\n",
    "# op_end = \"06:55\"\n",
    "# commands=[\"prev\",\"next\",\"next\"]\n",
    "# op_skip = 오프닝 끝나는 시간으로\n",
    " \n",
    "'''일단 :s1s2 문자열이 0에서 59 까지\n",
    "input 이 \"next\" 일때\n",
    "pos + next = result\n",
    "60초과면  m1m2: m2 +1\n",
    " 이걸할때 m2 >5 된다면  m2 를 0으로 반환하고 m+1\n",
    "    값이 >= video_len 비디오길이보다 크거나 같다면\n",
    "        video_len 리턴 \n",
    "input 이 prev 일때\n",
    "pos + prev = result\n",
    "    s1<0 이면 m2 -1\n",
    "        할때 m2<1  m1-1\n",
    "            값이 <= 0000 이라면\n",
    "                '00:00' 리턴\n",
    "input 이 op_skip 일때\n",
    "    pos < op_end 라면:\n",
    "        op_end 리턴\n",
    "        pos<op_start and pos>op_end 라면 \n",
    "        print(f'op_skip 할수없는상태입니다')\n",
    "\n",
    "그럼 내가 해야하는건 문자열 끼리의 계산을 할수있게 하는것\n",
    "일단 split(:) 해줘야하나?\n",
    "\n",
    "\n",
    "\n",
    "\n",
    "'''"
   ]
  },
  {
   "cell_type": "code",
   "execution_count": null,
   "metadata": {},
   "outputs": [],
   "source": [
    "def solution(video_len, pos, op_start, op_end, commands):\n",
    "    answer = ''\n",
    "    \n",
    "    \n",
    "    return answer"
   ]
  },
  {
   "cell_type": "code",
   "execution_count": 10,
   "metadata": {},
   "outputs": [
    {
     "name": "stdout",
     "output_type": "stream",
     "text": [
      "op_skip 할수없는상태입니다\n"
     ]
    }
   ],
   "source": [
    "print(f'op_skip 할수없는상태입니다')"
   ]
  },
  {
   "cell_type": "code",
   "execution_count": 52,
   "metadata": {},
   "outputs": [
    {
     "name": "stdout",
     "output_type": "stream",
     "text": [
      "1300\n"
     ]
    }
   ],
   "source": [
    "video_len.split(':')\n",
    "# 흠 이거말고 순서대로 for i in pos?\n",
    "pos = \"13:00\"\n",
    "s_pos=''\n",
    "for i in pos:\n",
    "    if '0' <= i <='9':\n",
    "        s_pos+=i\n",
    "        \n",
    "print(s_pos)\n",
    "        "
   ]
  },
  {
   "cell_type": "code",
   "execution_count": null,
   "metadata": {},
   "outputs": [
    {
     "data": {
      "text/plain": [
       "int"
      ]
     },
     "execution_count": 55,
     "metadata": {},
     "output_type": "execute_result"
    }
   ],
   "source": [
    "type(int(s_pos)) "
   ]
  },
  {
   "cell_type": "code",
   "execution_count": 60,
   "metadata": {},
   "outputs": [
    {
     "data": {
      "text/plain": [
       "1310"
      ]
     },
     "execution_count": 60,
     "metadata": {},
     "output_type": "execute_result"
    }
   ],
   "source": [
    "int(s_pos) + next # 와 되긴했다.\n",
    "# 그럼이걸 int(s_pos)를 pos1 로 저장"
   ]
  },
  {
   "cell_type": "code",
   "execution_count": null,
   "metadata": {},
   "outputs": [
    {
     "data": {
      "text/plain": [
       "1300"
      ]
     },
     "execution_count": 59,
     "metadata": {},
     "output_type": "execute_result"
    }
   ],
   "source": [
    "pos1=int(s_pos)\n",
    "pos1\n",
    "# 아 여기서 뭔가 잘못됐다는 생각이드는게\n",
    "# 앞뒤로 나눴어야했나?\n",
    "# 아까 스플릿처럼?\n",
    "# mm[0],mm[1]  ss[0],ss[2]?\n",
    "# 흠\n",
    "# 내가 조건을걸때 60 이상이라고 걸꺼같은데\n",
    "#  전부 60이상이나온다 int로하면\n",
    "# 다시 스플릿으로\n",
    "\n"
   ]
  },
  {
   "cell_type": "code",
   "execution_count": 8,
   "metadata": {},
   "outputs": [],
   "source": [
    "pos = \"13:50\""
   ]
  },
  {
   "cell_type": "code",
   "execution_count": 9,
   "metadata": {},
   "outputs": [
    {
     "data": {
      "text/plain": [
       "['13', '50']"
      ]
     },
     "execution_count": 9,
     "metadata": {},
     "output_type": "execute_result"
    }
   ],
   "source": [
    "ps=pos.split(':')\n",
    "ps"
   ]
  },
  {
   "cell_type": "code",
   "execution_count": 19,
   "metadata": {},
   "outputs": [
    {
     "data": {
      "text/plain": [
       "1"
      ]
     },
     "execution_count": 19,
     "metadata": {},
     "output_type": "execute_result"
    }
   ],
   "source": [
    "m1=int(ps[0][0])\n",
    "m2=int(ps[0][1])\n",
    "m1"
   ]
  },
  {
   "cell_type": "code",
   "execution_count": null,
   "metadata": {},
   "outputs": [],
   "source": [
    "ps=pos.split(':')\n",
    "m1=int(ps[0][0])\n",
    "m2=int(ps[0][1])\n",
    "s1=int(ps[1][0])\n",
    "s2=int(ps[1][1])"
   ]
  },
  {
   "cell_type": "code",
   "execution_count": 11,
   "metadata": {},
   "outputs": [
    {
     "name": "stdout",
     "output_type": "stream",
     "text": [
      "<class 'int'>\n",
      "3\n"
     ]
    }
   ],
   "source": [
    "print(type(m1))\n",
    "print(m2)"
   ]
  },
  {
   "cell_type": "code",
   "execution_count": 12,
   "metadata": {},
   "outputs": [
    {
     "name": "stdout",
     "output_type": "stream",
     "text": [
      "5\n",
      "0\n"
     ]
    }
   ],
   "source": [
    "s1=int(ps[1][0])\n",
    "s2=int(ps[1][1])\n",
    "print(s1)\n",
    "print(s2)"
   ]
  },
  {
   "cell_type": "code",
   "execution_count": 13,
   "metadata": {},
   "outputs": [
    {
     "name": "stdout",
     "output_type": "stream",
     "text": [
      "6\n",
      "4\n"
     ]
    }
   ],
   "source": [
    "s1+1 # 이런식? 으로하면되려나\n",
    "n=s1+1 # 이렇게 되면 되는거아닌가?\n",
    "p=s1-1\n",
    "print(n)\n",
    "print(p)\n",
    "\n"
   ]
  },
  {
   "cell_type": "markdown",
   "metadata": {},
   "source": []
  },
  {
   "cell_type": "code",
   "execution_count": 89,
   "metadata": {},
   "outputs": [
    {
     "data": {
      "text/plain": [
       "'일단 :s1s2 문자열이 0에서 59 까지\\ninput 이 \"next\" 일때\\npos + next = result\\n60초과면  m1m2: m2 +1\\n 이걸할때 m2 >5 된다면  m2 를 0으로 반환하고 m+1\\n    값이 >= video_len 비디오길이보다 크거나 같다면\\n        video_len 리턴 '"
      ]
     },
     "execution_count": 89,
     "metadata": {},
     "output_type": "execute_result"
    }
   ],
   "source": [
    "'''일단 :s1s2 문자열이 0에서 59 까지\n",
    "input 이 \"next\" 일때\n",
    "pos + next = result\n",
    "60초과면  m1m2: m2 +1\n",
    " 이걸할때 m2 >5 된다면  m2 를 0으로 반환하고 m+1\n",
    "    값이 >= video_len 비디오길이보다 크거나 같다면\n",
    "        video_len 리턴 '''"
   ]
  },
  {
   "cell_type": "code",
   "execution_count": 197,
   "metadata": {},
   "outputs": [
    {
     "data": {
      "text/plain": [
       "6"
      ]
     },
     "execution_count": 197,
     "metadata": {},
     "output_type": "execute_result"
    }
   ],
   "source": [
    "s1+1"
   ]
  },
  {
   "cell_type": "code",
   "execution_count": 151,
   "metadata": {},
   "outputs": [
    {
     "data": {
      "text/plain": [
       "1"
      ]
     },
     "execution_count": 151,
     "metadata": {},
     "output_type": "execute_result"
    }
   ],
   "source": [
    "s1"
   ]
  },
  {
   "cell_type": "code",
   "execution_count": 50,
   "metadata": {},
   "outputs": [],
   "source": [
    "commands=[\"next\"]\n",
    "pos = \"13:30\"\n",
    "video_len=\"34:33\"\n",
    "ps=pos.split(':')\n",
    "m1=int(ps[0][0])\n",
    "m2=int(ps[0][1])\n",
    "s1=int(ps[1][0])\n",
    "s2=int(ps[1][1])\n",
    "vl=video_len.split(\":\")\n",
    "vl1=int(vl[0] +vl[1])\n",
    "\n",
    "# 확인해보고 알게된점 결과값이 계속 커진다.\n",
    "# 한번으로 끝나지않는다.\n",
    "# 그럼 for 문으로 commands 를 돌려서 그안에 값이\n",
    "# next 인지 prev 인지 op_skip 인지 확인 ## 나중에\n",
    "#이제 프리뷰ㅜ\n"
   ]
  },
  {
   "cell_type": "markdown",
   "metadata": {},
   "source": [
    "### next"
   ]
  },
  {
   "cell_type": "code",
   "execution_count": 120,
   "metadata": {},
   "outputs": [
    {
     "name": "stdout",
     "output_type": "stream",
     "text": [
      "1310\n"
     ]
    }
   ],
   "source": [
    "# video_len=\"34:33\" # 영상길이\n",
    "# pos = \"13:00\" # 멈춘시점\n",
    "# op_start=\"00:55\" # 오프닝스타트\n",
    "# op_end = \"02:55\" # 오프닝끝\n",
    "# commands=[\"next\",\"prev\"]\n",
    "commands=[\"next\"]\n",
    "pos = \"13:00\" \n",
    "video_len=\"34:33\"\n",
    "ps=pos.split(':')\n",
    "m1=int(ps[0][0])\n",
    "m2=int(ps[0][1])\n",
    "s1=int(ps[1][0])\n",
    "s2=int(ps[1][1])\n",
    "vl=video_len.split(\":\")\n",
    "vl1=int(vl[0] +vl[1])\n",
    "answer='' \n",
    "if \"next\" in commands:\n",
    "    if s1+1<=5: # elif \n",
    "        s1 +=1\n",
    "    elif s1+1 >= 6:\n",
    "        s1 = 0  # 4랑 5랑 같은값이나옴 이거왜이럴까..\n",
    "        m2+=1   # 순서를 바꿔보면될까?\n",
    "        if m2 > 5: \n",
    "            m1+=1\n",
    "    answer = int(f\"{m1}{m2}{s1}{s2}\")\n",
    "    if answer >= vl1:\n",
    "        answer = vl1\n",
    "print(answer)\n",
    "#휴..."
   ]
  },
  {
   "cell_type": "markdown",
   "metadata": {},
   "source": [
    "### prev"
   ]
  },
  {
   "cell_type": "code",
   "execution_count": null,
   "metadata": {},
   "outputs": [],
   "source": [
    "'''input 이 prev 일때\n",
    "pos + prev = result\n",
    "    s1-1 >=0 s1-1\n",
    "    s1<0 이면 m2 -1\n",
    "\n",
    "        할때 m2<1  m1-1\n",
    "            값이 <= 0000 이라면\n",
    "                '00:00' 리턴'''"
   ]
  },
  {
   "cell_type": "code",
   "execution_count": 127,
   "metadata": {},
   "outputs": [
    {
     "name": "stdout",
     "output_type": "stream",
     "text": [
      "1250\n"
     ]
    }
   ],
   "source": [
    "commands=[\"prev\"]\n",
    "pos = \"13:00\"\n",
    "ps=pos.split(':')\n",
    "m1=int(ps[0][0])\n",
    "m2=int(ps[0][1])\n",
    "s1=int(ps[1][0])\n",
    "s2=int(ps[1][1])\n",
    "vl=video_len.split(\":\")\n",
    "vl1=int(vl[0] +vl[1])\n",
    "answer=''\n",
    "\n",
    "if \"prev\" in commands: # 여기도 마찬가지 돌리면 계속돌아감\n",
    "    if s1-1 >= 0:\n",
    "        s1-1\n",
    "    if s1-1 < 0:\n",
    "        m2 -=1\n",
    "        s1=5\n",
    "        if m2 <0:\n",
    "            m1-=1\n",
    "            m2=5\n",
    "    answer =int(f\"{m1}{m2}{s1}{s2}\")\n",
    "    if answer <=0:\n",
    "        answer ='00:00'\n",
    "print(answer)"
   ]
  },
  {
   "cell_type": "code",
   "execution_count": null,
   "metadata": {},
   "outputs": [
    {
     "name": "stdout",
     "output_type": "stream",
     "text": [
      "1300\n"
     ]
    }
   ],
   "source": [
    "commands=[\"next\"]\n",
    "pos = \"13:50\"\n",
    "answer=''\n",
    "if \"next\" in commands:\n",
    "\n",
    "    if s1+1<=5:\n",
    "        s1 +=1\n",
    "    if n >= 6:\n",
    "        m2 +=1\n",
    "        s1 = 0\n",
    "        if m2 > 5:\n",
    "            m1+=1\n",
    "    answer = int(f\"{m1}{m2}{s1}{s2}\")\n",
    "print(answer)\n",
    "# # 아 변수값을 잘못줬네...\n",
    "# # 이제 \"prev\" 랑 \"op_skip\"\n",
    "if \"prev\" in commands:\n",
    "    if p < 0:\n",
    "        m2 -=1\n",
    "        if m2 <1:\n",
    "            m1-=1\n",
    "    answer =int(f\"{m1}{m2}{s1}{s2}\")\n",
    "    if answer <0:\n",
    "        answer ='00:00'"
   ]
  },
  {
   "cell_type": "code",
   "execution_count": 117,
   "metadata": {},
   "outputs": [
    {
     "name": "stdout",
     "output_type": "stream",
     "text": [
      "<class 'int'>\n"
     ]
    }
   ],
   "source": [
    "vl=video_len.split(\":\")\n",
    "vl\n",
    "vl1=int(vl[0] +vl[1])\n",
    "print(type(vl1))"
   ]
  },
  {
   "cell_type": "code",
   "execution_count": 102,
   "metadata": {},
   "outputs": [
    {
     "name": "stdout",
     "output_type": "stream",
     "text": [
      "<class 'str'>\n"
     ]
    }
   ],
   "source": [
    "print(type(answer))"
   ]
  },
  {
   "cell_type": "markdown",
   "metadata": {},
   "source": [
    "### op_skip"
   ]
  },
  {
   "cell_type": "code",
   "execution_count": 137,
   "metadata": {},
   "outputs": [
    {
     "name": "stdout",
     "output_type": "stream",
     "text": [
      "55\n",
      "255\n"
     ]
    },
    {
     "data": {
      "text/plain": [
       "1300"
      ]
     },
     "execution_count": 137,
     "metadata": {},
     "output_type": "execute_result"
    }
   ],
   "source": [
    "video_len=\"34:33\" # 영상길이\n",
    "pos = \"13:00\" # 멈춘시점\n",
    "op_start=\"00:55\" # 오프닝스타트\n",
    "op_end = \"02:55\" # 오프닝끝\n",
    "commands=[\"next\",\"prev\"]\n",
    "o_s=op_start.split(':')\n",
    "o_e=op_end.split(':')\n",
    "#!! 갑자기 든생각\n",
    "# 내가 지금 split(':') 이걸로 여러개를 만들고있음\n",
    "# for 문을 돌려서 할수있나확인해보자\n",
    "\n",
    "os=int(o_s[0]+o_s[1])\n",
    "oe=int(o_e[0]+o_e[1])\n",
    "print(os)\n",
    "print(oe)\n",
    "o_s[0]\n",
    "ps=pos.split(':')\n",
    "ps1=int(ps[0]+ps[1])\n",
    "ps1"
   ]
  },
  {
   "cell_type": "code",
   "execution_count": null,
   "metadata": {},
   "outputs": [
    {
     "data": {
      "text/plain": [
       "\"input 이 op_skip 일때\\n    pos < op_end 라면:\\n        op_end 리턴\\n        pos<op_start and pos>op_end 라면 \\n        print(f'op_skip 할수없는상태입니다')\""
      ]
     },
     "execution_count": 128,
     "metadata": {},
     "output_type": "execute_result"
    }
   ],
   "source": [
    "'''input 이 op_skip 일때\n",
    "    pos < op_end 라면: # 아 이거때문에 헷갈렸네\n",
    "        ps=pos.split(':')\n",
    "        ps1 \n",
    "        op_end 리턴\n",
    "        pos<op_start and pos>op_end 라면 \n",
    "        print(f'op_skip 할수없는상태입니다')'''"
   ]
  },
  {
   "cell_type": "code",
   "execution_count": 138,
   "metadata": {},
   "outputs": [],
   "source": [
    "if \"op_skip\" in commands:\n",
    "    if ps1 <= oe:\n",
    "        answer=oe\n",
    "        if os>ps1 and oe<ps1:\n",
    "            print(f'skip할수 없는상태입니다.')"
   ]
  },
  {
   "cell_type": "code",
   "execution_count": 194,
   "metadata": {},
   "outputs": [
    {
     "name": "stdout",
     "output_type": "stream",
     "text": [
      "0122\n"
     ]
    }
   ],
   "source": [
    "video_len=\"34:33\" # 영상길이\n",
    "pos = \"01:01\" # 멈춘시점\n",
    "op_start=\"01:01\" # 오프닝스타트\n",
    "op_end = \"01:22\" # 오프닝끝\n",
    "commands=[\"op_skip\"]\n",
    "o_s=op_start.split(':')\n",
    "o_e=op_end.split(':')\n",
    "#!! 갑자기 든생각\n",
    "# 내가 지금 split(':') 이걸로 여러개를 만들고있음\n",
    "# for 문을 돌려서 할수있나확인해보자\n",
    "answer=''\n",
    "os=o_s[0]+o_s[1]\n",
    "oe=o_e[0]+o_e[1]\n",
    "o_s[0]\n",
    "ps=pos.split(':')\n",
    "ps1=ps[0]+ps[1]\n",
    "\n",
    "if \"op_skip\" in commands:\n",
    "    if os<= ps1 <= oe:\n",
    "        answer = oe\n",
    "    else:\n",
    "        print(f'skip할수 없는상태입니다.')\n",
    "print(answer)\n",
    "# 아.... 뒤에 00을 인식을못하네..?\n",
    "# 덧셈뺄셈은 안하니까 문자열 대소 비교 해도되나?\n",
    "# 일단 되긴했는데 문자열 대소비교는 내가봐도아닌데\n",
    "\n"
   ]
  },
  {
   "cell_type": "code",
   "execution_count": 174,
   "metadata": {},
   "outputs": [
    {
     "data": {
      "text/plain": [
       "'0100'"
      ]
     },
     "execution_count": 174,
     "metadata": {},
     "output_type": "execute_result"
    }
   ],
   "source": [
    "ps1"
   ]
  },
  {
   "cell_type": "code",
   "execution_count": 178,
   "metadata": {},
   "outputs": [
    {
     "data": {
      "text/plain": [
       "'0055'"
      ]
     },
     "execution_count": 178,
     "metadata": {},
     "output_type": "execute_result"
    }
   ],
   "source": [
    "os"
   ]
  },
  {
   "cell_type": "code",
   "execution_count": 183,
   "metadata": {},
   "outputs": [
    {
     "data": {
      "text/plain": [
       "'0255'"
      ]
     },
     "execution_count": 183,
     "metadata": {},
     "output_type": "execute_result"
    }
   ],
   "source": [
    "oe"
   ]
  },
  {
   "cell_type": "markdown",
   "metadata": {},
   "source": [
    "### 일단 써보자"
   ]
  },
  {
   "cell_type": "code",
   "execution_count": 3,
   "metadata": {},
   "outputs": [],
   "source": [
    "# 조건 \"next\" 라면 10초 증가\n",
    "# \"prev\" 라면 10초 감소\n",
    "# 그래서 난 s1 에 +1 이나 -1 하려고함.\n",
    "video_len=\"34:33\" # 영상길이\n",
    "pos = \"13:00\" # 멈춘시점\n",
    "op_start=\"00:55\" # 오프닝스타트\n",
    "op_end = \"02:55\" # 오프닝끝\n",
    "commands=[\"next\",\"prev\"]\n",
    "ps=pos.split(':')\n",
    "m1=int(ps[0][0])\n",
    "m2=int(ps[0][1])\n",
    "s1=int(ps[1][0])\n",
    "s2=int(ps[1][1])\n",
    "vl=video_len.split(\":\")\n",
    "vl1=int(vl[0] +vl[1])\n",
    "o_s=op_start.split(':')\n",
    "o_e=op_end.split(':')\n",
    "os=o_s[0]+o_s[1]\n",
    "oe=o_e[0]+o_e[1]\n",
    "o_s[0]\n",
    "ps1=ps[0]+ps[1]\n",
    "\n",
    "answer='' \n",
    "if \"next\" in commands:\n",
    "    if s1+1<=5: # elif \n",
    "        s1 +=1\n",
    "    elif s1+1 >= 6:\n",
    "        s1 = 0  # 4랑 5랑 같은값이나옴 이거왜이럴까..\n",
    "        m2+=1   # 순서를 바꿔보면될까?\n",
    "        if m2 > 5: \n",
    "            m1+=1\n",
    "    answer = int(f\"{m1}{m2}{s1}{s2}\")\n",
    "    if answer >= vl1:\n",
    "        answer = vl1\n",
    "if \"prev\" in commands: # 여기도 마찬가지 돌리면 계속돌아감\n",
    "    if s1-1 >= 0:\n",
    "        s1-=1\n",
    "    if s1-1 < 0:\n",
    "        m2 -=1\n",
    "        s1=5\n",
    "        if m2 <0:\n",
    "            m1-=1\n",
    "            m2=5\n",
    "    answer =int(f\"{m1}{m2}{s1}{s2}\")\n",
    "    if answer <=0:\n",
    "        answer ='00:00'\n",
    "\n",
    "if \"op_skip\" in commands:\n",
    "    if os<= ps1 <= oe:\n",
    "        answer = oe\n",
    "    else:\n",
    "        print(f'skip할수 없는상태입니다.')"
   ]
  },
  {
   "cell_type": "markdown",
   "metadata": {},
   "source": [
    "### 수정한거 표시 체크"
   ]
  },
  {
   "cell_type": "code",
   "execution_count": 4,
   "metadata": {},
   "outputs": [],
   "source": [
    "video_len=\"34:33\" # 영상길이\n",
    "pos = \"13:00\" # 멈춘시점\n",
    "op_start=\"00:55\" # 오프닝스타트\n",
    "op_end = \"02:55\" # 오프닝끝\n",
    "commands=[\"next\",\"prev\"]"
   ]
  },
  {
   "cell_type": "code",
   "execution_count": 5,
   "metadata": {},
   "outputs": [],
   "source": [
    "def solution(video_len, pos, op_start, op_end, commands):\n",
    "\n",
    "    ps=pos.split(':')\n",
    "    m1=int(ps[0][0])\n",
    "    m2=int(ps[0][1])\n",
    "    s1=int(ps[1][0])\n",
    "    s2=int(ps[1][1])\n",
    "    vl=video_len.split(\":\")\n",
    "    vl1=int(vl[0] +vl[1])\n",
    "    o_s=op_start.split(':')\n",
    "    o_e=op_end.split(':')\n",
    "    os=o_s[0]+o_s[1]\n",
    "    oe=o_e[0]+o_e[1]\n",
    "    o_s[0]\n",
    "    ps1=ps[0]+ps[1]\n",
    "    com=len(commands)\n",
    "\n",
    "    answer='' \n",
    "    for w in range(com):\n",
    "        if commands[w]== \"next\":\n",
    "            if s1+1<=5: # elif \n",
    "                s1 +=1\n",
    "            elif s1+1 >= 6:\n",
    "                s1 = 0  # 4랑 5랑 같은값이나옴 이거왜이럴까..\n",
    "                m2+=1   # 순서를 바꿔보면될까?\n",
    "                if m2 > 5: \n",
    "                    m1+=1\n",
    "            answer = int(f\"{m1}{m2}{s1}{s2}\")\n",
    "            if answer >= vl1:\n",
    "                answer = vl1\n",
    "        if commands[w]==\"prev\": # 여기도 마찬가지 돌리면 계속돌아감\n",
    "            if s1-1 >= 0:\n",
    "                s1-=1\n",
    "            if s1-1 < 0:\n",
    "                m2 -=1\n",
    "                s1=5\n",
    "                if m2 <0:\n",
    "                    m1-=1\n",
    "                    m2=5\n",
    "            answer =int(f\"{m1}{m2}{s1}{s2}\")\n",
    "            if answer <=0:\n",
    "                answer ='00:00'\n",
    "\n",
    "        if commands[w] == \"op_skip\" :\n",
    "            if os<= ps1 <= oe:\n",
    "                answer = oe\n",
    "            else:\n",
    "                print(f'skip할수 없는상태입니다.')\n",
    "    return answer \n",
    "        "
   ]
  },
  {
   "cell_type": "code",
   "execution_count": 6,
   "metadata": {},
   "outputs": [
    {
     "data": {
      "text/plain": [
       "1250"
      ]
     },
     "execution_count": 6,
     "metadata": {},
     "output_type": "execute_result"
    }
   ],
   "source": [
    "#제발....\n",
    "solution(video_len, pos, op_start, op_end, commands)"
   ]
  },
  {
   "cell_type": "code",
   "execution_count": 19,
   "metadata": {},
   "outputs": [],
   "source": [
    "# 수정보단 다시짜보자"
   ]
  }
 ],
 "metadata": {
  "kernelspec": {
   "display_name": "ml",
   "language": "python",
   "name": "python3"
  },
  "language_info": {
   "codemirror_mode": {
    "name": "ipython",
    "version": 3
   },
   "file_extension": ".py",
   "mimetype": "text/x-python",
   "name": "python",
   "nbconvert_exporter": "python",
   "pygments_lexer": "ipython3",
   "version": "3.9.21"
  }
 },
 "nbformat": 4,
 "nbformat_minor": 2
}
