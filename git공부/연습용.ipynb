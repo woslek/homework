{
 "cells": [
  {
   "cell_type": "markdown",
   "id": "821a13ee",
   "metadata": {},
   "source": [
    "### git"
   ]
  },
  {
   "cell_type": "code",
   "execution_count": null,
   "id": "f9e8c058",
   "metadata": {},
   "outputs": [],
   "source": [
    "#내가 알고잇는것\n",
    "\n",
    "git pull origin oooo (main)\n",
    "git add . \n",
    "git commit -m 'dd'\n",
    "git push origin oooo (main)\n",
    "# git pull origin brandch \n",
    "# 가능하다. "
   ]
  },
  {
   "cell_type": "code",
   "execution_count": null,
   "id": "2af4209f",
   "metadata": {},
   "outputs": [],
   "source": [
    "# branch 생성\n",
    "git branch ooo\n",
    "# branch 로 이동\n",
    "git chackout ooo\n",
    "# git merge ooo\n",
    "merge 는 어디 브랜치에서 merge 한다고해서 달라진다\n",
    "main 에서 merge 해도 ooo 브랜치에선 변경 없음\n",
    "# branch 충돌이 일어날 경우 = 같은파일에서 같은부분이 수정되었을때 일어남.\n",
    "# merge - 각 브랜치의 히스토리 보존 병합\n",
    "# branch 제거\n",
    "git branch -d oooo(branch name)\n"
   ]
  },
  {
   "cell_type": "code",
   "execution_count": null,
   "id": "b1017588",
   "metadata": {},
   "outputs": [],
   "source": [
    "# 기본설정\n",
    "# 사용자이름 설정\n",
    "git config --global user.name \"사용자이름\"\n",
    "# 사용자 이메일 설정      \n",
    "git config --global user.email \"이메일주소\"   \n",
    "# 설정확인\n",
    "git config --list\n",
    "\n",
    "    \n",
    "\n",
    "# 변경 내용 확인 하는것\n",
    "git status (현재상태를 확인할수있음)\n",
    "git diff (변경 내용 확인)"
   ]
  }
 ],
 "metadata": {
  "kernelspec": {
   "display_name": "crawl",
   "language": "python",
   "name": "python3"
  },
  "language_info": {
   "name": "python",
   "version": "3.9.21"
  }
 },
 "nbformat": 4,
 "nbformat_minor": 5
}
